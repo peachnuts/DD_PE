{
 "cells": [
  {
   "cell_type": "code",
   "execution_count": 1,
   "metadata": {
    "pycharm": {
     "name": "#%%\n"
    }
   },
   "outputs": [],
   "source": [
    "import os\n",
    "#list the current work dir\n",
    "os.getcwd()\n",
    "#change the current work dir\n",
    "os.chdir('/home/siyuan/Seafile//PhD-Siyuan-Niu/Publications/2022/QAOA_DD/CODE/DD_PE/')"
   ]
  },
  {
   "cell_type": "code",
   "execution_count": 2,
   "metadata": {
    "pycharm": {
     "name": "#%%\n"
    }
   },
   "outputs": [],
   "source": [
    "from networkx.generators.random_graphs import erdos_renyi_graph\n",
    "from src.QAOA.QAOA_approximation import generate_three_regular_graph, generate_graph_matrix, create_qaoa_circ, compute_expectation\n",
    "from scipy.optimize import minimize\n",
    "import numpy as np"
   ]
  },
  {
   "cell_type": "code",
   "execution_count": 3,
   "metadata": {
    "pycharm": {
     "name": "#%%\n"
    }
   },
   "outputs": [],
   "source": [
    "from qiskit import IBMQ, transpile, Aer\n",
    "IBMQ.load_account()\n",
    "provider = IBMQ.get_provider(hub='ibm-q-france', group='univ-montpellier', project='default')\n",
    "backend = provider.get_backend('ibmq_toronto')"
   ]
  },
  {
   "cell_type": "code",
   "execution_count": 4,
   "metadata": {},
   "outputs": [],
   "source": [
    "from src.tools.DD_insertion import pm_DD_sequences\n",
    "from qiskit.transpiler import PassManager, InstructionDurations\n",
    "\n",
    "durations = InstructionDurations.from_backend(backend)\n",
    "pms = pm_DD_sequences(durations)"
   ]
  },
  {
   "cell_type": "code",
   "execution_count": 5,
   "metadata": {
    "pycharm": {
     "name": "#%%\n"
    }
   },
   "outputs": [],
   "source": [
    "from src.QAOA.QAOA_approximation import get_ansatz_parm"
   ]
  },
  {
   "cell_type": "code",
   "execution_count": 6,
   "metadata": {
    "pycharm": {
     "name": "#%%\n"
    }
   },
   "outputs": [
    {
     "name": "stdout",
     "output_type": "stream",
     "text": [
      "     fun: -3.693359375\n",
      "   maxcv: 0.0\n",
      " message: 'Optimization terminated successfully.'\n",
      "    nfev: 33\n",
      "  status: 1\n",
      " success: True\n",
      "       x: array([52.12044927, 92.93027933])\n",
      "----------\n",
      "     fun: -5.3173828125\n",
      "   maxcv: 0.0\n",
      " message: 'Optimization terminated successfully.'\n",
      "    nfev: 27\n",
      "  status: 1\n",
      " success: True\n",
      "       x: array([52.14027902, 93.93254817])\n",
      "----------\n",
      "     fun: -6.0341796875\n",
      "   maxcv: 0.0\n",
      " message: 'Optimization terminated successfully.'\n",
      "    nfev: 33\n",
      "  status: 1\n",
      " success: True\n",
      "       x: array([50.97493708, 91.75939733])\n",
      "----------\n",
      "     fun: -9.2822265625\n",
      "   maxcv: 0.0\n",
      " message: 'Optimization terminated successfully.'\n",
      "    nfev: 32\n",
      "  status: 1\n",
      " success: True\n",
      "       x: array([51.43942058, 92.4067444 ])\n",
      "----------\n",
      "     fun: -9.5009765625\n",
      "   maxcv: 0.0\n",
      " message: 'Optimization terminated successfully.'\n",
      "    nfev: 35\n",
      "  status: 1\n",
      " success: True\n",
      "       x: array([52.1257119 , 92.94228148])\n",
      "----------\n"
     ]
    }
   ],
   "source": [
    "##Construct 3-regular graphs of different degree\n",
    "weight_matrices = []\n",
    "graphs = []\n",
    "circuits = []\n",
    "\n",
    "for i in range(4, 13, 2):\n",
    "    G = generate_three_regular_graph(i)\n",
    "    res = get_ansatz_parm(G)\n",
    "    print(res)\n",
    "    qc = create_qaoa_circ(G, res.x)\n",
    "    w = generate_graph_matrix(G)\n",
    "    weight_matrices.append(w)\n",
    "    graphs.append(G)\n",
    "    circuits.append(qc)\n",
    "    print('----------')"
   ]
  },
  {
   "cell_type": "code",
   "execution_count": 7,
   "metadata": {
    "pycharm": {
     "name": "#%%\n"
    }
   },
   "outputs": [
    {
     "name": "stdout",
     "output_type": "stream",
     "text": [
      "     fun: -2.0634765625\n",
      "   maxcv: 0.0\n",
      " message: 'Optimization terminated successfully.'\n",
      "    nfev: 26\n",
      "  status: 1\n",
      " success: True\n",
      "       x: array([51.48692938, 93.00036061])\n",
      "----------\n",
      "     fun: -6.861328125\n",
      "   maxcv: 0.0\n",
      " message: 'Optimization terminated successfully.'\n",
      "    nfev: 29\n",
      "  status: 1\n",
      " success: True\n",
      "       x: array([52.08505957, 92.89675027])\n",
      "----------\n",
      "     fun: -11.4970703125\n",
      "   maxcv: 0.0\n",
      " message: 'Optimization terminated successfully.'\n",
      "    nfev: 29\n",
      "  status: 1\n",
      " success: True\n",
      "       x: array([52.07542478, 92.83308516])\n",
      "----------\n",
      "     fun: -14.072265625\n",
      "   maxcv: 0.0\n",
      " message: 'Optimization terminated successfully.'\n",
      "    nfev: 32\n",
      "  status: 1\n",
      " success: True\n",
      "       x: array([49.79069762, 93.1481553 ])\n",
      "----------\n",
      "     fun: -19.521484375\n",
      "   maxcv: 0.0\n",
      " message: 'Optimization terminated successfully.'\n",
      "    nfev: 35\n",
      "  status: 1\n",
      " success: True\n",
      "       x: array([52.12625061, 90.93369183])\n",
      "----------\n"
     ]
    }
   ],
   "source": [
    "## construct randomized graph of different degree\n",
    "seed = 200\n",
    "p = 0.5\n",
    "for i in range(4, 13, 2):\n",
    "    G = erdos_renyi_graph(i, p, seed)\n",
    "    res = get_ansatz_parm(G)\n",
    "    print(res)\n",
    "    qc = create_qaoa_circ(G, res.x)\n",
    "    w = generate_graph_matrix(G)\n",
    "    weight_matrices.append(w)\n",
    "    graphs.append(G)\n",
    "    circuits.append(qc)\n",
    "    print('----------')"
   ]
  },
  {
   "cell_type": "code",
   "execution_count": 8,
   "metadata": {
    "pycharm": {
     "name": "#%%\n"
    }
   },
   "outputs": [],
   "source": [
    "## add duration of y gates which are used for DD sequences\n",
    "bconf = backend.configuration()\n",
    "for i in range(bconf.num_qubits):\n",
    "    x_duration = durations.get('x', i)\n",
    "    durations.update(InstructionDurations(\n",
    "        [('y', i, x_duration)]\n",
    "        ))\n",
    "\n",
    "    durations.update(InstructionDurations(\n",
    "        [('rx', i, x_duration)]\n",
    "        ))\n",
    "\n",
    "    durations.update(InstructionDurations(\n",
    "        [('ry', i, x_duration)]\n",
    "        ))"
   ]
  },
  {
   "cell_type": "code",
   "execution_count": 9,
   "metadata": {
    "pycharm": {
     "name": "#%%\n"
    }
   },
   "outputs": [],
   "source": [
    "# Template optimisation for RZZ gate and SWAP gate\n",
    "\n",
    "from qiskit.circuit.library.standard_gates.equivalence_library import StandardEquivalenceLibrary as std_eqlib\n",
    "\n",
    "# Transpiler passes\n",
    "from qiskit.transpiler.passes import Collect2qBlocks\n",
    "from qiskit.transpiler.passes import ConsolidateBlocks\n",
    "from qiskit.transpiler.passes import Optimize1qGatesDecomposition\n",
    "from qiskit.transpiler.passes.basis import BasisTranslator, UnrollCustomDefinitions\n",
    "from qiskit.transpiler.passes.scheduling.calibration_creators import RZXCalibrationBuilderNoEcho\n",
    "from qiskit.transpiler.passes.optimization.echo_rzx_weyl_decomposition import EchoRZXWeylDecomposition"
   ]
  },
  {
   "cell_type": "code",
   "execution_count": 10,
   "metadata": {
    "pycharm": {
     "name": "#%%\n"
    }
   },
   "outputs": [],
   "source": [
    "inst_map = backend.defaults().instruction_schedule_map\n",
    "rzx_basis = ['rzx', 'rz', 'x', 'sx']\n",
    "\n",
    "pm_pulse_efficient = PassManager(\n",
    "        [\n",
    "            # Consolidate consecutive two-qubit operations\n",
    "            Collect2qBlocks(),\n",
    "            ConsolidateBlocks(basis_gates=['rz', 'sx', 'x', 'rxx']),\n",
    "            # Rewrite circuit in terms of Cartan-decomposed echoed RZX gates\n",
    "            EchoRZXWeylDecomposition(inst_map),\n",
    "            # Calibrations for RZX gates\n",
    "            RZXCalibrationBuilderNoEcho(backend),\n",
    "            # Rewrite in rzx basis\n",
    "            UnrollCustomDefinitions(std_eqlib, rzx_basis),\n",
    "            BasisTranslator(std_eqlib, rzx_basis),\n",
    "            Optimize1qGatesDecomposition(rzx_basis)\n",
    "        ]\n",
    "    )\n"
   ]
  },
  {
   "cell_type": "code",
   "execution_count": 11,
   "metadata": {},
   "outputs": [],
   "source": [
    "from src.tools.DD_insertion import translate_circuit_to_basis, rzx_gate_recover"
   ]
  },
  {
   "cell_type": "code",
   "execution_count": null,
   "metadata": {
    "pycharm": {
     "name": "#%%\n"
    }
   },
   "outputs": [],
   "source": [
    "## combine template optimisation and dd sequences\n",
    "\n",
    "job_ids = []\n",
    "jobs = []\n",
    "\n",
    "for circuit in circuits:\n",
    "    circuit_list = []\n",
    "    seed = 1\n",
    "    transpiled_qc = transpile(circuit, backend=backend, optimization_level=3, seed_transpiler=seed)\n",
    "    circuit_list.append(transpiled_qc)\n",
    "    for pm in pms:\n",
    "        qc_transpile = pm.run(transpiled_qc)\n",
    "        qc_transpile_base = translate_circuit_to_basis(qc_transpile, bconf)\n",
    "        circuit_list.append(qc_transpile_base)\n",
    "\n",
    "    qc_pulse_efficient = pm_pulse_efficient.run(transpiled_qc)\n",
    "    qc_pulse_efficient_transpile = rzx_gate_recover(qc_pulse_efficient)\n",
    "    circuit_list.append(qc_pulse_efficient_transpile)\n",
    "\n",
    "    qc_pulse_calibrations = qc_pulse_efficient.calibrations\n",
    "    rzx_durations = []\n",
    "\n",
    "    for key, value in qc_pulse_calibrations.items():\n",
    "        rzx_duration = tuple()\n",
    "        for i, elm in value.items():\n",
    "            rzx_durations.append((elm.name, list(i[0]), elm.duration))\n",
    "    durations.update(InstructionDurations(rzx_durations))\n",
    "\n",
    "    pms2 = pm_DD_sequences(durations)\n",
    "\n",
    "    for pm in pms2:\n",
    "        qc_transpile = pm.run(qc_pulse_efficient)\n",
    "        qc_transpile_base = translate_circuit_to_basis(qc_transpile, bconf)\n",
    "        qc_transpile = rzx_gate_recover(qc_transpile_base)\n",
    "        circuit_list.append(qc_transpile)\n",
    "\n",
    "    job = backend.run(circuit_list, shots=8192)\n",
    "    jobs.append(job)\n",
    "    job_id = job.job_id()\n",
    "    print(job_id)\n",
    "    job_ids.append(job_id)"
   ]
  },
  {
   "cell_type": "code",
   "execution_count": null,
   "metadata": {
    "pycharm": {
     "name": "#%%\n"
    }
   },
   "outputs": [],
   "source": [
    "for job in job_ids:\n",
    "    print(job)"
   ]
  },
  {
   "cell_type": "code",
   "execution_count": 9,
   "metadata": {
    "pycharm": {
     "name": "#%%\n"
    }
   },
   "outputs": [],
   "source": [
    "from src.QAOA.QAOA_approximation import expectation_result, get_operator\n",
    "from qiskit.algorithms import NumPyMinimumEigensolver\n",
    "shots = 8192"
   ]
  },
  {
   "cell_type": "code",
   "execution_count": 10,
   "metadata": {
    "pycharm": {
     "name": "#%%\n"
    }
   },
   "outputs": [
    {
     "name": "stdout",
     "output_type": "stream",
     "text": [
      "--------3-regular-4----------------\n",
      "Approximation ratio of Original_ideal is 0.20361328125\n",
      "Approximation ratio of hahn_X_ideal is 0.2265625\n",
      "Approximation ratio of hahn_Y_ideal is 0.2197265625\n",
      "Approximation ratio of cp_ideal is 0.281494140625\n",
      "Approximation ratio of cpmg_ideal is 0.2425537109375\n",
      "Approximation ratio of xy4_ideal is 0.265869140625\n",
      "Approximation ratio of xy8_ideal is 0.262939453125\n",
      "Approximation ratio of xy16_ideal is 0.2406005859375\n",
      "Approximation ratio of udd_x_ideal is 0.2947998046875\n",
      "Approximation ratio of udd_y_ideal is 0.262939453125\n",
      "Approximation ratio of KDD_ideal is 0.234619140625\n",
      "Approximation ratio of Original_pe is 0.3800048828125\n",
      "Approximation ratio of hahn_X_pe is 0.3975830078125\n",
      "Approximation ratio of hahn_Y_pe is 0.38671875\n",
      "Approximation ratio of cp_pe is 0.38818359375\n",
      "Approximation ratio of cpmg_pe is 0.3834228515625\n",
      "Approximation ratio of xy4_pe is 0.392333984375\n",
      "Approximation ratio of xy8_pe is 0.382568359375\n",
      "Approximation ratio of xy16_pe is 0.3426513671875\n",
      "Approximation ratio of udd_x_pe is 0.3533935546875\n",
      "Approximation ratio of udd_y_pe is 0.3577880859375\n",
      "Approximation ratio of KDD_pe is 0.331787109375\n",
      "--------3-regular-6----------------\n",
      "Approximation ratio of Original_ideal is 0.114404296875\n",
      "Approximation ratio of hahn_X_ideal is 0.104248046875\n",
      "Approximation ratio of hahn_Y_ideal is 0.1009765625\n",
      "Approximation ratio of cp_ideal is 0.198974609375\n",
      "Approximation ratio of cpmg_ideal is 0.2013671875\n",
      "Approximation ratio of xy4_ideal is 0.196044921875\n",
      "Approximation ratio of xy8_ideal is 0.197900390625\n",
      "Approximation ratio of xy16_ideal is 0.191552734375\n",
      "Approximation ratio of udd_x_ideal is 0.203564453125\n",
      "Approximation ratio of udd_y_ideal is 0.1951171875\n",
      "Approximation ratio of KDD_ideal is 0.176904296875\n",
      "Approximation ratio of Original_pe is 0.246923828125\n",
      "Approximation ratio of hahn_X_pe is 0.23359375\n",
      "Approximation ratio of hahn_Y_pe is 0.242626953125\n",
      "Approximation ratio of cp_pe is 0.234619140625\n",
      "Approximation ratio of cpmg_pe is 0.23671875\n",
      "Approximation ratio of xy4_pe is 0.227734375\n",
      "Approximation ratio of xy8_pe is 0.248583984375\n",
      "Approximation ratio of xy16_pe is 0.23564453125\n",
      "Approximation ratio of udd_x_pe is 0.22841796875\n",
      "Approximation ratio of udd_y_pe is 0.23134765625\n",
      "Approximation ratio of KDD_pe is 0.2427734375\n",
      "--------3-regular-8----------------\n",
      "Approximation ratio of Original_ideal is -0.0062255859375\n",
      "Approximation ratio of hahn_X_ideal is 0.001373291015625\n",
      "Approximation ratio of hahn_Y_ideal is -0.00018310546875\n",
      "Approximation ratio of cp_ideal is -0.02191162109375\n",
      "Approximation ratio of cpmg_ideal is -0.00433349609375\n",
      "Approximation ratio of xy4_ideal is -0.0052490234375\n",
      "Approximation ratio of xy8_ideal is -0.002288818359375\n",
      "Approximation ratio of xy16_ideal is -0.0140380859375\n",
      "Approximation ratio of udd_x_ideal is -0.017608642578125\n",
      "Approximation ratio of udd_y_ideal is -0.0059814453125\n",
      "Approximation ratio of KDD_ideal is -0.020965576171875\n",
      "Approximation ratio of Original_pe is 0.001434326171875\n",
      "Approximation ratio of hahn_X_pe is 0.005828857421875\n",
      "Approximation ratio of hahn_Y_pe is -0.0103759765625\n",
      "Approximation ratio of cp_pe is -0.0189208984375\n",
      "Approximation ratio of cpmg_pe is -0.00982666015625\n",
      "Approximation ratio of xy4_pe is -0.01141357421875\n",
      "Approximation ratio of xy8_pe is -0.00396728515625\n",
      "Approximation ratio of xy16_pe is 0.001129150390625\n",
      "Approximation ratio of udd_x_pe is -0.0205078125\n",
      "Approximation ratio of udd_y_pe is 0.00115966796875\n",
      "Approximation ratio of KDD_pe is -0.001495361328125\n",
      "--------3-regular-10----------------\n",
      "Approximation ratio of Original_ideal is 0.05459872159090909\n",
      "Approximation ratio of hahn_X_ideal is 0.05213512073863636\n",
      "Approximation ratio of hahn_Y_ideal is 0.056640625\n",
      "Approximation ratio of cp_ideal is 0.1400479403409091\n",
      "Approximation ratio of cpmg_ideal is 0.11348100142045454\n",
      "Approximation ratio of xy4_ideal is 0.10304953835227272\n",
      "Approximation ratio of xy8_ideal is 0.09605823863636363\n",
      "Approximation ratio of xy16_ideal is 0.099853515625\n",
      "Approximation ratio of udd_x_ideal is 0.13347833806818182\n",
      "Approximation ratio of udd_y_ideal is 0.12797407670454544\n",
      "Approximation ratio of KDD_ideal is 0.07255415482954546\n",
      "Approximation ratio of Original_pe is 0.09015447443181818\n",
      "Approximation ratio of hahn_X_pe is 0.09490411931818182\n",
      "Approximation ratio of hahn_Y_pe is 0.08997691761363637\n",
      "Approximation ratio of cp_pe is 0.16892311789772727\n",
      "Approximation ratio of cpmg_pe is 0.15718217329545456\n",
      "Approximation ratio of xy4_pe is 0.1546963778409091\n",
      "Approximation ratio of xy8_pe is 0.15019087357954544\n",
      "Approximation ratio of xy16_pe is 0.13478781960227273\n",
      "Approximation ratio of udd_x_pe is 0.17888849431818182\n",
      "Approximation ratio of udd_y_pe is 0.14945845170454544\n",
      "Approximation ratio of KDD_pe is 0.1415127840909091\n",
      "--------3-regular-12----------------\n",
      "Approximation ratio of Original_ideal is -0.034144810267857144\n",
      "Approximation ratio of hahn_X_ideal is -0.0306396484375\n",
      "Approximation ratio of hahn_Y_ideal is -0.03517368861607143\n",
      "Approximation ratio of cp_ideal is 0.030064174107142856\n",
      "Approximation ratio of cpmg_ideal is 0.032749720982142856\n",
      "Approximation ratio of xy4_ideal is 0.05315290178571429\n",
      "Approximation ratio of xy8_ideal is 0.05507114955357143\n",
      "Approximation ratio of xy16_ideal is 0.04551478794642857\n",
      "Approximation ratio of udd_x_ideal is 0.054478236607142856\n",
      "Approximation ratio of udd_y_ideal is 0.051182338169642856\n",
      "Approximation ratio of KDD_ideal is 0.04295131138392857\n",
      "Approximation ratio of Original_pe is 0.0032958984375\n",
      "Approximation ratio of hahn_X_pe is 0.004743303571428571\n",
      "Approximation ratio of hahn_Y_pe is 0.007045200892857143\n",
      "Approximation ratio of cp_pe is 0.0313720703125\n",
      "Approximation ratio of cpmg_pe is 0.03391810825892857\n",
      "Approximation ratio of xy4_pe is 0.05327497209821429\n",
      "Approximation ratio of xy8_pe is 0.05763462611607143\n",
      "Approximation ratio of xy16_pe is 0.058558872767857144\n",
      "Approximation ratio of udd_x_pe is 0.06000627790178571\n",
      "Approximation ratio of udd_y_pe is 0.058750697544642856\n",
      "Approximation ratio of KDD_pe is 0.04387555803571429\n",
      "--------rand-4-0.5----------------\n",
      "Approximation ratio of Original_ideal is -0.037841796875\n",
      "Approximation ratio of hahn_X_ideal is -0.02783203125\n",
      "Approximation ratio of hahn_Y_ideal is -0.033203125\n",
      "Approximation ratio of cp_ideal is -0.0189208984375\n",
      "Approximation ratio of cpmg_ideal is -0.02490234375\n",
      "Approximation ratio of xy4_ideal is -0.019775390625\n",
      "Approximation ratio of xy8_ideal is -0.018798828125\n",
      "Approximation ratio of xy16_ideal is -0.0294189453125\n",
      "Approximation ratio of udd_x_ideal is -0.034912109375\n",
      "Approximation ratio of udd_y_ideal is -0.0494384765625\n",
      "Approximation ratio of KDD_ideal is -0.017333984375\n",
      "Approximation ratio of Original_pe is 0.04345703125\n",
      "Approximation ratio of hahn_X_pe is 0.04248046875\n",
      "Approximation ratio of hahn_Y_pe is 0.0260009765625\n",
      "Approximation ratio of cp_pe is 0.021484375\n",
      "Approximation ratio of cpmg_pe is 0.01220703125\n",
      "Approximation ratio of xy4_pe is 0.0030517578125\n",
      "Approximation ratio of xy8_pe is 0.004150390625\n",
      "Approximation ratio of xy16_pe is -0.010009765625\n",
      "Approximation ratio of udd_x_pe is 0.0218505859375\n",
      "Approximation ratio of udd_y_pe is -0.0101318359375\n",
      "Approximation ratio of KDD_pe is -0.0279541015625\n",
      "--------rand-6-0.5----------------\n",
      "Approximation ratio of Original_ideal is 0.038492838541666664\n",
      "Approximation ratio of hahn_X_ideal is 0.039225260416666664\n",
      "Approximation ratio of hahn_Y_ideal is 0.027750651041666668\n",
      "Approximation ratio of cp_ideal is 0.13130696614583334\n",
      "Approximation ratio of cpmg_ideal is 0.1165771484375\n",
      "Approximation ratio of xy4_ideal is 0.12263997395833333\n",
      "Approximation ratio of xy8_ideal is 0.10306803385416667\n",
      "Approximation ratio of xy16_ideal is 0.11539713541666667\n",
      "Approximation ratio of udd_x_ideal is 0.12711588541666666\n",
      "Approximation ratio of udd_y_ideal is 0.12674967447916666\n",
      "Approximation ratio of KDD_ideal is 0.08882649739583333\n",
      "Approximation ratio of Original_pe is 0.10819498697916667\n",
      "Approximation ratio of hahn_X_pe is 0.10355631510416667\n",
      "Approximation ratio of hahn_Y_pe is 0.10567220052083333\n",
      "Approximation ratio of cp_pe is 0.18416341145833334\n",
      "Approximation ratio of cpmg_pe is 0.1715087890625\n",
      "Approximation ratio of xy4_pe is 0.16495768229166666\n",
      "Approximation ratio of xy8_pe is 0.17671712239583334\n",
      "Approximation ratio of xy16_pe is 0.16552734375\n",
      "Approximation ratio of udd_x_pe is 0.18001302083333334\n",
      "Approximation ratio of udd_y_pe is 0.16471354166666666\n",
      "Approximation ratio of KDD_pe is 0.14742024739583334\n",
      "--------rand-8-0.5----------------\n",
      "Approximation ratio of Original_ideal is 0.0005425347222222222\n",
      "Approximation ratio of hahn_X_ideal is -0.009033203125\n",
      "Approximation ratio of hahn_Y_ideal is -0.014784071180555556\n",
      "Approximation ratio of cp_ideal is 0.05384657118055555\n",
      "Approximation ratio of cpmg_ideal is 0.06526692708333333\n",
      "Approximation ratio of xy4_ideal is 0.04763454861111111\n",
      "Approximation ratio of xy8_ideal is 0.03884548611111111\n",
      "Approximation ratio of xy16_ideal is 0.016086154513888888\n",
      "Approximation ratio of udd_x_ideal is 0.07164171006944445\n",
      "Approximation ratio of udd_y_ideal is 0.016330295138888888\n",
      "Approximation ratio of KDD_ideal is -0.049641927083333336\n",
      "Approximation ratio of Original_pe is -0.011474609375\n",
      "Approximation ratio of hahn_X_pe is -0.023111979166666668\n",
      "Approximation ratio of hahn_Y_pe is -0.016872829861111112\n",
      "Approximation ratio of cp_pe is 0.0747341579861111\n",
      "Approximation ratio of cpmg_pe is 0.08216688368055555\n",
      "Approximation ratio of xy4_pe is 0.08355034722222222\n",
      "Approximation ratio of xy8_pe is 0.0727267795138889\n",
      "Approximation ratio of xy16_pe is 0.08387586805555555\n",
      "Approximation ratio of udd_x_pe is 0.06819661458333333\n",
      "Approximation ratio of udd_y_pe is 0.08528645833333333\n",
      "Approximation ratio of KDD_pe is 0.060139973958333336\n",
      "--------rand-10-0.5----------------\n",
      "Approximation ratio of Original_ideal is -0.03542258522727273\n",
      "Approximation ratio of hahn_X_ideal is -0.027698863636363636\n",
      "Approximation ratio of hahn_Y_ideal is -0.028298117897727272\n",
      "Approximation ratio of cp_ideal is 0.023881392045454544\n",
      "Approximation ratio of cpmg_ideal is 0.007235440340909091\n",
      "Approximation ratio of xy4_ideal is 0.012983842329545454\n",
      "Approximation ratio of xy8_ideal is 0.01318359375\n",
      "Approximation ratio of xy16_ideal is 0.0029740767045454545\n",
      "Approximation ratio of udd_x_ideal is 0.009232954545454546\n",
      "Approximation ratio of udd_y_ideal is -0.0025523792613636365\n",
      "Approximation ratio of KDD_ideal is -0.018821022727272728\n",
      "Approximation ratio of Original_pe is -0.002352627840909091\n",
      "Approximation ratio of hahn_X_pe is 0.0023082386363636365\n",
      "Approximation ratio of hahn_Y_pe is -0.0023304332386363635\n",
      "Approximation ratio of cp_pe is 0.028564453125\n",
      "Approximation ratio of cpmg_pe is 0.030672940340909092\n",
      "Approximation ratio of xy4_pe is 0.027854225852272728\n",
      "Approximation ratio of xy8_pe is 0.02570134943181818\n",
      "Approximation ratio of xy16_pe is -0.004483309659090909\n",
      "Approximation ratio of udd_x_pe is 0.017955433238636364\n",
      "Approximation ratio of udd_y_pe is 0.030672940340909092\n",
      "Approximation ratio of KDD_pe is 0.007390802556818182\n",
      "--------rand-12-0.5----------------\n",
      "Approximation ratio of Original_ideal is -0.039794921875\n",
      "Approximation ratio of hahn_X_ideal is -0.0389862060546875\n",
      "Approximation ratio of hahn_Y_ideal is -0.03167724609375\n",
      "Approximation ratio of cp_ideal is 0.0203857421875\n",
      "Approximation ratio of cpmg_ideal is 0.015594482421875\n",
      "Approximation ratio of xy4_ideal is 0.0118408203125\n",
      "Approximation ratio of xy8_ideal is 0.024444580078125\n",
      "Approximation ratio of xy16_ideal is 0.01385498046875\n",
      "Approximation ratio of udd_x_ideal is 0.0177001953125\n",
      "Approximation ratio of udd_y_ideal is 0.0196990966796875\n",
      "Approximation ratio of KDD_ideal is -0.0059356689453125\n",
      "Approximation ratio of Original_pe is -0.000274658203125\n",
      "Approximation ratio of hahn_X_pe is -0.001129150390625\n",
      "Approximation ratio of hahn_Y_pe is 0.0007171630859375\n",
      "Approximation ratio of cp_pe is 0.0308074951171875\n",
      "Approximation ratio of cpmg_pe is 0.0274200439453125\n",
      "Approximation ratio of xy4_pe is 0.0325164794921875\n",
      "Approximation ratio of xy8_pe is 0.039031982421875\n",
      "Approximation ratio of xy16_pe is 0.029266357421875\n",
      "Approximation ratio of udd_x_pe is 0.0373382568359375\n",
      "Approximation ratio of udd_y_pe is 0.0325469970703125\n",
      "Approximation ratio of KDD_pe is 0.0225372314453125\n"
     ]
    }
   ],
   "source": [
    "name = ['Original_ideal', 'hahn_X_ideal', 'hahn_Y_ideal', 'cp_ideal', 'cpmg_ideal', 'xy4_ideal', 'xy8_ideal', 'xy16_ideal', 'udd_x_ideal', 'udd_y_ideal', 'KDD_ideal',\n",
    "        'Original_pe', 'hahn_X_pe', 'hahn_Y_pe', 'cp_pe', 'cpmg_pe', 'xy4_pe', 'xy8_pe', 'xy16_pe', 'udd_x_pe', 'udd_y_pe', 'KDD_pe']\n",
    "npme = NumPyMinimumEigensolver()\n",
    "\n",
    "job_ids = [\n",
    "    '62875f91aaa04c0de203f286',\n",
    "'62875f98ae55246c06464312',\n",
    "'62875fa1158b8b000894395c',\n",
    "'62875fab158b8bfb6894395d',\n",
    "'62875fbe9c97e944f42aa6f3',\n",
    "'62875fca9c97e961fd2aa6f4',\n",
    "'62875fd2158b8b6e9e94395e',\n",
    "'62875fdfe2f2781006fbb404',\n",
    "'62875ff1aaa04c88fe03f28a',\n",
    "'628760072cf47d0f97385478',\n",
    "]\n",
    "\n",
    "graph_name = ['3-regular-4', '3-regular-6', '3-regular-8', '3-regular-10', '3-regular-12',\n",
    "              'rand-4-0.5', 'rand-6-0.5', 'rand-8-0.5', 'rand-10-0.5', 'rand-12-0.5',]\n",
    "\n",
    "graph_ratio_results = {}\n",
    "\n",
    "\n",
    "results_data = {}\n",
    "for idx, job_id in enumerate(job_ids):\n",
    "    job = backend.retrieve_job(job_id)\n",
    "    counts = job.result().get_counts()\n",
    "    qubit_op, offset, pauli_list = get_operator(weight_matrices[idx])\n",
    "\n",
    "    approximation_ratios = {}\n",
    "    exp_val_classical = npme.compute_minimum_eigenvalue(qubit_op).eigenvalue.real\n",
    "    print(f'--------{graph_name[idx]}----------------')\n",
    "\n",
    "\n",
    "    approx_ratios =  []\n",
    "    for i, count in enumerate(counts):\n",
    "        exp_val_counts = expectation_result(count, shots, pauli_list)\n",
    "        # print(f'The expectation value of {name[i]} is {exp_val_counts}')\n",
    "\n",
    "        approximation_ratio = exp_val_counts / exp_val_classical\n",
    "        approx_ratios.append(approximation_ratio)\n",
    "        approximation_ratios[name[i]] = approximation_ratio\n",
    "        print(f'Approximation ratio of {name[i]} is {approximation_ratio}')\n",
    "    results_data[graph_name[idx]] = approx_ratios\n",
    "    graph_ratio_results[graph_name[idx]] = approximation_ratios\n"
   ]
  },
  {
   "cell_type": "code",
   "execution_count": 11,
   "metadata": {
    "pycharm": {
     "name": "#%%\n"
    }
   },
   "outputs": [
    {
     "name": "stdout",
     "output_type": "stream",
     "text": [
      "{'3-regular-4': [0.20361328125, 0.2265625, 0.2197265625, 0.281494140625, 0.2425537109375, 0.265869140625, 0.262939453125, 0.2406005859375, 0.2947998046875, 0.262939453125, 0.234619140625, 0.3800048828125, 0.3975830078125, 0.38671875, 0.38818359375, 0.3834228515625, 0.392333984375, 0.382568359375, 0.3426513671875, 0.3533935546875, 0.3577880859375, 0.331787109375], '3-regular-6': [0.114404296875, 0.104248046875, 0.1009765625, 0.198974609375, 0.2013671875, 0.196044921875, 0.197900390625, 0.191552734375, 0.203564453125, 0.1951171875, 0.176904296875, 0.246923828125, 0.23359375, 0.242626953125, 0.234619140625, 0.23671875, 0.227734375, 0.248583984375, 0.23564453125, 0.22841796875, 0.23134765625, 0.2427734375], '3-regular-8': [-0.0062255859375, 0.001373291015625, -0.00018310546875, -0.02191162109375, -0.00433349609375, -0.0052490234375, -0.002288818359375, -0.0140380859375, -0.017608642578125, -0.0059814453125, -0.020965576171875, 0.001434326171875, 0.005828857421875, -0.0103759765625, -0.0189208984375, -0.00982666015625, -0.01141357421875, -0.00396728515625, 0.001129150390625, -0.0205078125, 0.00115966796875, -0.001495361328125], '3-regular-10': [0.05459872159090909, 0.05213512073863636, 0.056640625, 0.1400479403409091, 0.11348100142045454, 0.10304953835227272, 0.09605823863636363, 0.099853515625, 0.13347833806818182, 0.12797407670454544, 0.07255415482954546, 0.09015447443181818, 0.09490411931818182, 0.08997691761363637, 0.16892311789772727, 0.15718217329545456, 0.1546963778409091, 0.15019087357954544, 0.13478781960227273, 0.17888849431818182, 0.14945845170454544, 0.1415127840909091], '3-regular-12': [-0.034144810267857144, -0.0306396484375, -0.03517368861607143, 0.030064174107142856, 0.032749720982142856, 0.05315290178571429, 0.05507114955357143, 0.04551478794642857, 0.054478236607142856, 0.051182338169642856, 0.04295131138392857, 0.0032958984375, 0.004743303571428571, 0.007045200892857143, 0.0313720703125, 0.03391810825892857, 0.05327497209821429, 0.05763462611607143, 0.058558872767857144, 0.06000627790178571, 0.058750697544642856, 0.04387555803571429], 'rand-4-0.5': [-0.037841796875, -0.02783203125, -0.033203125, -0.0189208984375, -0.02490234375, -0.019775390625, -0.018798828125, -0.0294189453125, -0.034912109375, -0.0494384765625, -0.017333984375, 0.04345703125, 0.04248046875, 0.0260009765625, 0.021484375, 0.01220703125, 0.0030517578125, 0.004150390625, -0.010009765625, 0.0218505859375, -0.0101318359375, -0.0279541015625], 'rand-6-0.5': [0.038492838541666664, 0.039225260416666664, 0.027750651041666668, 0.13130696614583334, 0.1165771484375, 0.12263997395833333, 0.10306803385416667, 0.11539713541666667, 0.12711588541666666, 0.12674967447916666, 0.08882649739583333, 0.10819498697916667, 0.10355631510416667, 0.10567220052083333, 0.18416341145833334, 0.1715087890625, 0.16495768229166666, 0.17671712239583334, 0.16552734375, 0.18001302083333334, 0.16471354166666666, 0.14742024739583334], 'rand-8-0.5': [0.0005425347222222222, -0.009033203125, -0.014784071180555556, 0.05384657118055555, 0.06526692708333333, 0.04763454861111111, 0.03884548611111111, 0.016086154513888888, 0.07164171006944445, 0.016330295138888888, -0.049641927083333336, -0.011474609375, -0.023111979166666668, -0.016872829861111112, 0.0747341579861111, 0.08216688368055555, 0.08355034722222222, 0.0727267795138889, 0.08387586805555555, 0.06819661458333333, 0.08528645833333333, 0.060139973958333336], 'rand-10-0.5': [-0.03542258522727273, -0.027698863636363636, -0.028298117897727272, 0.023881392045454544, 0.007235440340909091, 0.012983842329545454, 0.01318359375, 0.0029740767045454545, 0.009232954545454546, -0.0025523792613636365, -0.018821022727272728, -0.002352627840909091, 0.0023082386363636365, -0.0023304332386363635, 0.028564453125, 0.030672940340909092, 0.027854225852272728, 0.02570134943181818, -0.004483309659090909, 0.017955433238636364, 0.030672940340909092, 0.007390802556818182], 'rand-12-0.5': [-0.039794921875, -0.0389862060546875, -0.03167724609375, 0.0203857421875, 0.015594482421875, 0.0118408203125, 0.024444580078125, 0.01385498046875, 0.0177001953125, 0.0196990966796875, -0.0059356689453125, -0.000274658203125, -0.001129150390625, 0.0007171630859375, 0.0308074951171875, 0.0274200439453125, 0.0325164794921875, 0.039031982421875, 0.029266357421875, 0.0373382568359375, 0.0325469970703125, 0.0225372314453125]}\n"
     ]
    }
   ],
   "source": [
    "print(results_data)"
   ]
  },
  {
   "cell_type": "code",
   "execution_count": null,
   "metadata": {
    "pycharm": {
     "name": "#%%\n"
    }
   },
   "outputs": [],
   "source": [
    "graph_name = ['3-regular-4', '3-regular-6', '3-regular-8', '3-regular-10', '3-regular-12',\n",
    "              'rand-4-0.5', 'rand-6-0.5', 'rand-8-0.5', 'rand-10-0.5', 'rand-12-0.5',]\n",
    "import numpy as np\n",
    "import matplotlib.pyplot as plt\n",
    "baseline = []\n",
    "\n",
    "# name = ['Baseline', 'cp', 'cpmgl', 'xy4', 'xy8', 'xy16', 'udd_x_', 'udd_y', 'kdd',\n",
    "#         'PE', 'cp_pe', 'cpmg_pe', 'xy4_pe', 'xy8_pe', 'xy16_pe', 'udd_x_pe', 'udd_y_pe','kdd_pe']\n",
    "\n",
    "data = []\n",
    "for name in graph_name:\n",
    "    result_data = results_data[name]\n",
    "    baseline.append(result_data[0])\n",
    "    ratio = [i - result_data[0] for i in result_data[1:]]\n",
    "    data.append(ratio)\n",
    "\n",
    "\n",
    "data = np.array(data)\n",
    "# hahn = data[:, 0]\n",
    "cp = data[:, 2]\n",
    "cpmg = data[:, 3]\n",
    "xy4 = data[:, 4]\n",
    "xy8 = data[:, 5]\n",
    "xy16 = data[:, 6]\n",
    "udd_X = data[:, 7]\n",
    "udd_Y = data[:, 8]\n",
    "kdd = data[:, 9]\n",
    "\n",
    "pe = data[:, 10]\n",
    "# hahn_to = data[:, 10]\n",
    "cp_pe = data[:, 13]\n",
    "cpmg_pe = data[:, 14]\n",
    "xy4_pe = data[:, 15]\n",
    "xy8_pe = data[:, 16]\n",
    "xy16_pe = data[:, 17]\n",
    "udd_X_pe = data[:, 18]\n",
    "udd_Y_pe = data[:, 19]\n",
    "kdd_pe = data[:, 20]\n",
    "\n",
    "graph_name_x = ['3-reg-4', '3-reg-6', '3-reg-8', '3-reg-10', '3-reg-12',\n",
    "              'rand-4-0.5', 'rand-6-0.5', 'rand-8-0.5', 'rand-10-0.5', 'rand-12-0.5',]\n",
    "x_ticks = graph_name_x\n",
    "X = np.arange(len(x_ticks))\n",
    "\n",
    "from matplotlib.pyplot import figure\n",
    "fig = figure(num=None, figsize=(8, 6), dpi=600, facecolor='w', edgecolor='k')\n",
    "ax = fig.add_axes([0,0,1,1])\n",
    "\n",
    "# plt.plot(X, hahn, linestyle='--', marker='o', color='g', label='hahn')\n",
    "plt.scatter(X, cp, s=50, marker='o', color='orange', label='cp')\n",
    "plt.scatter(X, cpmg, s=50, marker='.', color='b', label='cpmg')\n",
    "plt.scatter(X, xy4, s=50, marker='^', color='r', label='xy4')\n",
    "plt.scatter(X, xy8, s=50, marker='X', color='g', label='xy8')\n",
    "plt.scatter(X, xy16, s=50, marker='h', color='c', label='xy16')\n",
    "plt.scatter(X, udd_X, s=50, marker='d', color='y', label='udd_x')\n",
    "plt.scatter(X, udd_Y, s=50, marker='+', color='k', label='udd_y')\n",
    "plt.scatter(X, kdd, s=50, marker='*', color='m', label='kdd')\n",
    "# plt.plot(X, pe, linestyle='--', marker='>', color='c', label='pe')\n",
    "# # plt.plot(X, hahn_to, linestyle='--', marker='s', color='m', label='hahn_to')\n",
    "# plt.plot(X, cp_pe, linestyle='--', marker='P', color='tab:pink', label='cp_pe')\n",
    "# plt.plot(X, cpmg_pe, linestyle='--', marker='h', color='tab:gray', label='cpmg_pe')\n",
    "# plt.plot(X, xy4_pe, linestyle='--', marker='_', color='tab:purple', label='xy4_pe')\n",
    "# plt.plot(X, xy8_pe, linestyle='--', marker='<', color='tab:cyan', label='xy8_pe')\n",
    "# plt.plot(X, xy16_pe, linestyle='--', marker='8', color='lightgreen', label='xy16_pe')\n",
    "# plt.plot(X, udd_X_pe, linestyle='--', marker='|', color='tab:brown', label='udd_x_pe')\n",
    "# plt.plot(X, udd_Y_pe, linestyle='--', marker='X', color='tab:olive', label='udd_y_pe')\n",
    "# plt.plot(X, kdd_pe, linestyle='--', marker='D', color='maroon', label='kdd_pe')\n",
    "\n",
    "plt.axhline(0, color='tab:brown', lw=2)\n",
    "\n",
    "plt.legend(loc='best', fontsize=14)\n",
    "# ax.set_title('Relative approximate ratio with only DD sequences on ibmq_toronto', fontsize=18)\n",
    "ax.set_xticks(X)\n",
    "ax.set_xticklabels(x_ticks)\n",
    "ax.set_ylabel('Relative approximation ratio', fontsize=16)\n",
    "\n",
    "plt.savefig('Relat_AR_toronto_DD_0520_TQE.pdf', bbox_inches='tight', pad_inches=0)"
   ]
  },
  {
   "cell_type": "code",
   "execution_count": null,
   "metadata": {
    "pycharm": {
     "name": "#%%\n"
    }
   },
   "outputs": [],
   "source": [
    "\n",
    "baseline = []\n",
    "\n",
    "# name = ['Baseline', 'cp', 'cpmgl', 'xy4', 'xy8', 'xy16', 'udd_x_', 'udd_y', 'kdd',\n",
    "#         'PE', 'cp_pe', 'cpmg_pe', 'xy4_pe', 'xy8_pe', 'xy16_pe', 'udd_x_pe', 'udd_y_pe','kdd_pe']\n",
    "\n",
    "data = []\n",
    "for name in graph_name:\n",
    "    result_data = results_data[name]\n",
    "    baseline.append(result_data[0])\n",
    "    ratio = [i - result_data[0] for i in result_data[1:]]\n",
    "    data.append(ratio)\n",
    "\n",
    "\n",
    "data = np.array(data)\n",
    "# hahn = data[:, 0]\n",
    "cp = data[:, 2]\n",
    "cpmg = data[:, 3]\n",
    "xy4 = data[:, 4]\n",
    "xy8 = data[:, 5]\n",
    "xy16 = data[:, 6]\n",
    "udd_X = data[:, 7]\n",
    "udd_Y = data[:, 8]\n",
    "kdd = data[:, 9]\n",
    "\n",
    "pe = data[:, 10]\n",
    "# hahn_to = data[:, 10]\n",
    "cp_pe = data[:, 13]\n",
    "cpmg_pe = data[:, 14]\n",
    "xy4_pe = data[:, 15]\n",
    "xy8_pe = data[:, 16]\n",
    "xy16_pe = data[:, 17]\n",
    "udd_X_pe = data[:, 18]\n",
    "udd_Y_pe = data[:, 19]\n",
    "kdd_pe = data[:, 20]\n",
    "\n",
    "graph_name_x = ['3-reg-4', '3-reg-6', '3-reg-8', '3-reg-10', '3-reg-12',\n",
    "              'rand-4-0.5', 'rand-6-0.5', 'rand-8-0.5', 'rand-10-0.5', 'rand-12-0.5',]\n",
    "x_ticks = graph_name_x\n",
    "X = np.arange(len(x_ticks))\n",
    "\n",
    "from matplotlib.pyplot import figure\n",
    "fig = figure(num=None, figsize=(8, 6), dpi=600, facecolor='w', edgecolor='k')\n",
    "ax = fig.add_axes([0,0,1,1])\n",
    "\n",
    "# plt.plot(X, hahn, linestyle='--', marker='o', color='g', label='hahn')\n",
    "# plt.plot(X, cp, linestyle='--', marker='x', color='orange', label='cp')\n",
    "# plt.plot(X, cpmg, linestyle='--', marker='.', color='b', label='cpmg')\n",
    "# plt.plot(X, xy4, linestyle='--', marker='^', color='r', label='xy4')\n",
    "# plt.plot(X, xy8, linestyle='--', marker='o', color='g', label='xy8')\n",
    "# plt.plot(X, xy16, linestyle='--', marker='s', color='m', label='xy16')\n",
    "# plt.plot(X, udd_X, linestyle='--', marker='d', color='y', label='udd_x')\n",
    "# plt.plot(X, udd_Y, linestyle='--', marker='+', color='k', label='udd_y')\n",
    "# plt.plot(X, kdd, linestyle='--', marker='v', color='lightcoral', label='kdd')\n",
    "plt.scatter(X, pe, s=50, marker='P', color='tab:purple', label='pe')\n",
    "# plt.plot(X, hahn_to, linestyle='--', marker='s', color='m', label='hahn_to')\n",
    "plt.scatter(X, cp_pe, s=50, marker='o', color='orange', label='cp_pe')\n",
    "plt.scatter(X, cpmg_pe, s=50, marker='.', color='b', label='cpmg_pe')\n",
    "plt.scatter(X, xy4_pe, s=50, marker='^', color='r', label='xy4_pe')\n",
    "plt.scatter(X, xy8_pe, s=50, marker='X', color='g', label='xy8_pe')\n",
    "plt.scatter(X, xy16_pe, s=50, marker='h', color='c', label='xy16_pe')\n",
    "plt.scatter(X, udd_X_pe, s=50, marker='d', color='y', label='udd_x_pe')\n",
    "plt.scatter(X, udd_Y_pe, s=50, marker='+', color='k', label='udd_y_pe')\n",
    "plt.scatter(X, kdd_pe, s=50, marker='*', color='m', label='kdd_pe')\n",
    "\n",
    "plt.axhline(0, color='tab:brown', lw=2)\n",
    "\n",
    "plt.legend(loc='best', fontsize=14)\n",
    "# ax.set_title('Relative approximate ratio with DD sequences+pulse efficient on ibmq_toronto', fontsize=18)\n",
    "ax.set_xticks(X)\n",
    "ax.set_xticklabels(x_ticks)\n",
    "ax.set_ylabel('Relative approximation ratio', fontsize=16)\n",
    "\n",
    "plt.savefig('Relat_AR_toronto_DD_pe_0520_TQE.pdf', bbox_inches='tight', pad_inches=0)"
   ]
  },
  {
   "cell_type": "code",
   "execution_count": null,
   "metadata": {
    "pycharm": {
     "name": "#%%\n"
    }
   },
   "outputs": [],
   "source": [
    "name = ['Original_ideal', 'hahn_X_ideal', 'hahn_Y_ideal', 'cp_ideal', 'cpmg_ideal', 'xy4_ideal', 'xy8_ideal', 'xy16_ideal', 'udd_x_ideal', 'udd_y_ideal', 'KDD_ideal',\n",
    "        'Original_pe', 'hahn_X_pe', 'hahn_Y_pe', 'cp_pe', 'cpmg_pe', 'xy4_pe', 'xy8_pe', 'xy16_pe', 'udd_x_pe', 'udd_y_pe', 'KDD_pe']\n",
    "for i in range(2,21):\n",
    "    print(name[i+1], data[:,i])\n",
    "    print('average of improvement:',sum(data[:,i])/len(data[:,i]))\n",
    "    print('----')"
   ]
  },
  {
   "cell_type": "code",
   "execution_count": null,
   "metadata": {
    "pycharm": {
     "name": "#%%\n"
    }
   },
   "outputs": [],
   "source": [
    "np.max(data)"
   ]
  },
  {
   "cell_type": "code",
   "execution_count": null,
   "metadata": {
    "pycharm": {
     "name": "#%%\n"
    }
   },
   "outputs": [],
   "source": [
    "#only DD max value\n",
    "np.max(data[:,2:10])"
   ]
  },
  {
   "cell_type": "code",
   "execution_count": null,
   "metadata": {
    "pycharm": {
     "name": "#%%\n"
    }
   },
   "outputs": [],
   "source": [
    "(0.1939697265625-0.09281412760416669)/0.09281412760416669"
   ]
  },
  {
   "cell_type": "code",
   "execution_count": null,
   "metadata": {
    "pycharm": {
     "name": "#%%\n"
    }
   },
   "outputs": [],
   "source": []
  }
 ],
 "metadata": {
  "kernelspec": {
   "display_name": "Python 3",
   "language": "python",
   "name": "python3"
  },
  "language_info": {
   "codemirror_mode": {
    "name": "ipython",
    "version": 3
   },
   "file_extension": ".py",
   "mimetype": "text/x-python",
   "name": "python",
   "nbconvert_exporter": "python",
   "pygments_lexer": "ipython3",
   "version": "3.8.5"
  }
 },
 "nbformat": 4,
 "nbformat_minor": 4
}
