{
 "cells": [
  {
   "cell_type": "code",
   "execution_count": 1,
   "metadata": {
    "pycharm": {
     "name": "#%%\n"
    }
   },
   "outputs": [],
   "source": [
    "import os\n",
    "#list the current work dir\n",
    "os.getcwd()\n",
    "#change the current work dir\n",
    "os.chdir('/home/siyuan/Seafile//PhD-Siyuan-Niu/Publications/2022/QAOA_DD/CODE/DD_PE/')"
   ]
  },
  {
   "cell_type": "code",
   "execution_count": 2,
   "metadata": {
    "pycharm": {
     "name": "#%%\n"
    }
   },
   "outputs": [],
   "source": [
    "from networkx.generators.random_graphs import erdos_renyi_graph\n",
    "from src.QAOA.QAOA_approximation import generate_three_regular_graph, generate_graph_matrix, create_qaoa_circ, compute_expectation\n",
    "from scipy.optimize import minimize\n",
    "import numpy as np"
   ]
  },
  {
   "cell_type": "code",
   "execution_count": 3,
   "metadata": {
    "pycharm": {
     "name": "#%%\n"
    }
   },
   "outputs": [],
   "source": [
    "from qiskit import IBMQ, transpile, Aer\n",
    "IBMQ.load_account()\n",
    "provider = IBMQ.get_provider(hub='ibm-q-france', group='univ-montpellier', project='default')\n",
    "backend = provider.get_backend('ibmq_toronto')"
   ]
  },
  {
   "cell_type": "code",
   "execution_count": 4,
   "metadata": {},
   "outputs": [],
   "source": [
    "from src.tools.DD_insertion import pm_DD_sequences\n",
    "from qiskit.transpiler import PassManager, InstructionDurations\n",
    "\n",
    "durations = InstructionDurations.from_backend(backend)\n",
    "pms = pm_DD_sequences(durations)"
   ]
  },
  {
   "cell_type": "code",
   "execution_count": 5,
   "metadata": {
    "pycharm": {
     "name": "#%%\n"
    }
   },
   "outputs": [],
   "source": [
    "from src.QAOA.QAOA_approximation import get_ansatz_parm"
   ]
  },
  {
   "cell_type": "code",
   "execution_count": 6,
   "metadata": {
    "pycharm": {
     "name": "#%%\n"
    }
   },
   "outputs": [
    {
     "name": "stdout",
     "output_type": "stream",
     "text": [
      "     fun: -3.693359375\n",
      "   maxcv: 0.0\n",
      " message: 'Optimization terminated successfully.'\n",
      "    nfev: 33\n",
      "  status: 1\n",
      " success: True\n",
      "       x: array([52.12044927, 92.93027933])\n",
      "----------\n",
      "     fun: -5.3173828125\n",
      "   maxcv: 0.0\n",
      " message: 'Optimization terminated successfully.'\n",
      "    nfev: 27\n",
      "  status: 1\n",
      " success: True\n",
      "       x: array([52.14027902, 93.93254817])\n",
      "----------\n",
      "     fun: -6.0341796875\n",
      "   maxcv: 0.0\n",
      " message: 'Optimization terminated successfully.'\n",
      "    nfev: 33\n",
      "  status: 1\n",
      " success: True\n",
      "       x: array([50.97493708, 91.75939733])\n",
      "----------\n",
      "     fun: -9.2822265625\n",
      "   maxcv: 0.0\n",
      " message: 'Optimization terminated successfully.'\n",
      "    nfev: 32\n",
      "  status: 1\n",
      " success: True\n",
      "       x: array([51.43942058, 92.4067444 ])\n",
      "----------\n",
      "     fun: -9.5009765625\n",
      "   maxcv: 0.0\n",
      " message: 'Optimization terminated successfully.'\n",
      "    nfev: 35\n",
      "  status: 1\n",
      " success: True\n",
      "       x: array([52.1257119 , 92.94228148])\n",
      "----------\n"
     ]
    }
   ],
   "source": [
    "##Construct 3-regular graphs of different degree\n",
    "weight_matrices = []\n",
    "graphs = []\n",
    "circuits = []\n",
    "\n",
    "for i in range(4, 13, 2):\n",
    "    G = generate_three_regular_graph(i)\n",
    "    res = get_ansatz_parm(G)\n",
    "    print(res)\n",
    "    qc = create_qaoa_circ(G, res.x)\n",
    "    w = generate_graph_matrix(G)\n",
    "    weight_matrices.append(w)\n",
    "    graphs.append(G)\n",
    "    circuits.append(qc)\n",
    "    print('----------')"
   ]
  },
  {
   "cell_type": "code",
   "execution_count": 7,
   "metadata": {
    "pycharm": {
     "name": "#%%\n"
    }
   },
   "outputs": [
    {
     "name": "stdout",
     "output_type": "stream",
     "text": [
      "     fun: -2.0634765625\n",
      "   maxcv: 0.0\n",
      " message: 'Optimization terminated successfully.'\n",
      "    nfev: 26\n",
      "  status: 1\n",
      " success: True\n",
      "       x: array([51.48692938, 93.00036061])\n",
      "----------\n",
      "     fun: -6.861328125\n",
      "   maxcv: 0.0\n",
      " message: 'Optimization terminated successfully.'\n",
      "    nfev: 29\n",
      "  status: 1\n",
      " success: True\n",
      "       x: array([52.08505957, 92.89675027])\n",
      "----------\n",
      "     fun: -11.4970703125\n",
      "   maxcv: 0.0\n",
      " message: 'Optimization terminated successfully.'\n",
      "    nfev: 29\n",
      "  status: 1\n",
      " success: True\n",
      "       x: array([52.07542478, 92.83308516])\n",
      "----------\n",
      "     fun: -14.072265625\n",
      "   maxcv: 0.0\n",
      " message: 'Optimization terminated successfully.'\n",
      "    nfev: 32\n",
      "  status: 1\n",
      " success: True\n",
      "       x: array([49.79069762, 93.1481553 ])\n",
      "----------\n",
      "     fun: -19.521484375\n",
      "   maxcv: 0.0\n",
      " message: 'Optimization terminated successfully.'\n",
      "    nfev: 35\n",
      "  status: 1\n",
      " success: True\n",
      "       x: array([52.12625061, 90.93369183])\n",
      "----------\n"
     ]
    }
   ],
   "source": [
    "## construct randomized graph of different degree\n",
    "seed = 200\n",
    "p = 0.5\n",
    "for i in range(4, 13, 2):\n",
    "    G = erdos_renyi_graph(i, p, seed)\n",
    "    res = get_ansatz_parm(G)\n",
    "    print(res)\n",
    "    qc = create_qaoa_circ(G, res.x)\n",
    "    w = generate_graph_matrix(G)\n",
    "    weight_matrices.append(w)\n",
    "    graphs.append(G)\n",
    "    circuits.append(qc)\n",
    "    print('----------')"
   ]
  },
  {
   "cell_type": "code",
   "execution_count": 8,
   "metadata": {
    "pycharm": {
     "name": "#%%\n"
    }
   },
   "outputs": [],
   "source": [
    "## add duration of y gates which are used for DD sequences\n",
    "bconf = backend.configuration()\n",
    "for i in range(bconf.num_qubits):\n",
    "    x_duration = durations.get('x', i)\n",
    "    durations.update(InstructionDurations(\n",
    "        [('y', i, x_duration)]\n",
    "        ))\n",
    "\n",
    "    durations.update(InstructionDurations(\n",
    "        [('rx', i, x_duration)]\n",
    "        ))\n",
    "\n",
    "    durations.update(InstructionDurations(\n",
    "        [('ry', i, x_duration)]\n",
    "        ))"
   ]
  },
  {
   "cell_type": "code",
   "execution_count": 9,
   "metadata": {
    "pycharm": {
     "name": "#%%\n"
    }
   },
   "outputs": [],
   "source": [
    "# Template optimisation for RZZ gate and SWAP gate\n",
    "\n",
    "from qiskit.circuit.library.standard_gates.equivalence_library import StandardEquivalenceLibrary as std_eqlib\n",
    "\n",
    "# Transpiler passes\n",
    "from qiskit.transpiler.passes import Collect2qBlocks\n",
    "from qiskit.transpiler.passes import ConsolidateBlocks\n",
    "from qiskit.transpiler.passes import Optimize1qGatesDecomposition\n",
    "from qiskit.transpiler.passes.basis import BasisTranslator, UnrollCustomDefinitions\n",
    "from qiskit.transpiler.passes.scheduling.calibration_creators import RZXCalibrationBuilderNoEcho\n",
    "from qiskit.transpiler.passes.optimization.echo_rzx_weyl_decomposition import EchoRZXWeylDecomposition"
   ]
  },
  {
   "cell_type": "code",
   "execution_count": 10,
   "metadata": {
    "pycharm": {
     "name": "#%%\n"
    }
   },
   "outputs": [],
   "source": [
    "inst_map = backend.defaults().instruction_schedule_map\n",
    "rzx_basis = ['rzx', 'rz', 'x', 'sx']\n",
    "\n",
    "pm_pulse_efficient = PassManager(\n",
    "        [\n",
    "            # Consolidate consecutive two-qubit operations\n",
    "            Collect2qBlocks(),\n",
    "            ConsolidateBlocks(basis_gates=['rz', 'sx', 'x', 'rxx']),\n",
    "            # Rewrite circuit in terms of Cartan-decomposed echoed RZX gates\n",
    "            EchoRZXWeylDecomposition(inst_map),\n",
    "            # Calibrations for RZX gates\n",
    "            RZXCalibrationBuilderNoEcho(backend),\n",
    "            # Rewrite in rzx basis\n",
    "            UnrollCustomDefinitions(std_eqlib, rzx_basis),\n",
    "            BasisTranslator(std_eqlib, rzx_basis),\n",
    "            Optimize1qGatesDecomposition(rzx_basis)\n",
    "        ]\n",
    "    )\n"
   ]
  },
  {
   "cell_type": "code",
   "execution_count": 11,
   "metadata": {},
   "outputs": [],
   "source": [
    "from src.tools.DD_insertion import translate_circuit_to_basis, rzx_gate_recover"
   ]
  },
  {
   "cell_type": "code",
   "execution_count": null,
   "metadata": {
    "pycharm": {
     "name": "#%%\n"
    }
   },
   "outputs": [],
   "source": [
    "## combine template optimisation and dd sequences\n",
    "\n",
    "job_ids = []\n",
    "jobs = []\n",
    "\n",
    "for circuit in circuits:\n",
    "    circuit_list = []\n",
    "    seed = 1\n",
    "    transpiled_qc = transpile(circuit, backend=backend, optimization_level=3, seed_transpiler=seed)\n",
    "    circuit_list.append(transpiled_qc)\n",
    "    for pm in pms:\n",
    "        qc_transpile = pm.run(transpiled_qc)\n",
    "        qc_transpile_base = translate_circuit_to_basis(qc_transpile, bconf)\n",
    "        circuit_list.append(qc_transpile_base)\n",
    "\n",
    "    qc_pulse_efficient = pm_pulse_efficient.run(transpiled_qc)\n",
    "    qc_pulse_efficient_transpile = rzx_gate_recover(qc_pulse_efficient)\n",
    "    circuit_list.append(qc_pulse_efficient_transpile)\n",
    "\n",
    "    qc_pulse_calibrations = qc_pulse_efficient.calibrations\n",
    "    rzx_durations = []\n",
    "\n",
    "    for key, value in qc_pulse_calibrations.items():\n",
    "        rzx_duration = tuple()\n",
    "        for i, elm in value.items():\n",
    "            rzx_durations.append((elm.name, list(i[0]), elm.duration))\n",
    "    durations.update(InstructionDurations(rzx_durations))\n",
    "\n",
    "    pms2 = pm_DD_sequences(durations)\n",
    "\n",
    "    for pm in pms2:\n",
    "        qc_transpile = pm.run(qc_pulse_efficient)\n",
    "        qc_transpile_base = translate_circuit_to_basis(qc_transpile, bconf)\n",
    "        qc_transpile = rzx_gate_recover(qc_transpile_base)\n",
    "        circuit_list.append(qc_transpile)\n",
    "\n",
    "    job = backend.run(circuit_list, shots=8192)\n",
    "    jobs.append(job)\n",
    "    job_id = job.job_id()\n",
    "    print(job_id)\n",
    "    job_ids.append(job_id)"
   ]
  },
  {
   "cell_type": "code",
   "execution_count": null,
   "metadata": {
    "pycharm": {
     "name": "#%%\n"
    }
   },
   "outputs": [],
   "source": [
    "for job in job_ids:\n",
    "    print(job)"
   ]
  },
  {
   "cell_type": "code",
   "execution_count": 15,
   "metadata": {
    "pycharm": {
     "name": "#%%\n"
    }
   },
   "outputs": [],
   "source": [
    "from src.QAOA.QAOA_approximation import expectation_result, get_operator\n",
    "from qiskit.algorithms import NumPyMinimumEigensolver\n",
    "shots = 8192"
   ]
  },
  {
   "cell_type": "code",
   "execution_count": null,
   "metadata": {
    "pycharm": {
     "name": "#%%\n"
    }
   },
   "outputs": [],
   "source": [
    "name = ['Original_ideal', 'hahn_X_ideal', 'hahn_Y_ideal', 'cp_ideal', 'cpmg_ideal', 'xy4_ideal', 'xy8_ideal', 'xy16_ideal', 'udd_x_ideal', 'udd_y_ideal', 'KDD_ideal',\n",
    "        'Original_pe', 'hahn_X_pe', 'hahn_Y_pe', 'cp_pe', 'cpmg_pe', 'xy4_pe', 'xy8_pe', 'xy16_pe', 'udd_x_pe', 'udd_y_pe', 'KDD_pe']\n",
    "npme = NumPyMinimumEigensolver()\n",
    "\n",
    "job_ids = [\n",
    "    '62875f91aaa04c0de203f286',\n",
    "'62875f98ae55246c06464312',\n",
    "'62875fa1158b8b000894395c',\n",
    "'62875fab158b8bfb6894395d',\n",
    "'62875fbe9c97e944f42aa6f3',\n",
    "'62875fca9c97e961fd2aa6f4',\n",
    "'62875fd2158b8b6e9e94395e',\n",
    "'62875fdfe2f2781006fbb404',\n",
    "'62875ff1aaa04c88fe03f28a',\n",
    "'628760072cf47d0f97385478',\n",
    "]\n",
    "\n",
    "graph_name = ['3-regular-4', '3-regular-6', '3-regular-8', '3-regular-10', '3-regular-12',\n",
    "              'rand-4-0.5', 'rand-6-0.5', 'rand-8-0.5', 'rand-10-0.5', 'rand-12-0.5',]\n",
    "\n",
    "graph_ratio_results = {}\n",
    "\n",
    "\n",
    "results_data = {}\n",
    "for idx, job_id in enumerate(job_ids):\n",
    "    job = backend.retrieve_job(job_id)\n",
    "    counts = job.result().get_counts()\n",
    "    qubit_op, offset, pauli_list = get_operator(weight_matrices[idx])\n",
    "\n",
    "    approximation_ratios = {}\n",
    "    exp_val_classical = npme.compute_minimum_eigenvalue(qubit_op).eigenvalue.real\n",
    "    print(f'--------{graph_name[idx]}----------------')\n",
    "\n",
    "\n",
    "    approx_ratios =  []\n",
    "    for i, count in enumerate(counts):\n",
    "        exp_val_counts = expectation_result(count, shots, pauli_list)\n",
    "        # print(f'The expectation value of {name[i]} is {exp_val_counts}')\n",
    "\n",
    "        approximation_ratio = exp_val_counts / exp_val_classical\n",
    "        approx_ratios.append(approximation_ratio)\n",
    "        approximation_ratios[name[i]] = approximation_ratio\n",
    "        print(f'Approximation ratio of {name[i]} is {approximation_ratio}')\n",
    "    results_data[graph_name[idx]] = approx_ratios\n",
    "    graph_ratio_results[graph_name[idx]] = approximation_ratios\n"
   ]
  },
  {
   "cell_type": "code",
   "execution_count": null,
   "metadata": {
    "pycharm": {
     "name": "#%%\n"
    }
   },
   "outputs": [],
   "source": [
    "print(results_data)"
   ]
  },
  {
   "cell_type": "code",
   "execution_count": null,
   "metadata": {
    "pycharm": {
     "name": "#%%\n"
    }
   },
   "outputs": [],
   "source": [
    "graph_name = ['3-regular-4', '3-regular-6', '3-regular-8', '3-regular-10', '3-regular-12',\n",
    "              'rand-4-0.5', 'rand-6-0.5', 'rand-8-0.5', 'rand-10-0.5', 'rand-12-0.5',]\n",
    "import numpy as np\n",
    "import matplotlib.pyplot as plt\n",
    "baseline = []\n",
    "\n",
    "# name = ['Baseline', 'cp', 'cpmgl', 'xy4', 'xy8', 'xy16', 'udd_x_', 'udd_y', 'kdd',\n",
    "#         'PE', 'cp_pe', 'cpmg_pe', 'xy4_pe', 'xy8_pe', 'xy16_pe', 'udd_x_pe', 'udd_y_pe','kdd_pe']\n",
    "\n",
    "data = []\n",
    "for name in graph_name:\n",
    "    result_data = results_data[name]\n",
    "    baseline.append(result_data[0])\n",
    "    ratio = [i - result_data[0] for i in result_data[1:]]\n",
    "    data.append(ratio)\n",
    "\n",
    "\n",
    "data = np.array(data)\n",
    "# hahn = data[:, 0]\n",
    "cp = data[:, 2]\n",
    "cpmg = data[:, 3]\n",
    "xy4 = data[:, 4]\n",
    "xy8 = data[:, 5]\n",
    "xy16 = data[:, 6]\n",
    "udd_X = data[:, 7]\n",
    "udd_Y = data[:, 8]\n",
    "kdd = data[:, 9]\n",
    "\n",
    "pe = data[:, 10]\n",
    "# hahn_to = data[:, 10]\n",
    "cp_pe = data[:, 13]\n",
    "cpmg_pe = data[:, 14]\n",
    "xy4_pe = data[:, 15]\n",
    "xy8_pe = data[:, 16]\n",
    "xy16_pe = data[:, 17]\n",
    "udd_X_pe = data[:, 18]\n",
    "udd_Y_pe = data[:, 19]\n",
    "kdd_pe = data[:, 20]\n",
    "\n",
    "graph_name_x = ['3-reg-4', '3-reg-6', '3-reg-8', '3-reg-10', '3-reg-12',\n",
    "              'rand-4-0.5', 'rand-6-0.5', 'rand-8-0.5', 'rand-10-0.5', 'rand-12-0.5',]\n",
    "x_ticks = graph_name_x\n",
    "X = np.arange(len(x_ticks))\n",
    "\n",
    "from matplotlib.pyplot import figure\n",
    "fig = figure(num=None, figsize=(8, 6), dpi=600, facecolor='w', edgecolor='k')\n",
    "ax = fig.add_axes([0,0,1,1])\n",
    "\n",
    "# plt.plot(X, hahn, linestyle='--', marker='o', color='g', label='hahn')\n",
    "plt.scatter(X, cp, s=50, marker='o', color='orange', label='cp')\n",
    "plt.scatter(X, cpmg, s=50, marker='.', color='b', label='cpmg')\n",
    "plt.scatter(X, xy4, s=50, marker='^', color='r', label='xy4')\n",
    "plt.scatter(X, xy8, s=50, marker='X', color='g', label='xy8')\n",
    "plt.scatter(X, xy16, s=50, marker='h', color='c', label='xy16')\n",
    "plt.scatter(X, udd_X, s=50, marker='d', color='y', label='udd_x')\n",
    "plt.scatter(X, udd_Y, s=50, marker='+', color='k', label='udd_y')\n",
    "plt.scatter(X, kdd, s=50, marker='*', color='m', label='kdd')\n",
    "# plt.plot(X, pe, linestyle='--', marker='>', color='c', label='pe')\n",
    "# # plt.plot(X, hahn_to, linestyle='--', marker='s', color='m', label='hahn_to')\n",
    "# plt.plot(X, cp_pe, linestyle='--', marker='P', color='tab:pink', label='cp_pe')\n",
    "# plt.plot(X, cpmg_pe, linestyle='--', marker='h', color='tab:gray', label='cpmg_pe')\n",
    "# plt.plot(X, xy4_pe, linestyle='--', marker='_', color='tab:purple', label='xy4_pe')\n",
    "# plt.plot(X, xy8_pe, linestyle='--', marker='<', color='tab:cyan', label='xy8_pe')\n",
    "# plt.plot(X, xy16_pe, linestyle='--', marker='8', color='lightgreen', label='xy16_pe')\n",
    "# plt.plot(X, udd_X_pe, linestyle='--', marker='|', color='tab:brown', label='udd_x_pe')\n",
    "# plt.plot(X, udd_Y_pe, linestyle='--', marker='X', color='tab:olive', label='udd_y_pe')\n",
    "# plt.plot(X, kdd_pe, linestyle='--', marker='D', color='maroon', label='kdd_pe')\n",
    "\n",
    "plt.axhline(0, color='tab:brown', lw=2)\n",
    "\n",
    "plt.legend(loc='best', fontsize=14)\n",
    "# ax.set_title('Relative approximate ratio with only DD sequences on ibmq_toronto', fontsize=18)\n",
    "ax.set_xticks(X)\n",
    "ax.set_xticklabels(x_ticks)\n",
    "ax.set_ylabel('Relative approximation ratio', fontsize=16)\n",
    "\n",
    "plt.savefig('Relat_AR_toronto_DD_0520_TQE.pdf', bbox_inches='tight', pad_inches=0)"
   ]
  },
  {
   "cell_type": "code",
   "execution_count": null,
   "metadata": {
    "pycharm": {
     "name": "#%%\n"
    }
   },
   "outputs": [],
   "source": [
    "\n",
    "baseline = []\n",
    "\n",
    "# name = ['Baseline', 'cp', 'cpmgl', 'xy4', 'xy8', 'xy16', 'udd_x_', 'udd_y', 'kdd',\n",
    "#         'PE', 'cp_pe', 'cpmg_pe', 'xy4_pe', 'xy8_pe', 'xy16_pe', 'udd_x_pe', 'udd_y_pe','kdd_pe']\n",
    "\n",
    "data = []\n",
    "for name in graph_name:\n",
    "    result_data = results_data[name]\n",
    "    baseline.append(result_data[0])\n",
    "    ratio = [i - result_data[0] for i in result_data[1:]]\n",
    "    data.append(ratio)\n",
    "\n",
    "\n",
    "data = np.array(data)\n",
    "# hahn = data[:, 0]\n",
    "cp = data[:, 2]\n",
    "cpmg = data[:, 3]\n",
    "xy4 = data[:, 4]\n",
    "xy8 = data[:, 5]\n",
    "xy16 = data[:, 6]\n",
    "udd_X = data[:, 7]\n",
    "udd_Y = data[:, 8]\n",
    "kdd = data[:, 9]\n",
    "\n",
    "pe = data[:, 10]\n",
    "# hahn_to = data[:, 10]\n",
    "cp_pe = data[:, 13]\n",
    "cpmg_pe = data[:, 14]\n",
    "xy4_pe = data[:, 15]\n",
    "xy8_pe = data[:, 16]\n",
    "xy16_pe = data[:, 17]\n",
    "udd_X_pe = data[:, 18]\n",
    "udd_Y_pe = data[:, 19]\n",
    "kdd_pe = data[:, 20]\n",
    "\n",
    "graph_name_x = ['3-reg-4', '3-reg-6', '3-reg-8', '3-reg-10', '3-reg-12',\n",
    "              'rand-4-0.5', 'rand-6-0.5', 'rand-8-0.5', 'rand-10-0.5', 'rand-12-0.5',]\n",
    "x_ticks = graph_name_x\n",
    "X = np.arange(len(x_ticks))\n",
    "\n",
    "from matplotlib.pyplot import figure\n",
    "fig = figure(num=None, figsize=(8, 6), dpi=600, facecolor='w', edgecolor='k')\n",
    "ax = fig.add_axes([0,0,1,1])\n",
    "\n",
    "# plt.plot(X, hahn, linestyle='--', marker='o', color='g', label='hahn')\n",
    "# plt.plot(X, cp, linestyle='--', marker='x', color='orange', label='cp')\n",
    "# plt.plot(X, cpmg, linestyle='--', marker='.', color='b', label='cpmg')\n",
    "# plt.plot(X, xy4, linestyle='--', marker='^', color='r', label='xy4')\n",
    "# plt.plot(X, xy8, linestyle='--', marker='o', color='g', label='xy8')\n",
    "# plt.plot(X, xy16, linestyle='--', marker='s', color='m', label='xy16')\n",
    "# plt.plot(X, udd_X, linestyle='--', marker='d', color='y', label='udd_x')\n",
    "# plt.plot(X, udd_Y, linestyle='--', marker='+', color='k', label='udd_y')\n",
    "# plt.plot(X, kdd, linestyle='--', marker='v', color='lightcoral', label='kdd')\n",
    "plt.scatter(X, pe, s=50, marker='P', color='tab:purple', label='pe')\n",
    "# plt.plot(X, hahn_to, linestyle='--', marker='s', color='m', label='hahn_to')\n",
    "plt.scatter(X, cp_pe, s=50, marker='o', color='orange', label='cp_pe')\n",
    "plt.scatter(X, cpmg_pe, s=50, marker='.', color='b', label='cpmg_pe')\n",
    "plt.scatter(X, xy4_pe, s=50, marker='^', color='r', label='xy4_pe')\n",
    "plt.scatter(X, xy8_pe, s=50, marker='X', color='g', label='xy8_pe')\n",
    "plt.scatter(X, xy16_pe, s=50, marker='h', color='c', label='xy16_pe')\n",
    "plt.scatter(X, udd_X_pe, s=50, marker='d', color='y', label='udd_x_pe')\n",
    "plt.scatter(X, udd_Y_pe, s=50, marker='+', color='k', label='udd_y_pe')\n",
    "plt.scatter(X, kdd_pe, s=50, marker='*', color='m', label='kdd_pe')\n",
    "\n",
    "plt.axhline(0, color='tab:brown', lw=2)\n",
    "\n",
    "plt.legend(loc='best', fontsize=14)\n",
    "# ax.set_title('Relative approximate ratio with DD sequences+pulse efficient on ibmq_toronto', fontsize=18)\n",
    "ax.set_xticks(X)\n",
    "ax.set_xticklabels(x_ticks)\n",
    "ax.set_ylabel('Relative approximation ratio', fontsize=16)\n",
    "\n",
    "plt.savefig('Relat_AR_toronto_DD_pe_0520_TQE.pdf', bbox_inches='tight', pad_inches=0)"
   ]
  },
  {
   "cell_type": "code",
   "execution_count": null,
   "metadata": {
    "pycharm": {
     "name": "#%%\n"
    }
   },
   "outputs": [],
   "source": [
    "name = ['Original_ideal', 'hahn_X_ideal', 'hahn_Y_ideal', 'cp_ideal', 'cpmg_ideal', 'xy4_ideal', 'xy8_ideal', 'xy16_ideal', 'udd_x_ideal', 'udd_y_ideal', 'KDD_ideal',\n",
    "        'Original_pe', 'hahn_X_pe', 'hahn_Y_pe', 'cp_pe', 'cpmg_pe', 'xy4_pe', 'xy8_pe', 'xy16_pe', 'udd_x_pe', 'udd_y_pe', 'KDD_pe']\n",
    "for i in range(2,21):\n",
    "    print(name[i+1], data[:,i])\n",
    "    print('average of improvement:',sum(data[:,i])/len(data[:,i]))\n",
    "    print('----')"
   ]
  },
  {
   "cell_type": "code",
   "execution_count": null,
   "metadata": {
    "pycharm": {
     "name": "#%%\n"
    }
   },
   "outputs": [],
   "source": [
    "np.max(data)"
   ]
  },
  {
   "cell_type": "code",
   "execution_count": null,
   "metadata": {
    "pycharm": {
     "name": "#%%\n"
    }
   },
   "outputs": [],
   "source": [
    "#only DD max value\n",
    "np.max(data[:,2:10])"
   ]
  },
  {
   "cell_type": "code",
   "execution_count": null,
   "metadata": {
    "pycharm": {
     "name": "#%%\n"
    }
   },
   "outputs": [],
   "source": [
    "(0.1939697265625-0.09281412760416669)/0.09281412760416669"
   ]
  },
  {
   "cell_type": "code",
   "execution_count": null,
   "metadata": {
    "pycharm": {
     "name": "#%%\n"
    }
   },
   "outputs": [],
   "source": []
  }
 ],
 "metadata": {
  "kernelspec": {
   "display_name": "Python 3",
   "language": "python",
   "name": "python3"
  },
  "language_info": {
   "codemirror_mode": {
    "name": "ipython",
    "version": 3
   },
   "file_extension": ".py",
   "mimetype": "text/x-python",
   "name": "python",
   "nbconvert_exporter": "python",
   "pygments_lexer": "ipython3",
   "version": "3.8.5"
  }
 },
 "nbformat": 4,
 "nbformat_minor": 4
}
