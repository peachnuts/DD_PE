{
 "cells": [
  {
   "cell_type": "code",
   "execution_count": 1,
   "metadata": {
    "collapsed": false,
    "jupyter": {
     "outputs_hidden": false
    },
    "pycharm": {
     "name": "#%%\n"
    }
   },
   "outputs": [],
   "source": [
    "from qiskit.transpiler import InstructionDurations\n",
    "from qiskit import IBMQ, transpile, Aer\n",
    "IBMQ.load_account()\n",
    "provider = IBMQ.get_provider(hub='ibm-q-france', group='univ-montpellier', project='default')\n",
    "backend = provider.get_backend('ibmq_jakarta')"
   ]
  },
  {
   "cell_type": "code",
   "execution_count": 2,
   "metadata": {
    "collapsed": false,
    "jupyter": {
     "outputs_hidden": false
    },
    "pycharm": {
     "name": "#%%\n"
    }
   },
   "outputs": [],
   "source": [
    "import os\n",
    "os.getcwd()\n",
    "os.chdir('/home/siyuan/Seafile/Thesis/PycharmProjects/DD_PE_paper/')"
   ]
  },
  {
   "cell_type": "code",
   "execution_count": 3,
   "metadata": {
    "collapsed": false,
    "jupyter": {
     "outputs_hidden": false
    },
    "pycharm": {
     "name": "#%%\n"
    }
   },
   "outputs": [],
   "source": [
    "from src.tools.DD_insertion import construct_bv_circuit, \\\n",
    "                                 construct_graph_matrix, \\\n",
    "                                 convert_count_to_prob, \\\n",
    "                                 translate_circuit_to_basis\n",
    "from qiskit.circuit.library import QFT, GraphState"
   ]
  },
  {
   "cell_type": "code",
   "execution_count": 4,
   "metadata": {
    "collapsed": false,
    "jupyter": {
     "outputs_hidden": false
    },
    "pycharm": {
     "name": "#%%\n"
    }
   },
   "outputs": [],
   "source": [
    "bv_circuits = []\n",
    "hs_circuits = []\n",
    "qft_circuits = []\n",
    "for i in range(3, 7):\n",
    "    bv_circuits.append(construct_bv_circuit(i))\n",
    "\n",
    "# for i in range(2, 15, 2):\n",
    "#     hs_circuits.append(construct_hs_circuit(i))\n",
    "\n",
    "for i in range(3, 7):\n",
    "    qft_circuits.append(QFT(i))\n",
    "\n",
    "for circuit in bv_circuits:\n",
    "    circuit.measure_all()\n",
    "\n",
    "# for circuit in hs_circuits:\n",
    "#     circuit.measure_all()\n",
    "\n",
    "for circuit in qft_circuits:\n",
    "    circuit.measure_all()"
   ]
  },
  {
   "cell_type": "code",
   "execution_count": 5,
   "metadata": {
    "collapsed": false,
    "jupyter": {
     "outputs_hidden": false
    },
    "pycharm": {
     "name": "#%%\n"
    }
   },
   "outputs": [],
   "source": [
    "durations = InstructionDurations.from_backend(backend)\n",
    "## add duration of y gates which are used for DD sequences\n",
    "bconf = backend.configuration()\n",
    "for i in range(bconf.num_qubits):\n",
    "    x_duration = durations.get('x', i)\n",
    "    durations.update(InstructionDurations(\n",
    "        [('y', i, x_duration)]\n",
    "        ))\n",
    "\n",
    "    durations.update(InstructionDurations(\n",
    "        [('rx', i, x_duration)]\n",
    "        ))\n",
    "\n",
    "    durations.update(InstructionDurations(\n",
    "        [('ry', i, x_duration)]\n",
    "        ))"
   ]
  },
  {
   "cell_type": "code",
   "execution_count": 6,
   "metadata": {
    "collapsed": false,
    "jupyter": {
     "outputs_hidden": false
    },
    "pycharm": {
     "name": "#%%\n"
    }
   },
   "outputs": [],
   "source": [
    "graph_state_circuits = []\n",
    "coupling_map = backend.configuration().coupling_map\n",
    "\n",
    "for i in range(3, 7):\n",
    "    gs_circuit_matrix = construct_graph_matrix(i, coupling_map)\n",
    "    graph_state_circuits.append(GraphState(gs_circuit_matrix))\n",
    "\n",
    "for circuit in graph_state_circuits:\n",
    "    circuit.measure_all()"
   ]
  },
  {
   "cell_type": "code",
   "execution_count": 8,
   "metadata": {
    "collapsed": false,
    "jupyter": {
     "outputs_hidden": false
    },
    "pycharm": {
     "name": "#%%\n"
    }
   },
   "outputs": [],
   "source": [
    "from src.tools.DD_insertion import pm_DD_sequences\n",
    "pms = pm_DD_sequences(durations)"
   ]
  },
  {
   "cell_type": "code",
   "execution_count": 8,
   "metadata": {
    "collapsed": false,
    "jupyter": {
     "outputs_hidden": false
    },
    "pycharm": {
     "name": "#%%\n"
    }
   },
   "outputs": [
    {
     "name": "stdout",
     "output_type": "stream",
     "text": [
      "if applied DD for None: False\n",
      "if applied DD for None: False\n",
      "if applied DD for None: True\n",
      "if applied DD for None: True\n",
      "if applied DD for None: True\n",
      "if applied DD for None: False\n",
      "if applied DD for None: False\n",
      "if applied DD for None: False\n",
      "if applied DD for None: False\n",
      "if applied DD for None: False\n",
      "629505eff33cdb6a622e04e5\n",
      "if applied DD for None: False\n",
      "if applied DD for None: False\n",
      "if applied DD for None: True\n",
      "if applied DD for None: True\n",
      "if applied DD for None: True\n",
      "if applied DD for None: True\n",
      "if applied DD for None: False\n",
      "if applied DD for None: True\n",
      "if applied DD for None: True\n",
      "if applied DD for None: False\n",
      "629505f11ea57f4493ebd472\n",
      "if applied DD for None: False\n",
      "if applied DD for None: False\n",
      "if applied DD for None: True\n",
      "if applied DD for None: True\n",
      "if applied DD for None: True\n",
      "if applied DD for None: True\n",
      "if applied DD for None: True\n",
      "if applied DD for None: True\n",
      "if applied DD for None: True\n",
      "if applied DD for None: True\n",
      "629505f34bb975b1efefb2de\n",
      "if applied DD for None: False\n",
      "if applied DD for None: False\n",
      "if applied DD for None: True\n",
      "if applied DD for None: True\n",
      "if applied DD for None: True\n",
      "if applied DD for None: True\n",
      "if applied DD for None: True\n",
      "if applied DD for None: True\n",
      "if applied DD for None: True\n",
      "if applied DD for None: True\n",
      "629505f53bb4af2d41b95330\n"
     ]
    }
   ],
   "source": [
    "bv_job_ids = []\n",
    "bv_jobs = []\n",
    "\n",
    "for circuit in bv_circuits:\n",
    "    circuit_list = []\n",
    "    transpiled_qc = transpile(circuit, backend=backend, optimization_level=3, seed_transpiler=1)\n",
    "    circuit_list.append(transpiled_qc)\n",
    "    for pm in pms:\n",
    "        qc_transpile = pm.run(transpiled_qc)\n",
    "        qc_transpile_base = translate_circuit_to_basis(qc_transpile, bconf)\n",
    "        circuit_list.append(qc_transpile_base)\n",
    "    job = backend.run(circuit_list, shots=8192)\n",
    "    bv_jobs.append(job)\n",
    "    job_id = job.job_id()\n",
    "    print(job_id)\n",
    "    bv_job_ids.append(job_id)"
   ]
  },
  {
   "cell_type": "code",
   "execution_count": 9,
   "metadata": {
    "collapsed": false,
    "jupyter": {
     "outputs_hidden": false
    },
    "pycharm": {
     "name": "#%%\n"
    }
   },
   "outputs": [
    {
     "name": "stdout",
     "output_type": "stream",
     "text": [
      "629505eff33cdb6a622e04e5\n",
      "629505f11ea57f4493ebd472\n",
      "629505f34bb975b1efefb2de\n",
      "629505f53bb4af2d41b95330\n"
     ]
    }
   ],
   "source": [
    "for job_id in bv_job_ids:\n",
    "    print(job_id)"
   ]
  },
  {
   "cell_type": "code",
   "execution_count": 7,
   "metadata": {
    "collapsed": false,
    "jupyter": {
     "outputs_hidden": false
    },
    "pycharm": {
     "name": "#%%\n"
    }
   },
   "outputs": [
    {
     "name": "stdout",
     "output_type": "stream",
     "text": [
      "---------Result of circuit BV3 -------------\n",
      "pst result of no_dd: 0.42724609375\n",
      "pst result of hahn_X: 0.4207763671875\n",
      "pst result of hahn_Y: 0.419921875\n",
      "pst result of CP: 0.413330078125\n",
      "pst result of CPMG: 0.427490234375\n",
      "pst result of xy4: 0.4229736328125\n",
      "pst result of xy8: 0.419677734375\n",
      "pst result of xy16: 0.4290771484375\n",
      "pst result of udd1: 0.4091796875\n",
      "pst result of udd2: 0.4234619140625\n",
      "pst result of kdd: 0.4195556640625\n",
      "---------Result of circuit BV4 -------------\n",
      "pst result of no_dd: 0.4544677734375\n",
      "pst result of hahn_X: 0.4622802734375\n",
      "pst result of hahn_Y: 0.4603271484375\n",
      "pst result of CP: 0.45849609375\n",
      "pst result of CPMG: 0.4561767578125\n",
      "pst result of xy4: 0.4505615234375\n",
      "pst result of xy8: 0.4476318359375\n",
      "pst result of xy16: 0.46337890625\n",
      "pst result of udd1: 0.446533203125\n",
      "pst result of udd2: 0.458251953125\n",
      "pst result of kdd: 0.4498291015625\n",
      "---------Result of circuit BV5 -------------\n",
      "pst result of no_dd: 0.360595703125\n",
      "pst result of hahn_X: 0.349853515625\n",
      "pst result of hahn_Y: 0.35498046875\n",
      "pst result of CP: 0.366943359375\n",
      "pst result of CPMG: 0.376708984375\n",
      "pst result of xy4: 0.3695068359375\n",
      "pst result of xy8: 0.365478515625\n",
      "pst result of xy16: 0.357666015625\n",
      "pst result of udd1: 0.373291015625\n",
      "pst result of udd2: 0.3702392578125\n",
      "pst result of kdd: 0.353515625\n",
      "---------Result of circuit BV6 -------------\n",
      "pst result of no_dd: 0.2945556640625\n",
      "pst result of hahn_X: 0.2889404296875\n",
      "pst result of hahn_Y: 0.2840576171875\n",
      "pst result of CP: 0.34521484375\n",
      "pst result of CPMG: 0.350341796875\n",
      "pst result of xy4: 0.3624267578125\n",
      "pst result of xy8: 0.348876953125\n",
      "pst result of xy16: 0.3326416015625\n",
      "pst result of udd1: 0.3502197265625\n",
      "pst result of udd2: 0.354736328125\n",
      "pst result of kdd: 0.3350830078125\n"
     ]
    }
   ],
   "source": [
    "from qiskit import execute\n",
    "\n",
    "shots = 8192\n",
    "psts = []\n",
    "bv_job_ids = [\n",
    "    '629505eff33cdb6a622e04e5',\n",
    "    '629505f11ea57f4493ebd472',\n",
    "    '629505f34bb975b1efefb2de',\n",
    "    '629505f53bb4af2d41b95330',\n",
    "\n",
    "\n",
    "]\n",
    "for i, circuit in enumerate(bv_circuits):\n",
    "    ideal_counts = execute(circuit, backend=Aer.get_backend('qasm_simulator'), shots=shots).result().get_counts()\n",
    "    ideal_result = list(ideal_counts.keys())[0]\n",
    "    result_counts = backend.retrieve_job(bv_job_ids[i]).result().get_counts()\n",
    "    pst = []\n",
    "    for result_count in result_counts:\n",
    "        obtain_results = result_count.get(ideal_result, 0)\n",
    "        pst.append(obtain_results/shots)\n",
    "    psts.append(pst)\n",
    "\n",
    "bv_circuit_names = ['BV3', 'BV4', 'BV5', 'BV6']\n",
    "DD_sequences = ['no_dd', 'hahn_X', 'hahn_Y', 'CP', 'CPMG', 'xy4', 'xy8', 'xy16', 'udd1', 'udd2', 'kdd']\n",
    "bv_results_data = {}\n",
    "\n",
    "for i, name in enumerate(bv_circuit_names):\n",
    "    print(f'---------Result of circuit {name} -------------')\n",
    "    for j, pst in enumerate(psts[i]):\n",
    "        print(f'pst result of {DD_sequences[j]}: {pst}')\n",
    "    bv_results_data[name] = psts[i]"
   ]
  },
  {
   "cell_type": "code",
   "execution_count": 8,
   "metadata": {},
   "outputs": [
    {
     "data": {
      "text/plain": [
       "{'BV3': [0.42724609375,\n",
       "  0.4207763671875,\n",
       "  0.419921875,\n",
       "  0.413330078125,\n",
       "  0.427490234375,\n",
       "  0.4229736328125,\n",
       "  0.419677734375,\n",
       "  0.4290771484375,\n",
       "  0.4091796875,\n",
       "  0.4234619140625,\n",
       "  0.4195556640625],\n",
       " 'BV4': [0.4544677734375,\n",
       "  0.4622802734375,\n",
       "  0.4603271484375,\n",
       "  0.45849609375,\n",
       "  0.4561767578125,\n",
       "  0.4505615234375,\n",
       "  0.4476318359375,\n",
       "  0.46337890625,\n",
       "  0.446533203125,\n",
       "  0.458251953125,\n",
       "  0.4498291015625],\n",
       " 'BV5': [0.360595703125,\n",
       "  0.349853515625,\n",
       "  0.35498046875,\n",
       "  0.366943359375,\n",
       "  0.376708984375,\n",
       "  0.3695068359375,\n",
       "  0.365478515625,\n",
       "  0.357666015625,\n",
       "  0.373291015625,\n",
       "  0.3702392578125,\n",
       "  0.353515625],\n",
       " 'BV6': [0.2945556640625,\n",
       "  0.2889404296875,\n",
       "  0.2840576171875,\n",
       "  0.34521484375,\n",
       "  0.350341796875,\n",
       "  0.3624267578125,\n",
       "  0.348876953125,\n",
       "  0.3326416015625,\n",
       "  0.3502197265625,\n",
       "  0.354736328125,\n",
       "  0.3350830078125]}"
      ]
     },
     "execution_count": 8,
     "metadata": {},
     "output_type": "execute_result"
    }
   ],
   "source": [
    "bv_results_data"
   ]
  },
  {
   "cell_type": "code",
   "execution_count": 9,
   "metadata": {
    "collapsed": false,
    "jupyter": {
     "outputs_hidden": false
    },
    "pycharm": {
     "name": "#%%\n"
    }
   },
   "outputs": [],
   "source": [
    "# import numpy as np\n",
    "# import matplotlib.pyplot as plt\n",
    "\n",
    "# baseline = []\n",
    "\n",
    "# data = []\n",
    "# for name in bv_circuit_names:\n",
    "#     result_data = bv_results_data[name]\n",
    "#     baseline.append(result_data[0])\n",
    "#     ratio = [i/result_data[0] for i in result_data[1:]]\n",
    "#     data.append(ratio)\n",
    "\n",
    "\n",
    "# data = np.array(data)\n",
    "\n",
    "# # hahn_X = data[:, 0]\n",
    "# # hahn_Y = data[:, 1]\n",
    "\n",
    "# cp = data[:, 2]\n",
    "# cpmg = data[:, 3]\n",
    "# xy4 = data[:, 4]\n",
    "# xy8 = data[:, 5]\n",
    "# xy16 = list(data[2:, 6])\n",
    "# xy16.insert(0, None)\n",
    "# xy16.insert(0, None)\n",
    "# udd_X = data[:, 7]\n",
    "# udd_Y = data[:, 8]\n",
    "# kdd = list(data[2:, 9])\n",
    "# kdd.insert(0, None)\n",
    "# kdd.insert(0, None)\n",
    "\n",
    "\n",
    "# x_ticks = bv_circuit_names[:]\n",
    "# X = np.arange(len(x_ticks))\n",
    "\n",
    "# from matplotlib.pyplot import figure\n",
    "# fig = figure(num=None, figsize=(8, 6), dpi=600, facecolor='w', edgecolor='k')\n",
    "# ax = fig.add_axes([0,0,1,1])\n",
    "\n",
    "# # plt.plot(X, hahn_Y, linestyle='--', marker='o', color='g', label='hahn_X')\n",
    "# # plt.plot(X, hahn_X, linestyle='--', marker='s', color='m', label='hahn_Y')\n",
    "# plt.plot(X, cp, linestyle='--', marker='o', color='orange', label='cp')\n",
    "# plt.plot(X, cpmg, linestyle='--', marker='.', color='b', label='cpmg')\n",
    "# plt.plot(X, xy4, linestyle='--', marker='^', color='r', label='xy4')\n",
    "# plt.plot(X, xy8, linestyle='--', marker='X', color='g', label='xy8')\n",
    "# plt.plot(X, xy16, linestyle='--', marker='h', color='c', label='xy16')\n",
    "# plt.plot(X, udd_X, linestyle='--', marker='d', color='y', label='udd_x')\n",
    "# plt.plot(X, udd_Y, linestyle='--', marker='+', color='k', label='udd_y')\n",
    "# plt.plot(X, kdd, linestyle='--', marker='*', color='m', label='kdd')\n",
    "# plt.axhline(1, color='tab:brown', lw=2)\n",
    "\n",
    "# plt.legend(loc='best', fontsize=16)\n",
    "# # ax.set_title('Relative PST result for BV circuit on ibmq_jakarta', fontsize=18)\n",
    "# ax.set_xticks(X)\n",
    "# ax.set_xticklabels(x_ticks, fontsize=14)\n",
    "# ax.set_ylabel('Relative PST', fontsize=16)\n",
    "# plt.savefig('TQE_Relat_PST_BV_jakarta_T_0530.pdf', bbox_inches='tight', pad_inches=0)"
   ]
  },
  {
   "cell_type": "code",
   "execution_count": 10,
   "metadata": {
    "collapsed": false,
    "jupyter": {
     "outputs_hidden": false
    },
    "pycharm": {
     "name": "#%%\n"
    }
   },
   "outputs": [
    {
     "name": "stdout",
     "output_type": "stream",
     "text": [
      "if applied DD for None: False\n",
      "if applied DD for None: False\n",
      "if applied DD for None: True\n",
      "if applied DD for None: True\n",
      "if applied DD for None: True\n",
      "if applied DD for None: True\n",
      "if applied DD for None: True\n",
      "if applied DD for None: True\n",
      "if applied DD for None: True\n",
      "if applied DD for None: True\n",
      "629505f94bb975b309efb2df\n",
      "if applied DD for None: False\n",
      "if applied DD for None: False\n",
      "if applied DD for None: True\n",
      "if applied DD for None: True\n",
      "if applied DD for None: True\n",
      "if applied DD for None: True\n",
      "if applied DD for None: True\n",
      "if applied DD for None: True\n",
      "if applied DD for None: True\n",
      "if applied DD for None: True\n",
      "629505fa1ea57f03f8ebd473\n",
      "if applied DD for None: False\n",
      "if applied DD for None: False\n",
      "if applied DD for None: True\n",
      "if applied DD for None: True\n",
      "if applied DD for None: True\n",
      "if applied DD for None: True\n",
      "if applied DD for None: True\n",
      "if applied DD for None: True\n",
      "if applied DD for None: True\n",
      "if applied DD for None: True\n",
      "629505fcf33cdb54132e04e6\n",
      "if applied DD for None: False\n",
      "if applied DD for None: False\n",
      "if applied DD for None: True\n",
      "if applied DD for None: True\n",
      "if applied DD for None: True\n",
      "if applied DD for None: True\n",
      "if applied DD for None: True\n",
      "if applied DD for None: True\n",
      "if applied DD for None: True\n",
      "if applied DD for None: True\n",
      "629505fd0212ff6250251d68\n"
     ]
    }
   ],
   "source": [
    "gs_job_ids = []\n",
    "gs_jobs = []\n",
    "\n",
    "for circuit in graph_state_circuits:\n",
    "    circuit_list = []\n",
    "    transpiled_qc = transpile(circuit, backend=backend, optimization_level=3, seed_transpiler=1)\n",
    "    circuit_list.append(transpiled_qc)\n",
    "    for pm in pms:\n",
    "        qc_transpile = pm.run(transpiled_qc)\n",
    "        qc_transpile_base = translate_circuit_to_basis(qc_transpile, bconf)\n",
    "        circuit_list.append(qc_transpile_base)\n",
    "    job = backend.run(circuit_list, shots=8192)\n",
    "    gs_jobs.append(job)\n",
    "    job_id = job.job_id()\n",
    "    print(job_id)\n",
    "    gs_job_ids.append(job_id)"
   ]
  },
  {
   "cell_type": "code",
   "execution_count": 11,
   "metadata": {
    "collapsed": false,
    "jupyter": {
     "outputs_hidden": false
    },
    "pycharm": {
     "name": "#%%\n"
    }
   },
   "outputs": [
    {
     "name": "stdout",
     "output_type": "stream",
     "text": [
      "629505f94bb975b309efb2df\n",
      "629505fa1ea57f03f8ebd473\n",
      "629505fcf33cdb54132e04e6\n",
      "629505fd0212ff6250251d68\n"
     ]
    }
   ],
   "source": [
    "for job_id in gs_job_ids:\n",
    "    print(job_id)"
   ]
  },
  {
   "cell_type": "code",
   "execution_count": 10,
   "metadata": {
    "collapsed": false,
    "jupyter": {
     "outputs_hidden": false
    },
    "pycharm": {
     "name": "#%%\n"
    }
   },
   "outputs": [
    {
     "name": "stdout",
     "output_type": "stream",
     "text": [
      "---------Result of circuit GS3 -------------\n",
      "jsd result of no_dd: 0.030037301204450834\n",
      "jsd result of hahn_X: 0.03766241418469933\n",
      "jsd result of hahn_Y: 0.03256926559306501\n",
      "jsd result of CP: 0.024253896338163813\n",
      "jsd result of CPMG: 0.05257732435511593\n",
      "jsd result of xy4: 0.05069406539267363\n",
      "jsd result of xy8: 0.037976163197479075\n",
      "jsd result of xy16: 0.0315133202146591\n",
      "jsd result of udd1: 0.028977286600599197\n",
      "jsd result of udd2: 0.05615417195680571\n",
      "jsd result of kdd: 0.030510439788566282\n",
      "---------Result of circuit GS4 -------------\n",
      "jsd result of no_dd: 0.04778873599314064\n",
      "jsd result of hahn_X: 0.048722637417287495\n",
      "jsd result of hahn_Y: 0.049830753398086715\n",
      "jsd result of CP: 0.04957881069688758\n",
      "jsd result of CPMG: 0.032324588829342964\n",
      "jsd result of xy4: 0.039863855867036405\n",
      "jsd result of xy8: 0.04138405152526706\n",
      "jsd result of xy16: 0.041474797042892544\n",
      "jsd result of udd1: 0.054629561174081784\n",
      "jsd result of udd2: 0.04610916990774221\n",
      "jsd result of kdd: 0.048723812592897424\n",
      "---------Result of circuit GS5 -------------\n",
      "jsd result of no_dd: 0.04469160820573243\n",
      "jsd result of hahn_X: 0.04494515591076114\n",
      "jsd result of hahn_Y: 0.049935679791779805\n",
      "jsd result of CP: 0.04833035149023045\n",
      "jsd result of CPMG: 0.05562785639021868\n",
      "jsd result of xy4: 0.04616349081171353\n",
      "jsd result of xy8: 0.05125640301520453\n",
      "jsd result of xy16: 0.04033397932690119\n",
      "jsd result of udd1: 0.04796712169767218\n",
      "jsd result of udd2: 0.04289843567889567\n",
      "jsd result of kdd: 0.04879070487893994\n",
      "---------Result of circuit GS6 -------------\n",
      "jsd result of no_dd: 0.062476539163625895\n",
      "jsd result of hahn_X: 0.07250766175548698\n",
      "jsd result of hahn_Y: 0.07442079587204664\n",
      "jsd result of CP: 0.07056473913764633\n",
      "jsd result of CPMG: 0.06957448418054706\n",
      "jsd result of xy4: 0.07474110878093451\n",
      "jsd result of xy8: 0.07890608985645621\n",
      "jsd result of xy16: 0.07167546440782624\n",
      "jsd result of udd1: 0.06973381780637422\n",
      "jsd result of udd2: 0.06639242621694502\n",
      "jsd result of kdd: 0.07175079406915824\n"
     ]
    }
   ],
   "source": [
    "from scipy.spatial.distance import jensenshannon\n",
    "from qiskit import execute\n",
    "gs_jsds = []\n",
    "\n",
    "gs_job_ids = [\n",
    "    '629505f94bb975b309efb2df',\n",
    "    '629505fa1ea57f03f8ebd473',\n",
    "    '629505fcf33cdb54132e04e6',\n",
    "    '629505fd0212ff6250251d68',\n",
    "]\n",
    "\n",
    "\n",
    "shots = 8192\n",
    "\n",
    "for i, circuit in enumerate(graph_state_circuits):\n",
    "    ideal_counts = execute(circuit, backend=Aer.get_backend('qasm_simulator'), shots=shots).result().get_counts()\n",
    "    result_counts = backend.retrieve_job(gs_job_ids[i]).result().get_counts()\n",
    "    jsd = []\n",
    "    for result_count in result_counts:\n",
    "        p_ideal, p_result = convert_count_to_prob(result_count, ideal_counts, shots=shots)\n",
    "        jsd.append(jensenshannon(p_ideal, p_result))\n",
    "    gs_jsds.append(jsd)\n",
    "\n",
    "circuit_names = ['GS3', 'GS4', 'GS5', 'GS6',]\n",
    "DD_sequences = ['no_dd', 'hahn_X', 'hahn_Y', 'CP', 'CPMG', 'xy4', 'xy8', 'xy16', 'udd1', 'udd2', 'kdd']\n",
    "\n",
    "gs_results_data = {}\n",
    "\n",
    "for i, name in enumerate(circuit_names):\n",
    "    print(f'---------Result of circuit {name} -------------')\n",
    "    for j, jsd in enumerate(gs_jsds[i]):\n",
    "        print(f'jsd result of {DD_sequences[j]}: {jsd}')\n",
    "    gs_results_data[name] = gs_jsds[i]"
   ]
  },
  {
   "cell_type": "code",
   "execution_count": 11,
   "metadata": {},
   "outputs": [
    {
     "data": {
      "text/plain": [
       "{'GS3': [0.030037301204450834,\n",
       "  0.03766241418469933,\n",
       "  0.03256926559306501,\n",
       "  0.024253896338163813,\n",
       "  0.05257732435511593,\n",
       "  0.05069406539267363,\n",
       "  0.037976163197479075,\n",
       "  0.0315133202146591,\n",
       "  0.028977286600599197,\n",
       "  0.05615417195680571,\n",
       "  0.030510439788566282],\n",
       " 'GS4': [0.04778873599314064,\n",
       "  0.048722637417287495,\n",
       "  0.049830753398086715,\n",
       "  0.04957881069688758,\n",
       "  0.032324588829342964,\n",
       "  0.039863855867036405,\n",
       "  0.04138405152526706,\n",
       "  0.041474797042892544,\n",
       "  0.054629561174081784,\n",
       "  0.04610916990774221,\n",
       "  0.048723812592897424],\n",
       " 'GS5': [0.04469160820573243,\n",
       "  0.04494515591076114,\n",
       "  0.049935679791779805,\n",
       "  0.04833035149023045,\n",
       "  0.05562785639021868,\n",
       "  0.04616349081171353,\n",
       "  0.05125640301520453,\n",
       "  0.04033397932690119,\n",
       "  0.04796712169767218,\n",
       "  0.04289843567889567,\n",
       "  0.04879070487893994],\n",
       " 'GS6': [0.062476539163625895,\n",
       "  0.07250766175548698,\n",
       "  0.07442079587204664,\n",
       "  0.07056473913764633,\n",
       "  0.06957448418054706,\n",
       "  0.07474110878093451,\n",
       "  0.07890608985645621,\n",
       "  0.07167546440782624,\n",
       "  0.06973381780637422,\n",
       "  0.06639242621694502,\n",
       "  0.07175079406915824]}"
      ]
     },
     "execution_count": 11,
     "metadata": {},
     "output_type": "execute_result"
    }
   ],
   "source": [
    "gs_results_data"
   ]
  },
  {
   "cell_type": "code",
   "execution_count": 12,
   "metadata": {
    "collapsed": false,
    "jupyter": {
     "outputs_hidden": false
    },
    "pycharm": {
     "name": "#%%\n"
    }
   },
   "outputs": [],
   "source": [
    "# baseline = []\n",
    "\n",
    "# data = []\n",
    "# for name in circuit_names:\n",
    "#     result_data = gs_results_data[name]\n",
    "#     baseline.append(result_data[0])\n",
    "#     ratio = [result_data[0]/i for i in result_data[1:]]\n",
    "#     data.append(ratio)\n",
    "\n",
    "\n",
    "# data = np.array(data)\n",
    "# #\n",
    "# # hahn_X = data[:, 0]\n",
    "# # hahn_Y = data[:, 1]\n",
    "# cp = data[:, 2]\n",
    "# cpmg = data[:, 3]\n",
    "# xy4 = data[:, 4]\n",
    "# xy8 = data[:, 5]\n",
    "# xy16 = data[:, 6]\n",
    "# udd_X = data[:, 7]\n",
    "# udd_Y = data[:, 8]\n",
    "# kdd = data[:, 9]\n",
    "\n",
    "# x_ticks = circuit_names\n",
    "# X = np.arange(len(x_ticks))\n",
    "\n",
    "# from matplotlib.pyplot import figure\n",
    "# fig = figure(num=None, figsize=(8, 6), dpi=600, facecolor='w', edgecolor='k')\n",
    "# ax = fig.add_axes([0,0,1,1])\n",
    "\n",
    "# # plt.plot(X, hahn_Y, linestyle='--', marker='o', color='g', label='hahn_X')\n",
    "# # plt.plot(X, hahn_X, linestyle='--', marker='s', color='m', label='hahn_Y')\n",
    "# plt.plot(X, cp, linestyle='--', marker='o', color='orange', label='cp')\n",
    "# plt.plot(X, cpmg, linestyle='--', marker='.', color='b', label='cpmg')\n",
    "# plt.plot(X, xy4, linestyle='--', marker='^', color='r', label='xy4')\n",
    "# plt.plot(X, xy8, linestyle='--', marker='X', color='g', label='xy8')\n",
    "# plt.plot(X, xy16, linestyle='--', marker='h', color='c', label='xy16')\n",
    "# plt.plot(X, udd_X, linestyle='--', marker='d', color='y', label='udd_x')\n",
    "# plt.plot(X, udd_Y, linestyle='--', marker='+', color='k', label='udd_y')\n",
    "# plt.plot(X, kdd, linestyle='--', marker='*', color='m', label='kdd')\n",
    "# plt.axhline(1, color='tab:brown', lw=2)\n",
    "\n",
    "# plt.legend(loc='best', fontsize=16)\n",
    "# # ax.set_title('Relative JSD result for GS circuit on ibmq_jakarta', fontsize=18)\n",
    "# ax.set_xticks(X)\n",
    "# ax.set_xticklabels(x_ticks, fontsize=14)\n",
    "# ax.set_ylabel('Relative JSD', fontsize=16)\n",
    "\n",
    "# plt.savefig('TQE_Relat_JSD_GS_jakarta_0530.pdf', bbox_inches='tight', pad_inches=0)"
   ]
  },
  {
   "cell_type": "code",
   "execution_count": 12,
   "metadata": {
    "collapsed": false,
    "jupyter": {
     "outputs_hidden": false
    },
    "pycharm": {
     "name": "#%%\n"
    }
   },
   "outputs": [
    {
     "name": "stdout",
     "output_type": "stream",
     "text": [
      "if applied DD for None: False\n",
      "if applied DD for None: False\n",
      "if applied DD for None: True\n",
      "if applied DD for None: True\n",
      "if applied DD for None: True\n",
      "if applied DD for None: True\n",
      "if applied DD for None: True\n",
      "if applied DD for None: True\n",
      "if applied DD for None: True\n",
      "if applied DD for None: True\n",
      "629506093bb4af0b86b95331\n",
      "if applied DD for None: False\n",
      "if applied DD for None: False\n",
      "if applied DD for None: True\n",
      "if applied DD for None: True\n",
      "if applied DD for None: True\n",
      "if applied DD for None: True\n",
      "if applied DD for None: True\n",
      "if applied DD for None: True\n",
      "if applied DD for None: True\n",
      "if applied DD for None: True\n",
      "6295060b4ad655c1359e48c2\n",
      "if applied DD for None: False\n",
      "if applied DD for None: False\n",
      "if applied DD for None: True\n",
      "if applied DD for None: True\n",
      "if applied DD for None: True\n",
      "if applied DD for None: True\n",
      "if applied DD for None: True\n",
      "if applied DD for None: True\n",
      "if applied DD for None: True\n",
      "if applied DD for None: True\n",
      "6295060d4ad65513b79e48c3\n",
      "if applied DD for None: False\n",
      "if applied DD for None: False\n",
      "if applied DD for None: True\n",
      "if applied DD for None: True\n",
      "if applied DD for None: True\n",
      "if applied DD for None: True\n",
      "if applied DD for None: True\n",
      "if applied DD for None: True\n",
      "if applied DD for None: True\n",
      "if applied DD for None: True\n",
      "629506109baeab101b4acb9c\n"
     ]
    }
   ],
   "source": [
    "qft_job_ids = []\n",
    "qft_jobs = []\n",
    "\n",
    "for circuit in qft_circuits:\n",
    "    circuit_list = []\n",
    "    transpiled_qc = transpile(circuit, backend=backend, optimization_level=3, seed_transpiler=1)\n",
    "    circuit_list.append(transpiled_qc)\n",
    "    for pm in pms:\n",
    "        qc_transpile = pm.run(transpiled_qc)\n",
    "        qc_transpile_base = translate_circuit_to_basis(qc_transpile, bconf)\n",
    "        circuit_list.append(qc_transpile_base)\n",
    "    job = backend.run(circuit_list, shots=8192)\n",
    "    qft_jobs.append(job)\n",
    "    job_id = job.job_id()\n",
    "    print(job_id)\n",
    "    qft_job_ids.append(job_id)"
   ]
  },
  {
   "cell_type": "code",
   "execution_count": 13,
   "metadata": {
    "collapsed": false,
    "jupyter": {
     "outputs_hidden": false
    },
    "pycharm": {
     "name": "#%%\n"
    }
   },
   "outputs": [
    {
     "name": "stdout",
     "output_type": "stream",
     "text": [
      "629506093bb4af0b86b95331\n",
      "6295060b4ad655c1359e48c2\n",
      "6295060d4ad65513b79e48c3\n",
      "629506109baeab101b4acb9c\n"
     ]
    }
   ],
   "source": [
    "for job_id in qft_job_ids:\n",
    "    print(job_id)"
   ]
  },
  {
   "cell_type": "code",
   "execution_count": 13,
   "metadata": {
    "collapsed": false,
    "jupyter": {
     "outputs_hidden": false
    },
    "pycharm": {
     "name": "#%%\n"
    }
   },
   "outputs": [
    {
     "name": "stdout",
     "output_type": "stream",
     "text": [
      "---------Result of circuit QFT3 -------------\n",
      "jsd result of no_dd: 0.04533960659395062\n",
      "jsd result of hahn_X: 0.04376540061741902\n",
      "jsd result of hahn_Y: 0.03860178347453528\n",
      "jsd result of CP: 0.05983897228525183\n",
      "jsd result of CPMG: 0.06706770348410941\n",
      "jsd result of xy4: 0.058423014253400324\n",
      "jsd result of xy8: 0.06656662066908137\n",
      "jsd result of xy16: 0.057086509059248454\n",
      "jsd result of udd1: 0.04884968315682228\n",
      "jsd result of udd2: 0.10329468019689698\n",
      "jsd result of kdd: 0.06025233045543813\n",
      "---------Result of circuit QFT4 -------------\n",
      "jsd result of no_dd: 0.10598115732811718\n",
      "jsd result of hahn_X: 0.10991740573070856\n",
      "jsd result of hahn_Y: 0.1085920776105441\n",
      "jsd result of CP: 0.11882171799303656\n",
      "jsd result of CPMG: 0.1068428895821114\n",
      "jsd result of xy4: 0.09179506025896578\n",
      "jsd result of xy8: 0.0948623812255495\n",
      "jsd result of xy16: 0.10315226407648943\n",
      "jsd result of udd1: 0.1136249900357584\n",
      "jsd result of udd2: 0.11238427055308246\n",
      "jsd result of kdd: 0.11076900828926331\n",
      "---------Result of circuit QFT5 -------------\n",
      "jsd result of no_dd: 0.11159894536250706\n",
      "jsd result of hahn_X: 0.11022665478234799\n",
      "jsd result of hahn_Y: 0.11970651529195496\n",
      "jsd result of CP: 0.11207783361825292\n",
      "jsd result of CPMG: 0.12619374137519793\n",
      "jsd result of xy4: 0.11762772810525259\n",
      "jsd result of xy8: 0.12567494817291222\n",
      "jsd result of xy16: 0.0901360799051195\n",
      "jsd result of udd1: 0.129972504880815\n",
      "jsd result of udd2: 0.11720278662707359\n",
      "jsd result of kdd: 0.11288511368774258\n",
      "---------Result of circuit QFT6 -------------\n",
      "jsd result of no_dd: 0.11273312954591376\n",
      "jsd result of hahn_X: 0.11572967980380125\n",
      "jsd result of hahn_Y: 0.11041708569152327\n",
      "jsd result of CP: 0.0957022108539355\n",
      "jsd result of CPMG: 0.09616452443881175\n",
      "jsd result of xy4: 0.09869591264939184\n",
      "jsd result of xy8: 0.11209357869745484\n",
      "jsd result of xy16: 0.08831769074077106\n",
      "jsd result of udd1: 0.12089692804690891\n",
      "jsd result of udd2: 0.08988453394727691\n",
      "jsd result of kdd: 0.08153535703894493\n"
     ]
    }
   ],
   "source": [
    "from scipy.spatial.distance import jensenshannon\n",
    "qft_jsds = []\n",
    "\n",
    "qft_job_ids = [\n",
    "    '629506093bb4af0b86b95331',\n",
    "    '6295060b4ad655c1359e48c2',\n",
    "    '6295060d4ad65513b79e48c3',\n",
    "    '629506109baeab101b4acb9c',\n",
    "]\n",
    "\n",
    "shots = 8192\n",
    "\n",
    "for i, circuit in enumerate(qft_circuits):\n",
    "    ideal_counts = execute(circuit, backend=Aer.get_backend('qasm_simulator'), shots=shots).result().get_counts()\n",
    "    result_counts = backend.retrieve_job(qft_job_ids[i]).result().get_counts()\n",
    "    jsd = []\n",
    "    for result_count in result_counts:\n",
    "        p_ideal, p_result = convert_count_to_prob(result_count, ideal_counts, shots=shots)\n",
    "        jsd.append(jensenshannon(p_ideal, p_result))\n",
    "    qft_jsds.append(jsd)\n",
    "\n",
    "circuit_names = ['QFT3', 'QFT4', 'QFT5', 'QFT6', ]\n",
    "DD_sequences = ['no_dd', 'hahn_X', 'hahn_Y', 'CP', 'CPMG', 'xy4', 'xy8', 'xy16', 'udd1', 'udd2', 'kdd']\n",
    "\n",
    "qft_results_data = {}\n",
    "\n",
    "for i, name in enumerate(circuit_names):\n",
    "    print(f'---------Result of circuit {name} -------------')\n",
    "    for j, jsd in enumerate(qft_jsds[i]):\n",
    "        print(f'jsd result of {DD_sequences[j]}: {jsd}')\n",
    "    qft_results_data[name] = qft_jsds[i]"
   ]
  },
  {
   "cell_type": "code",
   "execution_count": 14,
   "metadata": {},
   "outputs": [
    {
     "data": {
      "text/plain": [
       "{'QFT3': [0.04533960659395062,\n",
       "  0.04376540061741902,\n",
       "  0.03860178347453528,\n",
       "  0.05983897228525183,\n",
       "  0.06706770348410941,\n",
       "  0.058423014253400324,\n",
       "  0.06656662066908137,\n",
       "  0.057086509059248454,\n",
       "  0.04884968315682228,\n",
       "  0.10329468019689698,\n",
       "  0.06025233045543813],\n",
       " 'QFT4': [0.10598115732811718,\n",
       "  0.10991740573070856,\n",
       "  0.1085920776105441,\n",
       "  0.11882171799303656,\n",
       "  0.1068428895821114,\n",
       "  0.09179506025896578,\n",
       "  0.0948623812255495,\n",
       "  0.10315226407648943,\n",
       "  0.1136249900357584,\n",
       "  0.11238427055308246,\n",
       "  0.11076900828926331],\n",
       " 'QFT5': [0.11159894536250706,\n",
       "  0.11022665478234799,\n",
       "  0.11970651529195496,\n",
       "  0.11207783361825292,\n",
       "  0.12619374137519793,\n",
       "  0.11762772810525259,\n",
       "  0.12567494817291222,\n",
       "  0.0901360799051195,\n",
       "  0.129972504880815,\n",
       "  0.11720278662707359,\n",
       "  0.11288511368774258],\n",
       " 'QFT6': [0.11273312954591376,\n",
       "  0.11572967980380125,\n",
       "  0.11041708569152327,\n",
       "  0.0957022108539355,\n",
       "  0.09616452443881175,\n",
       "  0.09869591264939184,\n",
       "  0.11209357869745484,\n",
       "  0.08831769074077106,\n",
       "  0.12089692804690891,\n",
       "  0.08988453394727691,\n",
       "  0.08153535703894493]}"
      ]
     },
     "execution_count": 14,
     "metadata": {},
     "output_type": "execute_result"
    }
   ],
   "source": [
    "qft_results_data"
   ]
  },
  {
   "cell_type": "code",
   "execution_count": 15,
   "metadata": {
    "collapsed": false,
    "jupyter": {
     "outputs_hidden": false
    },
    "pycharm": {
     "name": "#%%\n"
    }
   },
   "outputs": [],
   "source": [
    "# import numpy as np\n",
    "# import matplotlib.pyplot as plt\n",
    "\n",
    "\n",
    "# baseline = []\n",
    "# circuit_names = ['QFT3', 'QFT4', 'QFT5', 'QFT6']\n",
    "# data = []\n",
    "# for name in circuit_names:\n",
    "#     result_data = qft_results_data[name]\n",
    "#     baseline.append(result_data[0])\n",
    "#     ratio = [result_data[0]/i for i in result_data[1:]]\n",
    "#     data.append(ratio)\n",
    "\n",
    "\n",
    "# data = np.array(data)\n",
    "# #\n",
    "# # hahn_X = data[:, 0]\n",
    "# # hahn_Y = data[:, 1]\n",
    "# cp = data[:, 2]\n",
    "# cpmg = data[:, 3]\n",
    "# xy4 = data[:, 4]\n",
    "# xy8 = data[:, 5]\n",
    "# xy16 = data[:, 6]\n",
    "# udd_X = data[:, 7]\n",
    "# udd_Y = data[:, 8]\n",
    "# kdd = data[:, 9]\n",
    "\n",
    "# x_ticks = circuit_names\n",
    "# X = np.arange(len(x_ticks))\n",
    "\n",
    "# from matplotlib.pyplot import figure\n",
    "# fig = figure(num=None, figsize=(8, 6), dpi=600, facecolor='w', edgecolor='k')\n",
    "# ax = fig.add_axes([0,0,1,1])\n",
    "\n",
    "# # plt.plot(X, hahn_Y, linestyle='--', marker='o', color='g', label='hahn_X')\n",
    "# # plt.plot(X, hahn_X, linestyle='--', marker='s', color='m', label='hahn_Y')\n",
    "# plt.plot(X, cp, linestyle='--', marker='o', color='orange', label='cp')\n",
    "# plt.plot(X, cpmg, linestyle='--', marker='.', color='b', label='cpmg')\n",
    "# plt.plot(X, xy4, linestyle='--', marker='^', color='r', label='xy4')\n",
    "# plt.plot(X, xy8, linestyle='--', marker='X', color='g', label='xy8')\n",
    "# plt.plot(X, xy16, linestyle='--', marker='h', color='c', label='xy16')\n",
    "# plt.plot(X, udd_X, linestyle='--', marker='d', color='y', label='udd_x')\n",
    "# plt.plot(X, udd_Y, linestyle='--', marker='+', color='k', label='udd_y')\n",
    "# plt.plot(X, kdd, linestyle='--', marker='*', color='m', label='kdd')\n",
    "# plt.axhline(1, color='tab:brown', lw=2)\n",
    "\n",
    "# plt.legend(loc='best', fontsize=16)\n",
    "# # ax.set_title('Relative JSD result for QFT circuit on ibmq_jakarta', fontsize=18)\n",
    "# ax.set_xticks(X)\n",
    "# ax.set_xticklabels(x_ticks, fontsize=14)\n",
    "# ax.set_ylabel('Relative JSD', fontsize=16)\n",
    "\n",
    "# plt.savefig('TQE_Relat_JSD_QFT_jakarta_0530.pdf', bbox_inches='tight', pad_inches=0)"
   ]
  },
  {
   "cell_type": "code",
   "execution_count": null,
   "metadata": {
    "collapsed": false,
    "jupyter": {
     "outputs_hidden": false
    },
    "pycharm": {
     "name": "#%%\n"
    }
   },
   "outputs": [],
   "source": []
  },
  {
   "cell_type": "code",
   "execution_count": null,
   "metadata": {},
   "outputs": [],
   "source": []
  }
 ],
 "metadata": {
  "kernelspec": {
   "display_name": "Python 3",
   "language": "python",
   "name": "python3"
  },
  "language_info": {
   "codemirror_mode": {
    "name": "ipython",
    "version": 3
   },
   "file_extension": ".py",
   "mimetype": "text/x-python",
   "name": "python",
   "nbconvert_exporter": "python",
   "pygments_lexer": "ipython3",
   "version": "3.8.5"
  }
 },
 "nbformat": 4,
 "nbformat_minor": 4
}
