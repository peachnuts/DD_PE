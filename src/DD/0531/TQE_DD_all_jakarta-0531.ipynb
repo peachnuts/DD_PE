{
 "cells": [
  {
   "cell_type": "code",
   "execution_count": 1,
   "metadata": {
    "collapsed": false,
    "jupyter": {
     "outputs_hidden": false
    },
    "pycharm": {
     "name": "#%%\n"
    }
   },
   "outputs": [],
   "source": [
    "from qiskit.transpiler import InstructionDurations\n",
    "from qiskit import IBMQ, transpile, Aer\n",
    "IBMQ.load_account()\n",
    "provider = IBMQ.get_provider(hub='ibm-q-france', group='univ-montpellier', project='default')\n",
    "backend = provider.get_backend('ibmq_jakarta')"
   ]
  },
  {
   "cell_type": "code",
   "execution_count": 2,
   "metadata": {
    "collapsed": false,
    "jupyter": {
     "outputs_hidden": false
    },
    "pycharm": {
     "name": "#%%\n"
    }
   },
   "outputs": [],
   "source": [
    "import os\n",
    "os.getcwd()\n",
    "os.chdir('/home/siyuan/Seafile/Thesis/PycharmProjects/DD_PE_paper/')"
   ]
  },
  {
   "cell_type": "code",
   "execution_count": 3,
   "metadata": {
    "collapsed": false,
    "jupyter": {
     "outputs_hidden": false
    },
    "pycharm": {
     "name": "#%%\n"
    }
   },
   "outputs": [],
   "source": [
    "from src.tools.DD_insertion import construct_bv_circuit, \\\n",
    "                                 construct_graph_matrix, \\\n",
    "                                 convert_count_to_prob, \\\n",
    "                                 translate_circuit_to_basis\n",
    "from qiskit.circuit.library import QFT, GraphState"
   ]
  },
  {
   "cell_type": "code",
   "execution_count": 4,
   "metadata": {
    "collapsed": false,
    "jupyter": {
     "outputs_hidden": false
    },
    "pycharm": {
     "name": "#%%\n"
    }
   },
   "outputs": [],
   "source": [
    "bv_circuits = []\n",
    "hs_circuits = []\n",
    "qft_circuits = []\n",
    "for i in range(3, 7):\n",
    "    bv_circuits.append(construct_bv_circuit(i))\n",
    "\n",
    "# for i in range(2, 15, 2):\n",
    "#     hs_circuits.append(construct_hs_circuit(i))\n",
    "\n",
    "for i in range(3, 7):\n",
    "    qft_circuits.append(QFT(i))\n",
    "\n",
    "for circuit in bv_circuits:\n",
    "    circuit.measure_all()\n",
    "\n",
    "# for circuit in hs_circuits:\n",
    "#     circuit.measure_all()\n",
    "\n",
    "for circuit in qft_circuits:\n",
    "    circuit.measure_all()"
   ]
  },
  {
   "cell_type": "code",
   "execution_count": 5,
   "metadata": {
    "collapsed": false,
    "jupyter": {
     "outputs_hidden": false
    },
    "pycharm": {
     "name": "#%%\n"
    }
   },
   "outputs": [],
   "source": [
    "durations = InstructionDurations.from_backend(backend)\n",
    "## add duration of y gates which are used for DD sequences\n",
    "bconf = backend.configuration()\n",
    "for i in range(bconf.num_qubits):\n",
    "    x_duration = durations.get('x', i)\n",
    "    durations.update(InstructionDurations(\n",
    "        [('y', i, x_duration)]\n",
    "        ))\n",
    "\n",
    "    durations.update(InstructionDurations(\n",
    "        [('rx', i, x_duration)]\n",
    "        ))\n",
    "\n",
    "    durations.update(InstructionDurations(\n",
    "        [('ry', i, x_duration)]\n",
    "        ))"
   ]
  },
  {
   "cell_type": "code",
   "execution_count": 6,
   "metadata": {
    "collapsed": false,
    "jupyter": {
     "outputs_hidden": false
    },
    "pycharm": {
     "name": "#%%\n"
    }
   },
   "outputs": [],
   "source": [
    "graph_state_circuits = []\n",
    "coupling_map = backend.configuration().coupling_map\n",
    "\n",
    "for i in range(3, 7):\n",
    "    gs_circuit_matrix = construct_graph_matrix(i, coupling_map)\n",
    "    graph_state_circuits.append(GraphState(gs_circuit_matrix))\n",
    "\n",
    "for circuit in graph_state_circuits:\n",
    "    circuit.measure_all()"
   ]
  },
  {
   "cell_type": "code",
   "execution_count": 7,
   "metadata": {
    "collapsed": false,
    "jupyter": {
     "outputs_hidden": false
    },
    "pycharm": {
     "name": "#%%\n"
    }
   },
   "outputs": [],
   "source": [
    "from src.tools.DD_insertion import pm_DD_sequences\n",
    "pms = pm_DD_sequences(durations)"
   ]
  },
  {
   "cell_type": "code",
   "execution_count": 8,
   "metadata": {
    "collapsed": false,
    "jupyter": {
     "outputs_hidden": false
    },
    "pycharm": {
     "name": "#%%\n"
    }
   },
   "outputs": [
    {
     "name": "stdout",
     "output_type": "stream",
     "text": [
      "if applied DD for None: False\n",
      "if applied DD for None: False\n",
      "if applied DD for None: True\n",
      "if applied DD for None: True\n",
      "if applied DD for None: True\n",
      "if applied DD for None: True\n",
      "if applied DD for None: False\n",
      "if applied DD for None: True\n",
      "if applied DD for None: True\n",
      "if applied DD for None: False\n",
      "6295d644bc0d026727dbecf8\n",
      "if applied DD for None: False\n",
      "if applied DD for None: False\n",
      "if applied DD for None: True\n",
      "if applied DD for None: True\n",
      "if applied DD for None: True\n",
      "if applied DD for None: True\n",
      "if applied DD for None: False\n",
      "if applied DD for None: True\n",
      "if applied DD for None: True\n",
      "if applied DD for None: False\n",
      "6295d6469baeab12014acd73\n",
      "if applied DD for None: False\n",
      "if applied DD for None: False\n",
      "if applied DD for None: True\n",
      "if applied DD for None: True\n",
      "if applied DD for None: True\n",
      "if applied DD for None: True\n",
      "if applied DD for None: True\n",
      "if applied DD for None: True\n",
      "if applied DD for None: True\n",
      "if applied DD for None: True\n",
      "6295d648bc0d029cefdbecf9\n",
      "if applied DD for None: False\n",
      "if applied DD for None: False\n",
      "if applied DD for None: True\n",
      "if applied DD for None: True\n",
      "if applied DD for None: True\n",
      "if applied DD for None: True\n",
      "if applied DD for None: True\n",
      "if applied DD for None: True\n",
      "if applied DD for None: True\n",
      "if applied DD for None: True\n",
      "6295d64a0212ff553d251f18\n"
     ]
    }
   ],
   "source": [
    "bv_job_ids = []\n",
    "bv_jobs = []\n",
    "\n",
    "for circuit in bv_circuits:\n",
    "    circuit_list = []\n",
    "    transpiled_qc = transpile(circuit, backend=backend, optimization_level=3, seed_transpiler=1)\n",
    "    circuit_list.append(transpiled_qc)\n",
    "    for pm in pms:\n",
    "        qc_transpile = pm.run(transpiled_qc)\n",
    "        qc_transpile_base = translate_circuit_to_basis(qc_transpile, bconf)\n",
    "        circuit_list.append(qc_transpile_base)\n",
    "    job = backend.run(circuit_list, shots=8192)\n",
    "    bv_jobs.append(job)\n",
    "    job_id = job.job_id()\n",
    "    print(job_id)\n",
    "    bv_job_ids.append(job_id)"
   ]
  },
  {
   "cell_type": "code",
   "execution_count": 9,
   "metadata": {
    "collapsed": false,
    "jupyter": {
     "outputs_hidden": false
    },
    "pycharm": {
     "name": "#%%\n"
    }
   },
   "outputs": [
    {
     "name": "stdout",
     "output_type": "stream",
     "text": [
      "6295d644bc0d026727dbecf8\n",
      "6295d6469baeab12014acd73\n",
      "6295d648bc0d029cefdbecf9\n",
      "6295d64a0212ff553d251f18\n"
     ]
    }
   ],
   "source": [
    "for job_id in bv_job_ids:\n",
    "    print(job_id)"
   ]
  },
  {
   "cell_type": "code",
   "execution_count": 7,
   "metadata": {
    "collapsed": false,
    "jupyter": {
     "outputs_hidden": false
    },
    "pycharm": {
     "name": "#%%\n"
    }
   },
   "outputs": [
    {
     "name": "stdout",
     "output_type": "stream",
     "text": [
      "---------Result of circuit BV3 -------------\n",
      "pst result of no_dd: 0.451904296875\n",
      "pst result of hahn_X: 0.458251953125\n",
      "pst result of hahn_Y: 0.4482421875\n",
      "pst result of CP: 0.470947265625\n",
      "pst result of CPMG: 0.455322265625\n",
      "pst result of xy4: 0.4619140625\n",
      "pst result of xy8: 0.4654541015625\n",
      "pst result of xy16: 0.45458984375\n",
      "pst result of udd1: 0.446044921875\n",
      "pst result of udd2: 0.453125\n",
      "pst result of kdd: 0.4544677734375\n",
      "---------Result of circuit BV4 -------------\n",
      "pst result of no_dd: 0.4017333984375\n",
      "pst result of hahn_X: 0.3922119140625\n",
      "pst result of hahn_Y: 0.3916015625\n",
      "pst result of CP: 0.39111328125\n",
      "pst result of CPMG: 0.4063720703125\n",
      "pst result of xy4: 0.40673828125\n",
      "pst result of xy8: 0.4034423828125\n",
      "pst result of xy16: 0.3935546875\n",
      "pst result of udd1: 0.41064453125\n",
      "pst result of udd2: 0.3958740234375\n",
      "pst result of kdd: 0.3997802734375\n",
      "---------Result of circuit BV5 -------------\n",
      "pst result of no_dd: 0.37548828125\n",
      "pst result of hahn_X: 0.3612060546875\n",
      "pst result of hahn_Y: 0.357421875\n",
      "pst result of CP: 0.3721923828125\n",
      "pst result of CPMG: 0.375244140625\n",
      "pst result of xy4: 0.3662109375\n",
      "pst result of xy8: 0.3638916015625\n",
      "pst result of xy16: 0.3616943359375\n",
      "pst result of udd1: 0.3809814453125\n",
      "pst result of udd2: 0.3819580078125\n",
      "pst result of kdd: 0.3599853515625\n",
      "---------Result of circuit BV6 -------------\n",
      "pst result of no_dd: 0.2523193359375\n",
      "pst result of hahn_X: 0.2559814453125\n",
      "pst result of hahn_Y: 0.2537841796875\n",
      "pst result of CP: 0.3223876953125\n",
      "pst result of CPMG: 0.3206787109375\n",
      "pst result of xy4: 0.333251953125\n",
      "pst result of xy8: 0.3106689453125\n",
      "pst result of xy16: 0.307861328125\n",
      "pst result of udd1: 0.333251953125\n",
      "pst result of udd2: 0.3162841796875\n",
      "pst result of kdd: 0.2828369140625\n"
     ]
    }
   ],
   "source": [
    "from qiskit import execute\n",
    "\n",
    "shots = 8192\n",
    "psts = []\n",
    "bv_job_ids = [\n",
    "    '6295d644bc0d026727dbecf8',\n",
    "    '6295d6469baeab12014acd73',\n",
    "    '6295d648bc0d029cefdbecf9',\n",
    "    '6295d64a0212ff553d251f18',\n",
    "\n",
    "\n",
    "]\n",
    "for i, circuit in enumerate(bv_circuits):\n",
    "    ideal_counts = execute(circuit, backend=Aer.get_backend('qasm_simulator'), shots=shots).result().get_counts()\n",
    "    ideal_result = list(ideal_counts.keys())[0]\n",
    "    result_counts = backend.retrieve_job(bv_job_ids[i]).result().get_counts()\n",
    "    pst = []\n",
    "    for result_count in result_counts:\n",
    "        obtain_results = result_count.get(ideal_result, 0)\n",
    "        pst.append(obtain_results/shots)\n",
    "    psts.append(pst)\n",
    "\n",
    "bv_circuit_names = ['BV3', 'BV4', 'BV5', 'BV6']\n",
    "DD_sequences = ['no_dd', 'hahn_X', 'hahn_Y', 'CP', 'CPMG', 'xy4', 'xy8', 'xy16', 'udd1', 'udd2', 'kdd']\n",
    "bv_results_data = {}\n",
    "\n",
    "for i, name in enumerate(bv_circuit_names):\n",
    "    print(f'---------Result of circuit {name} -------------')\n",
    "    for j, pst in enumerate(psts[i]):\n",
    "        print(f'pst result of {DD_sequences[j]}: {pst}')\n",
    "    bv_results_data[name] = psts[i]"
   ]
  },
  {
   "cell_type": "code",
   "execution_count": 8,
   "metadata": {},
   "outputs": [
    {
     "data": {
      "text/plain": [
       "{'BV3': [0.451904296875,\n",
       "  0.458251953125,\n",
       "  0.4482421875,\n",
       "  0.470947265625,\n",
       "  0.455322265625,\n",
       "  0.4619140625,\n",
       "  0.4654541015625,\n",
       "  0.45458984375,\n",
       "  0.446044921875,\n",
       "  0.453125,\n",
       "  0.4544677734375],\n",
       " 'BV4': [0.4017333984375,\n",
       "  0.3922119140625,\n",
       "  0.3916015625,\n",
       "  0.39111328125,\n",
       "  0.4063720703125,\n",
       "  0.40673828125,\n",
       "  0.4034423828125,\n",
       "  0.3935546875,\n",
       "  0.41064453125,\n",
       "  0.3958740234375,\n",
       "  0.3997802734375],\n",
       " 'BV5': [0.37548828125,\n",
       "  0.3612060546875,\n",
       "  0.357421875,\n",
       "  0.3721923828125,\n",
       "  0.375244140625,\n",
       "  0.3662109375,\n",
       "  0.3638916015625,\n",
       "  0.3616943359375,\n",
       "  0.3809814453125,\n",
       "  0.3819580078125,\n",
       "  0.3599853515625],\n",
       " 'BV6': [0.2523193359375,\n",
       "  0.2559814453125,\n",
       "  0.2537841796875,\n",
       "  0.3223876953125,\n",
       "  0.3206787109375,\n",
       "  0.333251953125,\n",
       "  0.3106689453125,\n",
       "  0.307861328125,\n",
       "  0.333251953125,\n",
       "  0.3162841796875,\n",
       "  0.2828369140625]}"
      ]
     },
     "execution_count": 8,
     "metadata": {},
     "output_type": "execute_result"
    }
   ],
   "source": [
    "bv_results_data"
   ]
  },
  {
   "cell_type": "code",
   "execution_count": 9,
   "metadata": {
    "collapsed": false,
    "jupyter": {
     "outputs_hidden": false
    },
    "pycharm": {
     "name": "#%%\n"
    }
   },
   "outputs": [],
   "source": [
    "# import numpy as np\n",
    "# import matplotlib.pyplot as plt\n",
    "\n",
    "# baseline = []\n",
    "\n",
    "# data = []\n",
    "# for name in bv_circuit_names:\n",
    "#     result_data = bv_results_data[name]\n",
    "#     baseline.append(result_data[0])\n",
    "#     ratio = [i/result_data[0] for i in result_data[1:]]\n",
    "#     data.append(ratio)\n",
    "\n",
    "\n",
    "# data = np.array(data)\n",
    "\n",
    "# # hahn_X = data[:, 0]\n",
    "# # hahn_Y = data[:, 1]\n",
    "\n",
    "# cp = data[:, 2]\n",
    "# cpmg = data[:, 3]\n",
    "# xy4 = data[:, 4]\n",
    "# xy8 = data[:, 5]\n",
    "# xy16 = list(data[2:, 6])\n",
    "# xy16.insert(0, None)\n",
    "# xy16.insert(0, None)\n",
    "# udd_X = data[:, 7]\n",
    "# udd_Y = data[:, 8]\n",
    "# kdd = list(data[2:, 9])\n",
    "# kdd.insert(0, None)\n",
    "# kdd.insert(0, None)\n",
    "\n",
    "\n",
    "# x_ticks = bv_circuit_names[:]\n",
    "# X = np.arange(len(x_ticks))\n",
    "\n",
    "# from matplotlib.pyplot import figure\n",
    "# fig = figure(num=None, figsize=(8, 6), dpi=600, facecolor='w', edgecolor='k')\n",
    "# ax = fig.add_axes([0,0,1,1])\n",
    "\n",
    "# # plt.plot(X, hahn_Y, linestyle='--', marker='o', color='g', label='hahn_X')\n",
    "# # plt.plot(X, hahn_X, linestyle='--', marker='s', color='m', label='hahn_Y')\n",
    "# plt.plot(X, cp, linestyle='--', marker='o', color='orange', label='cp')\n",
    "# plt.plot(X, cpmg, linestyle='--', marker='.', color='b', label='cpmg')\n",
    "# plt.plot(X, xy4, linestyle='--', marker='^', color='r', label='xy4')\n",
    "# plt.plot(X, xy8, linestyle='--', marker='X', color='g', label='xy8')\n",
    "# plt.plot(X, xy16, linestyle='--', marker='h', color='c', label='xy16')\n",
    "# plt.plot(X, udd_X, linestyle='--', marker='d', color='y', label='udd_x')\n",
    "# plt.plot(X, udd_Y, linestyle='--', marker='+', color='k', label='udd_y')\n",
    "# plt.plot(X, kdd, linestyle='--', marker='*', color='m', label='kdd')\n",
    "# plt.axhline(1, color='tab:brown', lw=2)\n",
    "\n",
    "# plt.legend(loc='best', fontsize=16)\n",
    "# # ax.set_title('Relative PST result for BV circuit on ibmq_jakarta', fontsize=18)\n",
    "# ax.set_xticks(X)\n",
    "# ax.set_xticklabels(x_ticks, fontsize=14)\n",
    "# ax.set_ylabel('Relative PST', fontsize=16)\n",
    "# plt.savefig('TQE_Relat_PST_BV_jakarta_T_0530.pdf', bbox_inches='tight', pad_inches=0)"
   ]
  },
  {
   "cell_type": "code",
   "execution_count": 10,
   "metadata": {
    "collapsed": false,
    "jupyter": {
     "outputs_hidden": false
    },
    "pycharm": {
     "name": "#%%\n"
    }
   },
   "outputs": [
    {
     "name": "stdout",
     "output_type": "stream",
     "text": [
      "if applied DD for None: False\n",
      "if applied DD for None: False\n",
      "if applied DD for None: True\n",
      "if applied DD for None: True\n",
      "if applied DD for None: True\n",
      "if applied DD for None: True\n",
      "if applied DD for None: True\n",
      "if applied DD for None: True\n",
      "if applied DD for None: True\n",
      "if applied DD for None: True\n",
      "6295d64b3bb4af8a4cb95509\n",
      "if applied DD for None: False\n",
      "if applied DD for None: False\n",
      "if applied DD for None: True\n",
      "if applied DD for None: True\n",
      "if applied DD for None: True\n",
      "if applied DD for None: True\n",
      "if applied DD for None: True\n",
      "if applied DD for None: True\n",
      "if applied DD for None: True\n",
      "if applied DD for None: True\n",
      "6295d64d4bb9758357efb4ce\n",
      "if applied DD for None: False\n",
      "if applied DD for None: False\n",
      "if applied DD for None: True\n",
      "if applied DD for None: True\n",
      "if applied DD for None: True\n",
      "if applied DD for None: True\n",
      "if applied DD for None: True\n",
      "if applied DD for None: True\n",
      "if applied DD for None: True\n",
      "if applied DD for None: True\n",
      "6295d64e4ad65509779e4aa6\n",
      "if applied DD for None: False\n",
      "if applied DD for None: False\n",
      "if applied DD for None: True\n",
      "if applied DD for None: True\n",
      "if applied DD for None: True\n",
      "if applied DD for None: True\n",
      "if applied DD for None: True\n",
      "if applied DD for None: True\n",
      "if applied DD for None: True\n",
      "if applied DD for None: True\n",
      "6295d650f33cdba1eb2e069f\n"
     ]
    }
   ],
   "source": [
    "gs_job_ids = []\n",
    "gs_jobs = []\n",
    "\n",
    "for circuit in graph_state_circuits:\n",
    "    circuit_list = []\n",
    "    transpiled_qc = transpile(circuit, backend=backend, optimization_level=3, seed_transpiler=1)\n",
    "    circuit_list.append(transpiled_qc)\n",
    "    for pm in pms:\n",
    "        qc_transpile = pm.run(transpiled_qc)\n",
    "        qc_transpile_base = translate_circuit_to_basis(qc_transpile, bconf)\n",
    "        circuit_list.append(qc_transpile_base)\n",
    "    job = backend.run(circuit_list, shots=8192)\n",
    "    gs_jobs.append(job)\n",
    "    job_id = job.job_id()\n",
    "    print(job_id)\n",
    "    gs_job_ids.append(job_id)"
   ]
  },
  {
   "cell_type": "code",
   "execution_count": 11,
   "metadata": {
    "collapsed": false,
    "jupyter": {
     "outputs_hidden": false
    },
    "pycharm": {
     "name": "#%%\n"
    }
   },
   "outputs": [
    {
     "name": "stdout",
     "output_type": "stream",
     "text": [
      "6295d64b3bb4af8a4cb95509\n",
      "6295d64d4bb9758357efb4ce\n",
      "6295d64e4ad65509779e4aa6\n",
      "6295d650f33cdba1eb2e069f\n"
     ]
    }
   ],
   "source": [
    "for job_id in gs_job_ids:\n",
    "    print(job_id)"
   ]
  },
  {
   "cell_type": "code",
   "execution_count": 10,
   "metadata": {
    "collapsed": false,
    "jupyter": {
     "outputs_hidden": false
    },
    "pycharm": {
     "name": "#%%\n"
    }
   },
   "outputs": [
    {
     "name": "stdout",
     "output_type": "stream",
     "text": [
      "---------Result of circuit GS3 -------------\n",
      "jsd result of no_dd: 0.045617911157655476\n",
      "jsd result of hahn_X: 0.04873148817580413\n",
      "jsd result of hahn_Y: 0.043520196766198276\n",
      "jsd result of CP: 0.045116675284664974\n",
      "jsd result of CPMG: 0.04899772517386398\n",
      "jsd result of xy4: 0.04352061889499965\n",
      "jsd result of xy8: 0.046582831962408686\n",
      "jsd result of xy16: 0.04934130702368998\n",
      "jsd result of udd1: 0.0524748453035879\n",
      "jsd result of udd2: 0.0459955792053988\n",
      "jsd result of kdd: 0.04865664748416749\n",
      "---------Result of circuit GS4 -------------\n",
      "jsd result of no_dd: 0.04532541315033542\n",
      "jsd result of hahn_X: 0.041833688467098534\n",
      "jsd result of hahn_Y: 0.04416170733155313\n",
      "jsd result of CP: 0.04149466935349644\n",
      "jsd result of CPMG: 0.0344696624420985\n",
      "jsd result of xy4: 0.041766846368211374\n",
      "jsd result of xy8: 0.04813045909338863\n",
      "jsd result of xy16: 0.03652028017132206\n",
      "jsd result of udd1: 0.042222097316990344\n",
      "jsd result of udd2: 0.04524597834360879\n",
      "jsd result of kdd: 0.0431737528886942\n",
      "---------Result of circuit GS5 -------------\n",
      "jsd result of no_dd: 0.04738551089039782\n",
      "jsd result of hahn_X: 0.051690452062911896\n",
      "jsd result of hahn_Y: 0.04775952025774626\n",
      "jsd result of CP: 0.041186840331897324\n",
      "jsd result of CPMG: 0.04329372304154203\n",
      "jsd result of xy4: 0.04304837149649725\n",
      "jsd result of xy8: 0.04926140996516049\n",
      "jsd result of xy16: 0.0360560552050773\n",
      "jsd result of udd1: 0.03822431653342749\n",
      "jsd result of udd2: 0.04269122025950977\n",
      "jsd result of kdd: 0.04392174199114971\n",
      "---------Result of circuit GS6 -------------\n",
      "jsd result of no_dd: 0.06448677084140488\n",
      "jsd result of hahn_X: 0.06844422494521789\n",
      "jsd result of hahn_Y: 0.07035494563456145\n",
      "jsd result of CP: 0.06667347348768611\n",
      "jsd result of CPMG: 0.07053164409642122\n",
      "jsd result of xy4: 0.07053783518168275\n",
      "jsd result of xy8: 0.07043332053304391\n",
      "jsd result of xy16: 0.07043705315057246\n",
      "jsd result of udd1: 0.0648477029668213\n",
      "jsd result of udd2: 0.0704503810045946\n",
      "jsd result of kdd: 0.06731743319804387\n"
     ]
    }
   ],
   "source": [
    "from scipy.spatial.distance import jensenshannon\n",
    "from qiskit import execute\n",
    "gs_jsds = []\n",
    "\n",
    "gs_job_ids = [\n",
    "    '6295d64b3bb4af8a4cb95509',\n",
    "    '6295d64d4bb9758357efb4ce',\n",
    "    '6295d64e4ad65509779e4aa6',\n",
    "    '6295d650f33cdba1eb2e069f',\n",
    "]\n",
    "\n",
    "\n",
    "shots = 8192\n",
    "\n",
    "for i, circuit in enumerate(graph_state_circuits):\n",
    "    ideal_counts = execute(circuit, backend=Aer.get_backend('qasm_simulator'), shots=shots).result().get_counts()\n",
    "    result_counts = backend.retrieve_job(gs_job_ids[i]).result().get_counts()\n",
    "    jsd = []\n",
    "    for result_count in result_counts:\n",
    "        p_ideal, p_result = convert_count_to_prob(result_count, ideal_counts, shots=shots)\n",
    "        jsd.append(jensenshannon(p_ideal, p_result))\n",
    "    gs_jsds.append(jsd)\n",
    "\n",
    "circuit_names = ['GS3', 'GS4', 'GS5', 'GS6',]\n",
    "DD_sequences = ['no_dd', 'hahn_X', 'hahn_Y', 'CP', 'CPMG', 'xy4', 'xy8', 'xy16', 'udd1', 'udd2', 'kdd']\n",
    "\n",
    "gs_results_data = {}\n",
    "\n",
    "for i, name in enumerate(circuit_names):\n",
    "    print(f'---------Result of circuit {name} -------------')\n",
    "    for j, jsd in enumerate(gs_jsds[i]):\n",
    "        print(f'jsd result of {DD_sequences[j]}: {jsd}')\n",
    "    gs_results_data[name] = gs_jsds[i]"
   ]
  },
  {
   "cell_type": "code",
   "execution_count": 11,
   "metadata": {},
   "outputs": [
    {
     "data": {
      "text/plain": [
       "{'GS3': [0.045617911157655476,\n",
       "  0.04873148817580413,\n",
       "  0.043520196766198276,\n",
       "  0.045116675284664974,\n",
       "  0.04899772517386398,\n",
       "  0.04352061889499965,\n",
       "  0.046582831962408686,\n",
       "  0.04934130702368998,\n",
       "  0.0524748453035879,\n",
       "  0.0459955792053988,\n",
       "  0.04865664748416749],\n",
       " 'GS4': [0.04532541315033542,\n",
       "  0.041833688467098534,\n",
       "  0.04416170733155313,\n",
       "  0.04149466935349644,\n",
       "  0.0344696624420985,\n",
       "  0.041766846368211374,\n",
       "  0.04813045909338863,\n",
       "  0.03652028017132206,\n",
       "  0.042222097316990344,\n",
       "  0.04524597834360879,\n",
       "  0.0431737528886942],\n",
       " 'GS5': [0.04738551089039782,\n",
       "  0.051690452062911896,\n",
       "  0.04775952025774626,\n",
       "  0.041186840331897324,\n",
       "  0.04329372304154203,\n",
       "  0.04304837149649725,\n",
       "  0.04926140996516049,\n",
       "  0.0360560552050773,\n",
       "  0.03822431653342749,\n",
       "  0.04269122025950977,\n",
       "  0.04392174199114971],\n",
       " 'GS6': [0.06448677084140488,\n",
       "  0.06844422494521789,\n",
       "  0.07035494563456145,\n",
       "  0.06667347348768611,\n",
       "  0.07053164409642122,\n",
       "  0.07053783518168275,\n",
       "  0.07043332053304391,\n",
       "  0.07043705315057246,\n",
       "  0.0648477029668213,\n",
       "  0.0704503810045946,\n",
       "  0.06731743319804387]}"
      ]
     },
     "execution_count": 11,
     "metadata": {},
     "output_type": "execute_result"
    }
   ],
   "source": [
    "gs_results_data"
   ]
  },
  {
   "cell_type": "code",
   "execution_count": 12,
   "metadata": {
    "collapsed": false,
    "jupyter": {
     "outputs_hidden": false
    },
    "pycharm": {
     "name": "#%%\n"
    }
   },
   "outputs": [],
   "source": [
    "# baseline = []\n",
    "\n",
    "# data = []\n",
    "# for name in circuit_names:\n",
    "#     result_data = gs_results_data[name]\n",
    "#     baseline.append(result_data[0])\n",
    "#     ratio = [result_data[0]/i for i in result_data[1:]]\n",
    "#     data.append(ratio)\n",
    "\n",
    "\n",
    "# data = np.array(data)\n",
    "# #\n",
    "# # hahn_X = data[:, 0]\n",
    "# # hahn_Y = data[:, 1]\n",
    "# cp = data[:, 2]\n",
    "# cpmg = data[:, 3]\n",
    "# xy4 = data[:, 4]\n",
    "# xy8 = data[:, 5]\n",
    "# xy16 = data[:, 6]\n",
    "# udd_X = data[:, 7]\n",
    "# udd_Y = data[:, 8]\n",
    "# kdd = data[:, 9]\n",
    "\n",
    "# x_ticks = circuit_names\n",
    "# X = np.arange(len(x_ticks))\n",
    "\n",
    "# from matplotlib.pyplot import figure\n",
    "# fig = figure(num=None, figsize=(8, 6), dpi=600, facecolor='w', edgecolor='k')\n",
    "# ax = fig.add_axes([0,0,1,1])\n",
    "\n",
    "# # plt.plot(X, hahn_Y, linestyle='--', marker='o', color='g', label='hahn_X')\n",
    "# # plt.plot(X, hahn_X, linestyle='--', marker='s', color='m', label='hahn_Y')\n",
    "# plt.plot(X, cp, linestyle='--', marker='o', color='orange', label='cp')\n",
    "# plt.plot(X, cpmg, linestyle='--', marker='.', color='b', label='cpmg')\n",
    "# plt.plot(X, xy4, linestyle='--', marker='^', color='r', label='xy4')\n",
    "# plt.plot(X, xy8, linestyle='--', marker='X', color='g', label='xy8')\n",
    "# plt.plot(X, xy16, linestyle='--', marker='h', color='c', label='xy16')\n",
    "# plt.plot(X, udd_X, linestyle='--', marker='d', color='y', label='udd_x')\n",
    "# plt.plot(X, udd_Y, linestyle='--', marker='+', color='k', label='udd_y')\n",
    "# plt.plot(X, kdd, linestyle='--', marker='*', color='m', label='kdd')\n",
    "# plt.axhline(1, color='tab:brown', lw=2)\n",
    "\n",
    "# plt.legend(loc='best', fontsize=16)\n",
    "# # ax.set_title('Relative JSD result for GS circuit on ibmq_jakarta', fontsize=18)\n",
    "# ax.set_xticks(X)\n",
    "# ax.set_xticklabels(x_ticks, fontsize=14)\n",
    "# ax.set_ylabel('Relative JSD', fontsize=16)\n",
    "\n",
    "# plt.savefig('TQE_Relat_JSD_GS_jakarta_0530.pdf', bbox_inches='tight', pad_inches=0)"
   ]
  },
  {
   "cell_type": "code",
   "execution_count": 12,
   "metadata": {
    "collapsed": false,
    "jupyter": {
     "outputs_hidden": false
    },
    "pycharm": {
     "name": "#%%\n"
    }
   },
   "outputs": [
    {
     "name": "stdout",
     "output_type": "stream",
     "text": [
      "if applied DD for None: False\n",
      "if applied DD for None: False\n",
      "if applied DD for None: True\n",
      "if applied DD for None: True\n",
      "if applied DD for None: True\n",
      "if applied DD for None: True\n",
      "if applied DD for None: True\n",
      "if applied DD for None: True\n",
      "if applied DD for None: True\n",
      "if applied DD for None: True\n",
      "6295d658f33cdb01d82e06a0\n",
      "if applied DD for None: False\n",
      "if applied DD for None: False\n",
      "if applied DD for None: True\n",
      "if applied DD for None: True\n",
      "if applied DD for None: True\n",
      "if applied DD for None: True\n",
      "if applied DD for None: True\n",
      "if applied DD for None: True\n",
      "if applied DD for None: True\n",
      "if applied DD for None: True\n",
      "6295d65a9baeab34e64acd75\n",
      "if applied DD for None: False\n",
      "if applied DD for None: False\n",
      "if applied DD for None: True\n",
      "if applied DD for None: True\n",
      "if applied DD for None: True\n",
      "if applied DD for None: True\n",
      "if applied DD for None: True\n",
      "if applied DD for None: True\n",
      "if applied DD for None: True\n",
      "if applied DD for None: True\n",
      "6295d65c0212ffa0cd251f1a\n",
      "if applied DD for None: False\n",
      "if applied DD for None: False\n",
      "if applied DD for None: True\n",
      "if applied DD for None: True\n",
      "if applied DD for None: True\n",
      "if applied DD for None: True\n",
      "if applied DD for None: True\n",
      "if applied DD for None: True\n",
      "if applied DD for None: True\n",
      "if applied DD for None: True\n",
      "6295d66016cdc41a90f25e45\n"
     ]
    }
   ],
   "source": [
    "qft_job_ids = []\n",
    "qft_jobs = []\n",
    "\n",
    "for circuit in qft_circuits:\n",
    "    circuit_list = []\n",
    "    transpiled_qc = transpile(circuit, backend=backend, optimization_level=3, seed_transpiler=1)\n",
    "    circuit_list.append(transpiled_qc)\n",
    "    for pm in pms:\n",
    "        qc_transpile = pm.run(transpiled_qc)\n",
    "        qc_transpile_base = translate_circuit_to_basis(qc_transpile, bconf)\n",
    "        circuit_list.append(qc_transpile_base)\n",
    "    job = backend.run(circuit_list, shots=8192)\n",
    "    qft_jobs.append(job)\n",
    "    job_id = job.job_id()\n",
    "    print(job_id)\n",
    "    qft_job_ids.append(job_id)"
   ]
  },
  {
   "cell_type": "code",
   "execution_count": 13,
   "metadata": {
    "collapsed": false,
    "jupyter": {
     "outputs_hidden": false
    },
    "pycharm": {
     "name": "#%%\n"
    }
   },
   "outputs": [
    {
     "name": "stdout",
     "output_type": "stream",
     "text": [
      "6295d658f33cdb01d82e06a0\n",
      "6295d65a9baeab34e64acd75\n",
      "6295d65c0212ffa0cd251f1a\n",
      "6295d66016cdc41a90f25e45\n"
     ]
    }
   ],
   "source": [
    "for job_id in qft_job_ids:\n",
    "    print(job_id)"
   ]
  },
  {
   "cell_type": "code",
   "execution_count": 13,
   "metadata": {
    "collapsed": false,
    "jupyter": {
     "outputs_hidden": false
    },
    "pycharm": {
     "name": "#%%\n"
    }
   },
   "outputs": [
    {
     "name": "stdout",
     "output_type": "stream",
     "text": [
      "---------Result of circuit QFT3 -------------\n",
      "jsd result of no_dd: 0.057820524346515294\n",
      "jsd result of hahn_X: 0.054389690381959406\n",
      "jsd result of hahn_Y: 0.0480284484922724\n",
      "jsd result of CP: 0.0553627414815798\n",
      "jsd result of CPMG: 0.05964022163874728\n",
      "jsd result of xy4: 0.05465773454819876\n",
      "jsd result of xy8: 0.07642216764586765\n",
      "jsd result of xy16: 0.04817951243898198\n",
      "jsd result of udd1: 0.0491762951306439\n",
      "jsd result of udd2: 0.07941200376483583\n",
      "jsd result of kdd: 0.06063438548432425\n",
      "---------Result of circuit QFT4 -------------\n",
      "jsd result of no_dd: 0.12262137139010473\n",
      "jsd result of hahn_X: 0.12026678356298967\n",
      "jsd result of hahn_Y: 0.1268416947422105\n",
      "jsd result of CP: 0.12284752318409749\n",
      "jsd result of CPMG: 0.09637120001886744\n",
      "jsd result of xy4: 0.10091114060481657\n",
      "jsd result of xy8: 0.16294372452124287\n",
      "jsd result of xy16: 0.11244325163912486\n",
      "jsd result of udd1: 0.11565427838239738\n",
      "jsd result of udd2: 0.11860921139947361\n",
      "jsd result of kdd: 0.11830818085373862\n",
      "---------Result of circuit QFT5 -------------\n",
      "jsd result of no_dd: 0.0860940696998467\n",
      "jsd result of hahn_X: 0.09080589331741822\n",
      "jsd result of hahn_Y: 0.09128982299214157\n",
      "jsd result of CP: 0.08621551942028059\n",
      "jsd result of CPMG: 0.11954902641954948\n",
      "jsd result of xy4: 0.10703508981800557\n",
      "jsd result of xy8: 0.09597140679727785\n",
      "jsd result of xy16: 0.12509616955358904\n",
      "jsd result of udd1: 0.0934574405754649\n",
      "jsd result of udd2: 0.1211135157071287\n",
      "jsd result of kdd: 0.11704182483355535\n",
      "---------Result of circuit QFT6 -------------\n",
      "jsd result of no_dd: 0.10329411581918174\n",
      "jsd result of hahn_X: 0.1025310242760335\n",
      "jsd result of hahn_Y: 0.10021505095527729\n",
      "jsd result of CP: 0.09828464020225441\n",
      "jsd result of CPMG: 0.09134927102134534\n",
      "jsd result of xy4: 0.0869879227518163\n",
      "jsd result of xy8: 0.09457413979194952\n",
      "jsd result of xy16: 0.10664141667855047\n",
      "jsd result of udd1: 0.10849962139658625\n",
      "jsd result of udd2: 0.09940336864892646\n",
      "jsd result of kdd: 0.07908060223272993\n"
     ]
    }
   ],
   "source": [
    "from scipy.spatial.distance import jensenshannon\n",
    "qft_jsds = []\n",
    "\n",
    "qft_job_ids = [\n",
    "    '6295d658f33cdb01d82e06a0',\n",
    "    '6295d65a9baeab34e64acd75',\n",
    "    '6295d65c0212ffa0cd251f1a',\n",
    "    '6295d66016cdc41a90f25e45',\n",
    "]\n",
    "\n",
    "shots = 8192\n",
    "\n",
    "for i, circuit in enumerate(qft_circuits):\n",
    "    ideal_counts = execute(circuit, backend=Aer.get_backend('qasm_simulator'), shots=shots).result().get_counts()\n",
    "    result_counts = backend.retrieve_job(qft_job_ids[i]).result().get_counts()\n",
    "    jsd = []\n",
    "    for result_count in result_counts:\n",
    "        p_ideal, p_result = convert_count_to_prob(result_count, ideal_counts, shots=shots)\n",
    "        jsd.append(jensenshannon(p_ideal, p_result))\n",
    "    qft_jsds.append(jsd)\n",
    "\n",
    "circuit_names = ['QFT3', 'QFT4', 'QFT5', 'QFT6', ]\n",
    "DD_sequences = ['no_dd', 'hahn_X', 'hahn_Y', 'CP', 'CPMG', 'xy4', 'xy8', 'xy16', 'udd1', 'udd2', 'kdd']\n",
    "\n",
    "qft_results_data = {}\n",
    "\n",
    "for i, name in enumerate(circuit_names):\n",
    "    print(f'---------Result of circuit {name} -------------')\n",
    "    for j, jsd in enumerate(qft_jsds[i]):\n",
    "        print(f'jsd result of {DD_sequences[j]}: {jsd}')\n",
    "    qft_results_data[name] = qft_jsds[i]"
   ]
  },
  {
   "cell_type": "code",
   "execution_count": 14,
   "metadata": {},
   "outputs": [
    {
     "data": {
      "text/plain": [
       "{'QFT3': [0.057820524346515294,\n",
       "  0.054389690381959406,\n",
       "  0.0480284484922724,\n",
       "  0.0553627414815798,\n",
       "  0.05964022163874728,\n",
       "  0.05465773454819876,\n",
       "  0.07642216764586765,\n",
       "  0.04817951243898198,\n",
       "  0.0491762951306439,\n",
       "  0.07941200376483583,\n",
       "  0.06063438548432425],\n",
       " 'QFT4': [0.12262137139010473,\n",
       "  0.12026678356298967,\n",
       "  0.1268416947422105,\n",
       "  0.12284752318409749,\n",
       "  0.09637120001886744,\n",
       "  0.10091114060481657,\n",
       "  0.16294372452124287,\n",
       "  0.11244325163912486,\n",
       "  0.11565427838239738,\n",
       "  0.11860921139947361,\n",
       "  0.11830818085373862],\n",
       " 'QFT5': [0.0860940696998467,\n",
       "  0.09080589331741822,\n",
       "  0.09128982299214157,\n",
       "  0.08621551942028059,\n",
       "  0.11954902641954948,\n",
       "  0.10703508981800557,\n",
       "  0.09597140679727785,\n",
       "  0.12509616955358904,\n",
       "  0.0934574405754649,\n",
       "  0.1211135157071287,\n",
       "  0.11704182483355535],\n",
       " 'QFT6': [0.10329411581918174,\n",
       "  0.1025310242760335,\n",
       "  0.10021505095527729,\n",
       "  0.09828464020225441,\n",
       "  0.09134927102134534,\n",
       "  0.0869879227518163,\n",
       "  0.09457413979194952,\n",
       "  0.10664141667855047,\n",
       "  0.10849962139658625,\n",
       "  0.09940336864892646,\n",
       "  0.07908060223272993]}"
      ]
     },
     "execution_count": 14,
     "metadata": {},
     "output_type": "execute_result"
    }
   ],
   "source": [
    "qft_results_data"
   ]
  },
  {
   "cell_type": "code",
   "execution_count": 15,
   "metadata": {
    "collapsed": false,
    "jupyter": {
     "outputs_hidden": false
    },
    "pycharm": {
     "name": "#%%\n"
    }
   },
   "outputs": [],
   "source": [
    "# import numpy as np\n",
    "# import matplotlib.pyplot as plt\n",
    "\n",
    "\n",
    "# baseline = []\n",
    "# circuit_names = ['QFT3', 'QFT4', 'QFT5', 'QFT6']\n",
    "# data = []\n",
    "# for name in circuit_names:\n",
    "#     result_data = qft_results_data[name]\n",
    "#     baseline.append(result_data[0])\n",
    "#     ratio = [result_data[0]/i for i in result_data[1:]]\n",
    "#     data.append(ratio)\n",
    "\n",
    "\n",
    "# data = np.array(data)\n",
    "# #\n",
    "# # hahn_X = data[:, 0]\n",
    "# # hahn_Y = data[:, 1]\n",
    "# cp = data[:, 2]\n",
    "# cpmg = data[:, 3]\n",
    "# xy4 = data[:, 4]\n",
    "# xy8 = data[:, 5]\n",
    "# xy16 = data[:, 6]\n",
    "# udd_X = data[:, 7]\n",
    "# udd_Y = data[:, 8]\n",
    "# kdd = data[:, 9]\n",
    "\n",
    "# x_ticks = circuit_names\n",
    "# X = np.arange(len(x_ticks))\n",
    "\n",
    "# from matplotlib.pyplot import figure\n",
    "# fig = figure(num=None, figsize=(8, 6), dpi=600, facecolor='w', edgecolor='k')\n",
    "# ax = fig.add_axes([0,0,1,1])\n",
    "\n",
    "# # plt.plot(X, hahn_Y, linestyle='--', marker='o', color='g', label='hahn_X')\n",
    "# # plt.plot(X, hahn_X, linestyle='--', marker='s', color='m', label='hahn_Y')\n",
    "# plt.plot(X, cp, linestyle='--', marker='o', color='orange', label='cp')\n",
    "# plt.plot(X, cpmg, linestyle='--', marker='.', color='b', label='cpmg')\n",
    "# plt.plot(X, xy4, linestyle='--', marker='^', color='r', label='xy4')\n",
    "# plt.plot(X, xy8, linestyle='--', marker='X', color='g', label='xy8')\n",
    "# plt.plot(X, xy16, linestyle='--', marker='h', color='c', label='xy16')\n",
    "# plt.plot(X, udd_X, linestyle='--', marker='d', color='y', label='udd_x')\n",
    "# plt.plot(X, udd_Y, linestyle='--', marker='+', color='k', label='udd_y')\n",
    "# plt.plot(X, kdd, linestyle='--', marker='*', color='m', label='kdd')\n",
    "# plt.axhline(1, color='tab:brown', lw=2)\n",
    "\n",
    "# plt.legend(loc='best', fontsize=16)\n",
    "# # ax.set_title('Relative JSD result for QFT circuit on ibmq_jakarta', fontsize=18)\n",
    "# ax.set_xticks(X)\n",
    "# ax.set_xticklabels(x_ticks, fontsize=14)\n",
    "# ax.set_ylabel('Relative JSD', fontsize=16)\n",
    "\n",
    "# plt.savefig('TQE_Relat_JSD_QFT_jakarta_0530.pdf', bbox_inches='tight', pad_inches=0)"
   ]
  },
  {
   "cell_type": "code",
   "execution_count": null,
   "metadata": {
    "collapsed": false,
    "jupyter": {
     "outputs_hidden": false
    },
    "pycharm": {
     "name": "#%%\n"
    }
   },
   "outputs": [],
   "source": []
  },
  {
   "cell_type": "code",
   "execution_count": null,
   "metadata": {},
   "outputs": [],
   "source": []
  }
 ],
 "metadata": {
  "kernelspec": {
   "display_name": "Python 3",
   "language": "python",
   "name": "python3"
  },
  "language_info": {
   "codemirror_mode": {
    "name": "ipython",
    "version": 3
   },
   "file_extension": ".py",
   "mimetype": "text/x-python",
   "name": "python",
   "nbconvert_exporter": "python",
   "pygments_lexer": "ipython3",
   "version": "3.8.5"
  }
 },
 "nbformat": 4,
 "nbformat_minor": 4
}
