{
 "cells": [
  {
   "cell_type": "code",
   "execution_count": 1,
   "metadata": {
    "collapsed": false,
    "jupyter": {
     "outputs_hidden": false
    },
    "pycharm": {
     "name": "#%%\n"
    }
   },
   "outputs": [],
   "source": [
    "from qiskit.transpiler import InstructionDurations\n",
    "from qiskit import IBMQ, transpile, Aer\n",
    "IBMQ.load_account()\n",
    "provider = IBMQ.get_provider(hub='ibm-q-france', group='univ-montpellier', project='default')\n",
    "backend = provider.get_backend('ibmq_jakarta')"
   ]
  },
  {
   "cell_type": "code",
   "execution_count": 2,
   "metadata": {
    "collapsed": false,
    "jupyter": {
     "outputs_hidden": false
    },
    "pycharm": {
     "name": "#%%\n"
    }
   },
   "outputs": [],
   "source": [
    "import os\n",
    "os.getcwd()\n",
    "os.chdir('/home/siyuan/Seafile/Thesis/PycharmProjects/DD_PE_paper/')"
   ]
  },
  {
   "cell_type": "code",
   "execution_count": 3,
   "metadata": {
    "collapsed": false,
    "jupyter": {
     "outputs_hidden": false
    },
    "pycharm": {
     "name": "#%%\n"
    }
   },
   "outputs": [],
   "source": [
    "from src.tools.DD_insertion import construct_bv_circuit, \\\n",
    "                                 construct_graph_matrix, \\\n",
    "                                 convert_count_to_prob, \\\n",
    "                                 translate_circuit_to_basis\n",
    "from qiskit.circuit.library import QFT, GraphState"
   ]
  },
  {
   "cell_type": "code",
   "execution_count": 4,
   "metadata": {
    "collapsed": false,
    "jupyter": {
     "outputs_hidden": false
    },
    "pycharm": {
     "name": "#%%\n"
    }
   },
   "outputs": [],
   "source": [
    "bv_circuits = []\n",
    "hs_circuits = []\n",
    "qft_circuits = []\n",
    "for i in range(3, 7):\n",
    "    bv_circuits.append(construct_bv_circuit(i))\n",
    "\n",
    "# for i in range(2, 15, 2):\n",
    "#     hs_circuits.append(construct_hs_circuit(i))\n",
    "\n",
    "for i in range(3, 7):\n",
    "    qft_circuits.append(QFT(i))\n",
    "\n",
    "for circuit in bv_circuits:\n",
    "    circuit.measure_all()\n",
    "\n",
    "# for circuit in hs_circuits:\n",
    "#     circuit.measure_all()\n",
    "\n",
    "for circuit in qft_circuits:\n",
    "    circuit.measure_all()"
   ]
  },
  {
   "cell_type": "code",
   "execution_count": 5,
   "metadata": {
    "collapsed": false,
    "jupyter": {
     "outputs_hidden": false
    },
    "pycharm": {
     "name": "#%%\n"
    }
   },
   "outputs": [],
   "source": [
    "durations = InstructionDurations.from_backend(backend)\n",
    "## add duration of y gates which are used for DD sequences\n",
    "bconf = backend.configuration()\n",
    "for i in range(bconf.num_qubits):\n",
    "    x_duration = durations.get('x', i)\n",
    "    durations.update(InstructionDurations(\n",
    "        [('y', i, x_duration)]\n",
    "        ))\n",
    "\n",
    "    durations.update(InstructionDurations(\n",
    "        [('rx', i, x_duration)]\n",
    "        ))\n",
    "\n",
    "    durations.update(InstructionDurations(\n",
    "        [('ry', i, x_duration)]\n",
    "        ))"
   ]
  },
  {
   "cell_type": "code",
   "execution_count": 6,
   "metadata": {
    "collapsed": false,
    "jupyter": {
     "outputs_hidden": false
    },
    "pycharm": {
     "name": "#%%\n"
    }
   },
   "outputs": [],
   "source": [
    "graph_state_circuits = []\n",
    "coupling_map = backend.configuration().coupling_map\n",
    "\n",
    "for i in range(3, 7):\n",
    "    gs_circuit_matrix = construct_graph_matrix(i, coupling_map)\n",
    "    graph_state_circuits.append(GraphState(gs_circuit_matrix))\n",
    "\n",
    "for circuit in graph_state_circuits:\n",
    "    circuit.measure_all()"
   ]
  },
  {
   "cell_type": "code",
   "execution_count": null,
   "metadata": {
    "collapsed": false,
    "jupyter": {
     "outputs_hidden": false
    },
    "pycharm": {
     "name": "#%%\n"
    }
   },
   "outputs": [],
   "source": [
    "from src.tools.DD_insertion import pm_DD_sequences\n",
    "pms = pm_DD_sequences(durations)"
   ]
  },
  {
   "cell_type": "code",
   "execution_count": null,
   "metadata": {
    "collapsed": false,
    "jupyter": {
     "outputs_hidden": false
    },
    "pycharm": {
     "name": "#%%\n"
    }
   },
   "outputs": [],
   "source": [
    "bv_job_ids = []\n",
    "bv_jobs = []\n",
    "\n",
    "for circuit in bv_circuits:\n",
    "    circuit_list = []\n",
    "    transpiled_qc = transpile(circuit, backend=backend, optimization_level=3, seed_transpiler=1)\n",
    "    circuit_list.append(transpiled_qc)\n",
    "    for pm in pms:\n",
    "        qc_transpile = pm.run(transpiled_qc)\n",
    "        qc_transpile_base = translate_circuit_to_basis(qc_transpile, bconf)\n",
    "        circuit_list.append(qc_transpile_base)\n",
    "    job = backend.run(circuit_list, shots=8192)\n",
    "    bv_jobs.append(job)\n",
    "    job_id = job.job_id()\n",
    "    print(job_id)\n",
    "    bv_job_ids.append(job_id)"
   ]
  },
  {
   "cell_type": "code",
   "execution_count": null,
   "metadata": {
    "collapsed": false,
    "jupyter": {
     "outputs_hidden": false
    },
    "pycharm": {
     "name": "#%%\n"
    }
   },
   "outputs": [],
   "source": [
    "for job_id in bv_job_ids:\n",
    "    print(job_id)"
   ]
  },
  {
   "cell_type": "code",
   "execution_count": 7,
   "metadata": {
    "collapsed": false,
    "jupyter": {
     "outputs_hidden": false
    },
    "pycharm": {
     "name": "#%%\n"
    }
   },
   "outputs": [
    {
     "name": "stdout",
     "output_type": "stream",
     "text": [
      "---------Result of circuit BV3 -------------\n",
      "pst result of no_dd: 0.3978271484375\n",
      "pst result of hahn_X: 0.3980712890625\n",
      "pst result of hahn_Y: 0.3966064453125\n",
      "pst result of CP: 0.400634765625\n",
      "pst result of CPMG: 0.3992919921875\n",
      "pst result of xy4: 0.4019775390625\n",
      "pst result of xy8: 0.40966796875\n",
      "pst result of xy16: 0.4029541015625\n",
      "pst result of udd1: 0.389892578125\n",
      "pst result of udd2: 0.40478515625\n",
      "pst result of kdd: 0.39013671875\n",
      "---------Result of circuit BV4 -------------\n",
      "pst result of no_dd: 0.4068603515625\n",
      "pst result of hahn_X: 0.4150390625\n",
      "pst result of hahn_Y: 0.3988037109375\n",
      "pst result of CP: 0.42529296875\n",
      "pst result of CPMG: 0.43212890625\n",
      "pst result of xy4: 0.427734375\n",
      "pst result of xy8: 0.431396484375\n",
      "pst result of xy16: 0.42138671875\n",
      "pst result of udd1: 0.42919921875\n",
      "pst result of udd2: 0.431396484375\n",
      "pst result of kdd: 0.427001953125\n",
      "---------Result of circuit BV5 -------------\n",
      "pst result of no_dd: 0.3890380859375\n",
      "pst result of hahn_X: 0.393798828125\n",
      "pst result of hahn_Y: 0.3792724609375\n",
      "pst result of CP: 0.408203125\n",
      "pst result of CPMG: 0.3931884765625\n",
      "pst result of xy4: 0.4114990234375\n",
      "pst result of xy8: 0.40869140625\n",
      "pst result of xy16: 0.3824462890625\n",
      "pst result of udd1: 0.411376953125\n",
      "pst result of udd2: 0.3941650390625\n",
      "pst result of kdd: 0.380859375\n",
      "---------Result of circuit BV6 -------------\n",
      "pst result of no_dd: 0.2554931640625\n",
      "pst result of hahn_X: 0.2581787109375\n",
      "pst result of hahn_Y: 0.26513671875\n",
      "pst result of CP: 0.3271484375\n",
      "pst result of CPMG: 0.3228759765625\n",
      "pst result of xy4: 0.30810546875\n",
      "pst result of xy8: 0.30908203125\n",
      "pst result of xy16: 0.292236328125\n",
      "pst result of udd1: 0.324951171875\n",
      "pst result of udd2: 0.3104248046875\n",
      "pst result of kdd: 0.283447265625\n"
     ]
    }
   ],
   "source": [
    "from qiskit import execute\n",
    "\n",
    "shots = 8192\n",
    "psts = []\n",
    "bv_job_ids = [\n",
    "    '628e25b0f559705bd3d5c6f9',\n",
    "    '628e25b204d37422a865d6ea',\n",
    "    '628e25b4e2745b027bd266cf',\n",
    "    '628e25b6c7a7350423318793',\n",
    "\n",
    "\n",
    "]\n",
    "for i, circuit in enumerate(bv_circuits):\n",
    "    ideal_counts = execute(circuit, backend=Aer.get_backend('qasm_simulator'), shots=shots).result().get_counts()\n",
    "    ideal_result = list(ideal_counts.keys())[0]\n",
    "    result_counts = backend.retrieve_job(bv_job_ids[i]).result().get_counts()\n",
    "    pst = []\n",
    "    for result_count in result_counts:\n",
    "        pst.append(result_count[ideal_result]/shots)\n",
    "    psts.append(pst)\n",
    "\n",
    "bv_circuit_names = ['BV3', 'BV4', 'BV5', 'BV6']\n",
    "DD_sequences = ['no_dd', 'hahn_X', 'hahn_Y', 'CP', 'CPMG', 'xy4', 'xy8', 'xy16', 'udd1', 'udd2', 'kdd']\n",
    "bv_results_data = {}\n",
    "\n",
    "for i, name in enumerate(bv_circuit_names):\n",
    "    print(f'---------Result of circuit {name} -------------')\n",
    "    for j, pst in enumerate(psts[i]):\n",
    "        print(f'pst result of {DD_sequences[j]}: {pst}')\n",
    "    bv_results_data[name] = psts[i]"
   ]
  },
  {
   "cell_type": "code",
   "execution_count": 8,
   "metadata": {},
   "outputs": [
    {
     "data": {
      "text/plain": [
       "{'BV3': [0.3978271484375,\n",
       "  0.3980712890625,\n",
       "  0.3966064453125,\n",
       "  0.400634765625,\n",
       "  0.3992919921875,\n",
       "  0.4019775390625,\n",
       "  0.40966796875,\n",
       "  0.4029541015625,\n",
       "  0.389892578125,\n",
       "  0.40478515625,\n",
       "  0.39013671875],\n",
       " 'BV4': [0.4068603515625,\n",
       "  0.4150390625,\n",
       "  0.3988037109375,\n",
       "  0.42529296875,\n",
       "  0.43212890625,\n",
       "  0.427734375,\n",
       "  0.431396484375,\n",
       "  0.42138671875,\n",
       "  0.42919921875,\n",
       "  0.431396484375,\n",
       "  0.427001953125],\n",
       " 'BV5': [0.3890380859375,\n",
       "  0.393798828125,\n",
       "  0.3792724609375,\n",
       "  0.408203125,\n",
       "  0.3931884765625,\n",
       "  0.4114990234375,\n",
       "  0.40869140625,\n",
       "  0.3824462890625,\n",
       "  0.411376953125,\n",
       "  0.3941650390625,\n",
       "  0.380859375],\n",
       " 'BV6': [0.2554931640625,\n",
       "  0.2581787109375,\n",
       "  0.26513671875,\n",
       "  0.3271484375,\n",
       "  0.3228759765625,\n",
       "  0.30810546875,\n",
       "  0.30908203125,\n",
       "  0.292236328125,\n",
       "  0.324951171875,\n",
       "  0.3104248046875,\n",
       "  0.283447265625]}"
      ]
     },
     "execution_count": 8,
     "metadata": {},
     "output_type": "execute_result"
    }
   ],
   "source": [
    "bv_results_data"
   ]
  },
  {
   "cell_type": "code",
   "execution_count": 9,
   "metadata": {
    "collapsed": false,
    "jupyter": {
     "outputs_hidden": false
    },
    "pycharm": {
     "name": "#%%\n"
    }
   },
   "outputs": [],
   "source": [
    "# import numpy as np\n",
    "# import matplotlib.pyplot as plt\n",
    "\n",
    "# baseline = []\n",
    "\n",
    "# data = []\n",
    "# for name in bv_circuit_names:\n",
    "#     result_data = bv_results_data[name]\n",
    "#     baseline.append(result_data[0])\n",
    "#     ratio = [i/result_data[0] for i in result_data[1:]]\n",
    "#     data.append(ratio)\n",
    "\n",
    "\n",
    "# data = np.array(data)\n",
    "\n",
    "# # hahn_X = data[:, 0]\n",
    "# # hahn_Y = data[:, 1]\n",
    "\n",
    "# cp = data[:, 2]\n",
    "# cpmg = data[:, 3]\n",
    "# xy4 = data[:, 4]\n",
    "# xy8 = data[:, 5]\n",
    "# xy16 = list(data[2:, 6])\n",
    "# xy16.insert(0, None)\n",
    "# xy16.insert(0, None)\n",
    "# udd_X = data[:, 7]\n",
    "# udd_Y = data[:, 8]\n",
    "# kdd = list(data[2:, 9])\n",
    "# kdd.insert(0, None)\n",
    "# kdd.insert(0, None)\n",
    "\n",
    "\n",
    "# x_ticks = bv_circuit_names[:]\n",
    "# X = np.arange(len(x_ticks))\n",
    "\n",
    "# from matplotlib.pyplot import figure\n",
    "# fig = figure(num=None, figsize=(8, 6), dpi=600, facecolor='w', edgecolor='k')\n",
    "# ax = fig.add_axes([0,0,1,1])\n",
    "\n",
    "# # plt.plot(X, hahn_Y, linestyle='--', marker='o', color='g', label='hahn_X')\n",
    "# # plt.plot(X, hahn_X, linestyle='--', marker='s', color='m', label='hahn_Y')\n",
    "# plt.plot(X, cp, linestyle='--', marker='o', color='orange', label='cp')\n",
    "# plt.plot(X, cpmg, linestyle='--', marker='.', color='b', label='cpmg')\n",
    "# plt.plot(X, xy4, linestyle='--', marker='^', color='r', label='xy4')\n",
    "# plt.plot(X, xy8, linestyle='--', marker='X', color='g', label='xy8')\n",
    "# plt.plot(X, xy16, linestyle='--', marker='h', color='c', label='xy16')\n",
    "# plt.plot(X, udd_X, linestyle='--', marker='d', color='y', label='udd_x')\n",
    "# plt.plot(X, udd_Y, linestyle='--', marker='+', color='k', label='udd_y')\n",
    "# plt.plot(X, kdd, linestyle='--', marker='*', color='m', label='kdd')\n",
    "# plt.axhline(1, color='tab:brown', lw=2)\n",
    "\n",
    "# plt.legend(loc='best', fontsize=16)\n",
    "# # ax.set_title('Relative PST result for BV circuit on ibmq_jakarta', fontsize=18)\n",
    "# ax.set_xticks(X)\n",
    "# ax.set_xticklabels(x_ticks, fontsize=14)\n",
    "# ax.set_ylabel('Relative PST', fontsize=16)\n",
    "# plt.savefig('TQE_Relat_PST_BV_jakarta_T.pdf', bbox_inches='tight', pad_inches=0)"
   ]
  },
  {
   "cell_type": "code",
   "execution_count": null,
   "metadata": {
    "collapsed": false,
    "jupyter": {
     "outputs_hidden": false
    },
    "pycharm": {
     "name": "#%%\n"
    }
   },
   "outputs": [],
   "source": [
    "gs_job_ids = []\n",
    "gs_jobs = []\n",
    "\n",
    "for circuit in graph_state_circuits:\n",
    "    circuit_list = []\n",
    "    transpiled_qc = transpile(circuit, backend=backend, optimization_level=3, seed_transpiler=1)\n",
    "    circuit_list.append(transpiled_qc)\n",
    "    for pm in pms:\n",
    "        qc_transpile = pm.run(transpiled_qc)\n",
    "        qc_transpile_base = translate_circuit_to_basis(qc_transpile, bconf)\n",
    "        circuit_list.append(qc_transpile_base)\n",
    "    job = backend.run(circuit_list, shots=8192)\n",
    "    gs_jobs.append(job)\n",
    "    job_id = job.job_id()\n",
    "    print(job_id)\n",
    "    gs_job_ids.append(job_id)"
   ]
  },
  {
   "cell_type": "code",
   "execution_count": null,
   "metadata": {
    "collapsed": false,
    "jupyter": {
     "outputs_hidden": false
    },
    "pycharm": {
     "name": "#%%\n"
    }
   },
   "outputs": [],
   "source": [
    "for job_id in gs_job_ids:\n",
    "    print(job_id)"
   ]
  },
  {
   "cell_type": "code",
   "execution_count": 10,
   "metadata": {
    "collapsed": false,
    "jupyter": {
     "outputs_hidden": false
    },
    "pycharm": {
     "name": "#%%\n"
    }
   },
   "outputs": [
    {
     "name": "stdout",
     "output_type": "stream",
     "text": [
      "---------Result of circuit GS3 -------------\n",
      "jsd result of no_dd: 0.019789448016555935\n",
      "jsd result of hahn_X: 0.03153639265589239\n",
      "jsd result of hahn_Y: 0.024528115150451214\n",
      "jsd result of CP: 0.015507879527412312\n",
      "jsd result of CPMG: 0.040105583352038204\n",
      "jsd result of xy4: 0.04058687222912324\n",
      "jsd result of xy8: 0.03705538741606715\n",
      "jsd result of xy16: 0.020430532883121636\n",
      "jsd result of udd1: 0.02418549965096496\n",
      "jsd result of udd2: 0.03753261711631541\n",
      "jsd result of kdd: 0.020033970269038505\n",
      "---------Result of circuit GS4 -------------\n",
      "jsd result of no_dd: 0.055770784744942146\n",
      "jsd result of hahn_X: 0.06271039684814907\n",
      "jsd result of hahn_Y: 0.06034122259789145\n",
      "jsd result of CP: 0.05308067270571335\n",
      "jsd result of CPMG: 0.05543077425174977\n",
      "jsd result of xy4: 0.0599375481244922\n",
      "jsd result of xy8: 0.052598126815629365\n",
      "jsd result of xy16: 0.061481265393749915\n",
      "jsd result of udd1: 0.055422477483286006\n",
      "jsd result of udd2: 0.06389058470078746\n",
      "jsd result of kdd: 0.05668093502149895\n",
      "---------Result of circuit GS5 -------------\n",
      "jsd result of no_dd: 0.05053178936247443\n",
      "jsd result of hahn_X: 0.056020610371283405\n",
      "jsd result of hahn_Y: 0.05081058428416144\n",
      "jsd result of CP: 0.06182007610042269\n",
      "jsd result of CPMG: 0.04933010800768173\n",
      "jsd result of xy4: 0.053259550859701944\n",
      "jsd result of xy8: 0.0568048601360114\n",
      "jsd result of xy16: 0.06458427569335526\n",
      "jsd result of udd1: 0.044457867769521604\n",
      "jsd result of udd2: 0.055231289571971334\n",
      "jsd result of kdd: 0.0598192339930966\n",
      "---------Result of circuit GS6 -------------\n",
      "jsd result of no_dd: 0.06578725817467058\n",
      "jsd result of hahn_X: 0.06369919104674344\n",
      "jsd result of hahn_Y: 0.05884586977670418\n",
      "jsd result of CP: 0.07007025213768082\n",
      "jsd result of CPMG: 0.06328627596739915\n",
      "jsd result of xy4: 0.07017731635046047\n",
      "jsd result of xy8: 0.06372221544682251\n",
      "jsd result of xy16: 0.0645397712763754\n",
      "jsd result of udd1: 0.06094524346097034\n",
      "jsd result of udd2: 0.06901468600027913\n",
      "jsd result of kdd: 0.06803805171736622\n"
     ]
    }
   ],
   "source": [
    "from scipy.spatial.distance import jensenshannon\n",
    "from qiskit import execute\n",
    "gs_jsds = []\n",
    "\n",
    "gs_job_ids = [\n",
    "    '628e25f49fca8fff2c716b07',\n",
    "    '628e25f6fdc452a94fb2b95c',\n",
    "    '628e25fbf5597049d8d5c6fd',\n",
    "    '628e2606732c39662fd68259',\n",
    "]\n",
    "\n",
    "\n",
    "shots = 8192\n",
    "\n",
    "for i, circuit in enumerate(graph_state_circuits):\n",
    "    ideal_counts = execute(circuit, backend=Aer.get_backend('qasm_simulator'), shots=shots).result().get_counts()\n",
    "    result_counts = backend.retrieve_job(gs_job_ids[i]).result().get_counts()\n",
    "    jsd = []\n",
    "    for result_count in result_counts:\n",
    "        p_ideal, p_result = convert_count_to_prob(result_count, ideal_counts, shots=shots)\n",
    "        jsd.append(jensenshannon(p_ideal, p_result))\n",
    "    gs_jsds.append(jsd)\n",
    "\n",
    "circuit_names = ['GS3', 'GS4', 'GS5', 'GS6',]\n",
    "DD_sequences = ['no_dd', 'hahn_X', 'hahn_Y', 'CP', 'CPMG', 'xy4', 'xy8', 'xy16', 'udd1', 'udd2', 'kdd']\n",
    "\n",
    "gs_results_data = {}\n",
    "\n",
    "for i, name in enumerate(circuit_names):\n",
    "    print(f'---------Result of circuit {name} -------------')\n",
    "    for j, jsd in enumerate(gs_jsds[i]):\n",
    "        print(f'jsd result of {DD_sequences[j]}: {jsd}')\n",
    "    gs_results_data[name] = gs_jsds[i]"
   ]
  },
  {
   "cell_type": "code",
   "execution_count": 11,
   "metadata": {},
   "outputs": [
    {
     "data": {
      "text/plain": [
       "{'GS3': [0.019789448016555935,\n",
       "  0.03153639265589239,\n",
       "  0.024528115150451214,\n",
       "  0.015507879527412312,\n",
       "  0.040105583352038204,\n",
       "  0.04058687222912324,\n",
       "  0.03705538741606715,\n",
       "  0.020430532883121636,\n",
       "  0.02418549965096496,\n",
       "  0.03753261711631541,\n",
       "  0.020033970269038505],\n",
       " 'GS4': [0.055770784744942146,\n",
       "  0.06271039684814907,\n",
       "  0.06034122259789145,\n",
       "  0.05308067270571335,\n",
       "  0.05543077425174977,\n",
       "  0.0599375481244922,\n",
       "  0.052598126815629365,\n",
       "  0.061481265393749915,\n",
       "  0.055422477483286006,\n",
       "  0.06389058470078746,\n",
       "  0.05668093502149895],\n",
       " 'GS5': [0.05053178936247443,\n",
       "  0.056020610371283405,\n",
       "  0.05081058428416144,\n",
       "  0.06182007610042269,\n",
       "  0.04933010800768173,\n",
       "  0.053259550859701944,\n",
       "  0.0568048601360114,\n",
       "  0.06458427569335526,\n",
       "  0.044457867769521604,\n",
       "  0.055231289571971334,\n",
       "  0.0598192339930966],\n",
       " 'GS6': [0.06578725817467058,\n",
       "  0.06369919104674344,\n",
       "  0.05884586977670418,\n",
       "  0.07007025213768082,\n",
       "  0.06328627596739915,\n",
       "  0.07017731635046047,\n",
       "  0.06372221544682251,\n",
       "  0.0645397712763754,\n",
       "  0.06094524346097034,\n",
       "  0.06901468600027913,\n",
       "  0.06803805171736622]}"
      ]
     },
     "execution_count": 11,
     "metadata": {},
     "output_type": "execute_result"
    }
   ],
   "source": [
    "gs_results_data"
   ]
  },
  {
   "cell_type": "code",
   "execution_count": 12,
   "metadata": {
    "collapsed": false,
    "jupyter": {
     "outputs_hidden": false
    },
    "pycharm": {
     "name": "#%%\n"
    }
   },
   "outputs": [],
   "source": [
    "# baseline = []\n",
    "\n",
    "# data = []\n",
    "# for name in circuit_names:\n",
    "#     result_data = gs_results_data[name]\n",
    "#     baseline.append(result_data[0])\n",
    "#     ratio = [result_data[0]/i for i in result_data[1:]]\n",
    "#     data.append(ratio)\n",
    "\n",
    "\n",
    "# data = np.array(data)\n",
    "# #\n",
    "# # hahn_X = data[:, 0]\n",
    "# # hahn_Y = data[:, 1]\n",
    "# cp = data[:, 2]\n",
    "# cpmg = data[:, 3]\n",
    "# xy4 = data[:, 4]\n",
    "# xy8 = data[:, 5]\n",
    "# xy16 = data[:, 6]\n",
    "# udd_X = data[:, 7]\n",
    "# udd_Y = data[:, 8]\n",
    "# kdd = data[:, 9]\n",
    "\n",
    "# x_ticks = circuit_names\n",
    "# X = np.arange(len(x_ticks))\n",
    "\n",
    "# from matplotlib.pyplot import figure\n",
    "# fig = figure(num=None, figsize=(8, 6), dpi=600, facecolor='w', edgecolor='k')\n",
    "# ax = fig.add_axes([0,0,1,1])\n",
    "\n",
    "# # plt.plot(X, hahn_Y, linestyle='--', marker='o', color='g', label='hahn_X')\n",
    "# # plt.plot(X, hahn_X, linestyle='--', marker='s', color='m', label='hahn_Y')\n",
    "# plt.plot(X, cp, linestyle='--', marker='o', color='orange', label='cp')\n",
    "# plt.plot(X, cpmg, linestyle='--', marker='.', color='b', label='cpmg')\n",
    "# plt.plot(X, xy4, linestyle='--', marker='^', color='r', label='xy4')\n",
    "# plt.plot(X, xy8, linestyle='--', marker='X', color='g', label='xy8')\n",
    "# plt.plot(X, xy16, linestyle='--', marker='h', color='c', label='xy16')\n",
    "# plt.plot(X, udd_X, linestyle='--', marker='d', color='y', label='udd_x')\n",
    "# plt.plot(X, udd_Y, linestyle='--', marker='+', color='k', label='udd_y')\n",
    "# plt.plot(X, kdd, linestyle='--', marker='*', color='m', label='kdd')\n",
    "# plt.axhline(1, color='tab:brown', lw=2)\n",
    "\n",
    "# plt.legend(loc='best', fontsize=16)\n",
    "# # ax.set_title('Relative JSD result for GS circuit on ibmq_jakarta', fontsize=18)\n",
    "# ax.set_xticks(X)\n",
    "# ax.set_xticklabels(x_ticks, fontsize=14)\n",
    "# ax.set_ylabel('Relative JSD', fontsize=16)\n",
    "\n",
    "# plt.savefig('TQE_Relat_JSD_GS_jakarta.pdf', bbox_inches='tight', pad_inches=0)"
   ]
  },
  {
   "cell_type": "code",
   "execution_count": null,
   "metadata": {
    "collapsed": false,
    "jupyter": {
     "outputs_hidden": false
    },
    "pycharm": {
     "name": "#%%\n"
    }
   },
   "outputs": [],
   "source": [
    "qft_job_ids = []\n",
    "qft_jobs = []\n",
    "\n",
    "for circuit in qft_circuits:\n",
    "    circuit_list = []\n",
    "    transpiled_qc = transpile(circuit, backend=backend, optimization_level=3, seed_transpiler=1)\n",
    "    circuit_list.append(transpiled_qc)\n",
    "    for pm in pms:\n",
    "        qc_transpile = pm.run(transpiled_qc)\n",
    "        qc_transpile_base = translate_circuit_to_basis(qc_transpile, bconf)\n",
    "        circuit_list.append(qc_transpile_base)\n",
    "    job = backend.run(circuit_list, shots=8192)\n",
    "    qft_jobs.append(job)\n",
    "    job_id = job.job_id()\n",
    "    print(job_id)\n",
    "    qft_job_ids.append(job_id)"
   ]
  },
  {
   "cell_type": "code",
   "execution_count": null,
   "metadata": {
    "collapsed": false,
    "jupyter": {
     "outputs_hidden": false
    },
    "pycharm": {
     "name": "#%%\n"
    }
   },
   "outputs": [],
   "source": [
    "for job_id in qft_job_ids:\n",
    "    print(job_id)"
   ]
  },
  {
   "cell_type": "code",
   "execution_count": 13,
   "metadata": {
    "collapsed": false,
    "jupyter": {
     "outputs_hidden": false
    },
    "pycharm": {
     "name": "#%%\n"
    }
   },
   "outputs": [
    {
     "name": "stdout",
     "output_type": "stream",
     "text": [
      "---------Result of circuit QFT3 -------------\n",
      "jsd result of no_dd: 0.03868266715712318\n",
      "jsd result of hahn_X: 0.03900376190820131\n",
      "jsd result of hahn_Y: 0.03857972136646133\n",
      "jsd result of CP: 0.03962436155687481\n",
      "jsd result of CPMG: 0.07286878287140065\n",
      "jsd result of xy4: 0.06488469803394097\n",
      "jsd result of xy8: 0.053374794723515855\n",
      "jsd result of xy16: 0.04643303008537045\n",
      "jsd result of udd1: 0.03401416016859357\n",
      "jsd result of udd2: 0.09455472212196042\n",
      "jsd result of kdd: 0.06737630097140775\n",
      "---------Result of circuit QFT4 -------------\n",
      "jsd result of no_dd: 0.11286464107223226\n",
      "jsd result of hahn_X: 0.10275196282883871\n",
      "jsd result of hahn_Y: 0.10933642770286346\n",
      "jsd result of CP: 0.11555981693402272\n",
      "jsd result of CPMG: 0.10973666031273999\n",
      "jsd result of xy4: 0.10548223592611485\n",
      "jsd result of xy8: 0.1418225314432238\n",
      "jsd result of xy16: 0.10574702145996223\n",
      "jsd result of udd1: 0.11082196982487058\n",
      "jsd result of udd2: 0.13666197897187143\n",
      "jsd result of kdd: 0.1207093669914582\n",
      "---------Result of circuit QFT5 -------------\n",
      "jsd result of no_dd: 0.14009343256529766\n",
      "jsd result of hahn_X: 0.14209952723510832\n",
      "jsd result of hahn_Y: 0.14279397974229796\n",
      "jsd result of CP: 0.14158527328836634\n",
      "jsd result of CPMG: 0.09956127142952736\n",
      "jsd result of xy4: 0.12886206956831345\n",
      "jsd result of xy8: 0.0992164326398858\n",
      "jsd result of xy16: 0.06579942195124326\n",
      "jsd result of udd1: 0.16934481376426425\n",
      "jsd result of udd2: 0.11797581226455357\n",
      "jsd result of kdd: 0.08579253708560398\n",
      "---------Result of circuit QFT6 -------------\n",
      "jsd result of no_dd: 0.138916748232926\n",
      "jsd result of hahn_X: 0.13805201314691537\n",
      "jsd result of hahn_Y: 0.13649136253368002\n",
      "jsd result of CP: 0.1026915867126718\n",
      "jsd result of CPMG: 0.09398188209374822\n",
      "jsd result of xy4: 0.08007830089303548\n",
      "jsd result of xy8: 0.07852694280036794\n",
      "jsd result of xy16: 0.10243152698835943\n",
      "jsd result of udd1: 0.10098362274146533\n",
      "jsd result of udd2: 0.11638064623369926\n",
      "jsd result of kdd: 0.0881677180294605\n"
     ]
    }
   ],
   "source": [
    "from scipy.spatial.distance import jensenshannon\n",
    "qft_jsds = []\n",
    "\n",
    "qft_job_ids = [\n",
    "    '628e262d41fd146849a417b0',\n",
    "    '628e2638c7a735c91e318798',\n",
    "    '628e263b9fca8fa94d716b0a',\n",
    "    '628e264b9fca8feff8716b0b',\n",
    "]\n",
    "\n",
    "shots = 8192\n",
    "\n",
    "for i, circuit in enumerate(qft_circuits):\n",
    "    ideal_counts = execute(circuit, backend=Aer.get_backend('qasm_simulator'), shots=shots).result().get_counts()\n",
    "    result_counts = backend.retrieve_job(qft_job_ids[i]).result().get_counts()\n",
    "    jsd = []\n",
    "    for result_count in result_counts:\n",
    "        p_ideal, p_result = convert_count_to_prob(result_count, ideal_counts, shots=shots)\n",
    "        jsd.append(jensenshannon(p_ideal, p_result))\n",
    "    qft_jsds.append(jsd)\n",
    "\n",
    "circuit_names = ['QFT3', 'QFT4', 'QFT5', 'QFT6', ]\n",
    "DD_sequences = ['no_dd', 'hahn_X', 'hahn_Y', 'CP', 'CPMG', 'xy4', 'xy8', 'xy16', 'udd1', 'udd2', 'kdd']\n",
    "\n",
    "qft_results_data = {}\n",
    "\n",
    "for i, name in enumerate(circuit_names):\n",
    "    print(f'---------Result of circuit {name} -------------')\n",
    "    for j, jsd in enumerate(qft_jsds[i]):\n",
    "        print(f'jsd result of {DD_sequences[j]}: {jsd}')\n",
    "    qft_results_data[name] = qft_jsds[i]"
   ]
  },
  {
   "cell_type": "code",
   "execution_count": 14,
   "metadata": {},
   "outputs": [
    {
     "data": {
      "text/plain": [
       "{'QFT3': [0.03868266715712318,\n",
       "  0.03900376190820131,\n",
       "  0.03857972136646133,\n",
       "  0.03962436155687481,\n",
       "  0.07286878287140065,\n",
       "  0.06488469803394097,\n",
       "  0.053374794723515855,\n",
       "  0.04643303008537045,\n",
       "  0.03401416016859357,\n",
       "  0.09455472212196042,\n",
       "  0.06737630097140775],\n",
       " 'QFT4': [0.11286464107223226,\n",
       "  0.10275196282883871,\n",
       "  0.10933642770286346,\n",
       "  0.11555981693402272,\n",
       "  0.10973666031273999,\n",
       "  0.10548223592611485,\n",
       "  0.1418225314432238,\n",
       "  0.10574702145996223,\n",
       "  0.11082196982487058,\n",
       "  0.13666197897187143,\n",
       "  0.1207093669914582],\n",
       " 'QFT5': [0.14009343256529766,\n",
       "  0.14209952723510832,\n",
       "  0.14279397974229796,\n",
       "  0.14158527328836634,\n",
       "  0.09956127142952736,\n",
       "  0.12886206956831345,\n",
       "  0.0992164326398858,\n",
       "  0.06579942195124326,\n",
       "  0.16934481376426425,\n",
       "  0.11797581226455357,\n",
       "  0.08579253708560398],\n",
       " 'QFT6': [0.138916748232926,\n",
       "  0.13805201314691537,\n",
       "  0.13649136253368002,\n",
       "  0.1026915867126718,\n",
       "  0.09398188209374822,\n",
       "  0.08007830089303548,\n",
       "  0.07852694280036794,\n",
       "  0.10243152698835943,\n",
       "  0.10098362274146533,\n",
       "  0.11638064623369926,\n",
       "  0.0881677180294605]}"
      ]
     },
     "execution_count": 14,
     "metadata": {},
     "output_type": "execute_result"
    }
   ],
   "source": [
    "qft_results_data"
   ]
  },
  {
   "cell_type": "code",
   "execution_count": 15,
   "metadata": {
    "collapsed": false,
    "jupyter": {
     "outputs_hidden": false
    },
    "pycharm": {
     "name": "#%%\n"
    }
   },
   "outputs": [],
   "source": [
    "# import numpy as np\n",
    "# import matplotlib.pyplot as plt\n",
    "\n",
    "\n",
    "# baseline = []\n",
    "# circuit_names = ['QFT3', 'QFT4', 'QFT5', 'QFT6']\n",
    "# data = []\n",
    "# for name in circuit_names:\n",
    "#     result_data = qft_results_data[name]\n",
    "#     baseline.append(result_data[0])\n",
    "#     ratio = [result_data[0]/i for i in result_data[1:]]\n",
    "#     data.append(ratio)\n",
    "\n",
    "\n",
    "# data = np.array(data)\n",
    "# #\n",
    "# # hahn_X = data[:, 0]\n",
    "# # hahn_Y = data[:, 1]\n",
    "# cp = data[:, 2]\n",
    "# cpmg = data[:, 3]\n",
    "# xy4 = data[:, 4]\n",
    "# xy8 = data[:, 5]\n",
    "# xy16 = data[:, 6]\n",
    "# udd_X = data[:, 7]\n",
    "# udd_Y = data[:, 8]\n",
    "# kdd = data[:, 9]\n",
    "\n",
    "# x_ticks = circuit_names\n",
    "# X = np.arange(len(x_ticks))\n",
    "\n",
    "# from matplotlib.pyplot import figure\n",
    "# fig = figure(num=None, figsize=(8, 6), dpi=600, facecolor='w', edgecolor='k')\n",
    "# ax = fig.add_axes([0,0,1,1])\n",
    "\n",
    "# # plt.plot(X, hahn_Y, linestyle='--', marker='o', color='g', label='hahn_X')\n",
    "# # plt.plot(X, hahn_X, linestyle='--', marker='s', color='m', label='hahn_Y')\n",
    "# plt.plot(X, cp, linestyle='--', marker='o', color='orange', label='cp')\n",
    "# plt.plot(X, cpmg, linestyle='--', marker='.', color='b', label='cpmg')\n",
    "# plt.plot(X, xy4, linestyle='--', marker='^', color='r', label='xy4')\n",
    "# plt.plot(X, xy8, linestyle='--', marker='X', color='g', label='xy8')\n",
    "# plt.plot(X, xy16, linestyle='--', marker='h', color='c', label='xy16')\n",
    "# plt.plot(X, udd_X, linestyle='--', marker='d', color='y', label='udd_x')\n",
    "# plt.plot(X, udd_Y, linestyle='--', marker='+', color='k', label='udd_y')\n",
    "# plt.plot(X, kdd, linestyle='--', marker='*', color='m', label='kdd')\n",
    "# plt.axhline(1, color='tab:brown', lw=2)\n",
    "\n",
    "# plt.legend(loc='best', fontsize=16)\n",
    "# # ax.set_title('Relative JSD result for QFT circuit on ibmq_jakarta', fontsize=18)\n",
    "# ax.set_xticks(X)\n",
    "# ax.set_xticklabels(x_ticks, fontsize=14)\n",
    "# ax.set_ylabel('Relative JSD', fontsize=16)\n",
    "\n",
    "# plt.savefig('TQE_Relat_JSD_QFT_jakarta.pdf', bbox_inches='tight', pad_inches=0)"
   ]
  },
  {
   "cell_type": "code",
   "execution_count": null,
   "metadata": {
    "collapsed": false,
    "jupyter": {
     "outputs_hidden": false
    },
    "pycharm": {
     "name": "#%%\n"
    }
   },
   "outputs": [],
   "source": []
  },
  {
   "cell_type": "code",
   "execution_count": null,
   "metadata": {},
   "outputs": [],
   "source": []
  }
 ],
 "metadata": {
  "kernelspec": {
   "display_name": "Python 3",
   "language": "python",
   "name": "python3"
  },
  "language_info": {
   "codemirror_mode": {
    "name": "ipython",
    "version": 3
   },
   "file_extension": ".py",
   "mimetype": "text/x-python",
   "name": "python",
   "nbconvert_exporter": "python",
   "pygments_lexer": "ipython3",
   "version": "3.8.5"
  }
 },
 "nbformat": 4,
 "nbformat_minor": 4
}
