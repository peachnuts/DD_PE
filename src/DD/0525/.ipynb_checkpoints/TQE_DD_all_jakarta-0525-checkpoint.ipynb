{
 "cells": [
  {
   "cell_type": "code",
   "execution_count": 1,
   "outputs": [],
   "source": [
    "from qiskit.transpiler import InstructionDurations\n",
    "from qiskit import IBMQ, transpile, Aer\n",
    "IBMQ.load_account()\n",
    "provider = IBMQ.get_provider(hub='ibm-q-france', group='univ-montpellier', project='default')\n",
    "backend = provider.get_backend('ibmq_jakarta')"
   ],
   "metadata": {
    "collapsed": false,
    "pycharm": {
     "name": "#%%\n"
    }
   }
  },
  {
   "cell_type": "code",
   "execution_count": 3,
   "outputs": [],
   "source": [
    "from src.tools.DD_insertion import construct_bv_circuit, \\\n",
    "                                 construct_graph_matrix, \\\n",
    "                                 convert_count_to_prob, \\\n",
    "                                 translate_circuit_to_basis\n",
    "from qiskit.circuit.library import QFT, GraphState"
   ],
   "metadata": {
    "collapsed": false,
    "pycharm": {
     "name": "#%%\n"
    }
   }
  },
  {
   "cell_type": "code",
   "execution_count": 4,
   "outputs": [],
   "source": [
    "bv_circuits = []\n",
    "hs_circuits = []\n",
    "qft_circuits = []\n",
    "for i in range(3, 7):\n",
    "    bv_circuits.append(construct_bv_circuit(i))\n",
    "\n",
    "# for i in range(2, 15, 2):\n",
    "#     hs_circuits.append(construct_hs_circuit(i))\n",
    "\n",
    "for i in range(3, 7):\n",
    "    qft_circuits.append(QFT(i))\n",
    "\n",
    "for circuit in bv_circuits:\n",
    "    circuit.measure_all()\n",
    "\n",
    "# for circuit in hs_circuits:\n",
    "#     circuit.measure_all()\n",
    "\n",
    "for circuit in qft_circuits:\n",
    "    circuit.measure_all()"
   ],
   "metadata": {
    "collapsed": false,
    "pycharm": {
     "name": "#%%\n"
    }
   }
  },
  {
   "cell_type": "code",
   "execution_count": 5,
   "outputs": [],
   "source": [
    "durations = InstructionDurations.from_backend(backend)\n",
    "## add duration of y gates which are used for DD sequences\n",
    "bconf = backend.configuration()\n",
    "for i in range(bconf.num_qubits):\n",
    "    x_duration = durations.get('x', i)\n",
    "    durations.update(InstructionDurations(\n",
    "        [('y', i, x_duration)]\n",
    "        ))\n",
    "\n",
    "    durations.update(InstructionDurations(\n",
    "        [('rx', i, x_duration)]\n",
    "        ))\n",
    "\n",
    "    durations.update(InstructionDurations(\n",
    "        [('ry', i, x_duration)]\n",
    "        ))"
   ],
   "metadata": {
    "collapsed": false,
    "pycharm": {
     "name": "#%%\n"
    }
   }
  },
  {
   "cell_type": "code",
   "execution_count": 6,
   "outputs": [],
   "source": [
    "graph_state_circuits = []\n",
    "coupling_map = backend.configuration().coupling_map\n",
    "\n",
    "for i in range(3, 7):\n",
    "    gs_circuit_matrix = construct_graph_matrix(i, coupling_map)\n",
    "    graph_state_circuits.append(GraphState(gs_circuit_matrix))\n",
    "\n",
    "for circuit in graph_state_circuits:\n",
    "    circuit.measure_all()"
   ],
   "metadata": {
    "collapsed": false,
    "pycharm": {
     "name": "#%%\n"
    }
   }
  },
  {
   "cell_type": "code",
   "execution_count": 7,
   "outputs": [],
   "source": [
    "from src.tools.DD_insertion import pm_DD_sequences\n",
    "pms = pm_DD_sequences(durations)"
   ],
   "metadata": {
    "collapsed": false,
    "pycharm": {
     "name": "#%%\n"
    }
   }
  },
  {
   "cell_type": "code",
   "execution_count": 8,
   "outputs": [
    {
     "name": "stdout",
     "output_type": "stream",
     "text": [
      "if applied DD for None: False\n",
      "if applied DD for None: False\n",
      "if applied DD for None: True\n",
      "if applied DD for None: True\n",
      "if applied DD for None: True\n",
      "if applied DD for None: True\n",
      "if applied DD for None: False\n",
      "if applied DD for None: True\n",
      "if applied DD for None: True\n",
      "if applied DD for None: False\n",
      "628e25b0f559705bd3d5c6f9\n",
      "if applied DD for None: False\n",
      "if applied DD for None: False\n",
      "if applied DD for None: True\n",
      "if applied DD for None: True\n",
      "if applied DD for None: True\n",
      "if applied DD for None: True\n",
      "if applied DD for None: True\n",
      "if applied DD for None: True\n",
      "if applied DD for None: True\n",
      "if applied DD for None: True\n",
      "628e25b204d37422a865d6ea\n",
      "if applied DD for None: False\n",
      "if applied DD for None: False\n",
      "if applied DD for None: True\n",
      "if applied DD for None: True\n",
      "if applied DD for None: True\n",
      "if applied DD for None: True\n",
      "if applied DD for None: True\n",
      "if applied DD for None: True\n",
      "if applied DD for None: True\n",
      "if applied DD for None: True\n",
      "628e25b4e2745b027bd266cf\n",
      "if applied DD for None: False\n",
      "if applied DD for None: False\n",
      "if applied DD for None: True\n",
      "if applied DD for None: True\n",
      "if applied DD for None: True\n",
      "if applied DD for None: True\n",
      "if applied DD for None: True\n",
      "if applied DD for None: True\n",
      "if applied DD for None: True\n",
      "if applied DD for None: True\n",
      "628e25b6c7a7350423318793\n"
     ]
    }
   ],
   "source": [
    "bv_job_ids = []\n",
    "bv_jobs = []\n",
    "\n",
    "for circuit in bv_circuits:\n",
    "    circuit_list = []\n",
    "    transpiled_qc = transpile(circuit, backend=backend, optimization_level=3, seed_transpiler=1)\n",
    "    circuit_list.append(transpiled_qc)\n",
    "    for pm in pms:\n",
    "        qc_transpile = pm.run(transpiled_qc)\n",
    "        qc_transpile_base = translate_circuit_to_basis(qc_transpile, bconf)\n",
    "        circuit_list.append(qc_transpile_base)\n",
    "    job = backend.run(circuit_list, shots=8192)\n",
    "    bv_jobs.append(job)\n",
    "    job_id = job.job_id()\n",
    "    print(job_id)\n",
    "    bv_job_ids.append(job_id)"
   ],
   "metadata": {
    "collapsed": false,
    "pycharm": {
     "name": "#%%\n"
    }
   }
  },
  {
   "cell_type": "code",
   "execution_count": 9,
   "outputs": [
    {
     "name": "stdout",
     "output_type": "stream",
     "text": [
      "628e25b0f559705bd3d5c6f9\n",
      "628e25b204d37422a865d6ea\n",
      "628e25b4e2745b027bd266cf\n",
      "628e25b6c7a7350423318793\n"
     ]
    }
   ],
   "source": [
    "for job_id in bv_job_ids:\n",
    "    print(job_id)"
   ],
   "metadata": {
    "collapsed": false,
    "pycharm": {
     "name": "#%%\n"
    }
   }
  },
  {
   "cell_type": "code",
   "execution_count": null,
   "outputs": [],
   "source": [
    "from qiskit import execute\n",
    "\n",
    "shots = 8192\n",
    "psts = []\n",
    "bv_job_ids = [\n",
    "    '628e25b0f559705bd3d5c6f9',\n",
    "    '628e25b204d37422a865d6ea',\n",
    "    '628e25b4e2745b027bd266cf',\n",
    "    '628e25b6c7a7350423318793',\n",
    "\n",
    "\n",
    "]\n",
    "for i, circuit in enumerate(bv_circuits):\n",
    "    ideal_counts = execute(circuit, backend=Aer.get_backend('qasm_simulator'), shots=shots).result().get_counts()\n",
    "    ideal_result = list(ideal_counts.keys())[0]\n",
    "    result_counts = backend.retrieve_job(bv_job_ids[i]).result().get_counts()\n",
    "    pst = []\n",
    "    for result_count in result_counts:\n",
    "        pst.append(result_count[ideal_result]/shots)\n",
    "    psts.append(pst)\n",
    "\n",
    "bv_circuit_names = ['BV3', 'BV4', 'BV5', 'BV6']\n",
    "DD_sequences = ['no_dd', 'hahn_X', 'hahn_Y', 'CP', 'CPMG', 'xy4', 'xy8', 'xy16', 'udd1', 'udd2', 'kdd']\n",
    "bv_results_data = {}\n",
    "\n",
    "for i, name in enumerate(bv_circuit_names):\n",
    "    print(f'---------Result of circuit {name} -------------')\n",
    "    for j, pst in enumerate(psts[i]):\n",
    "        print(f'pst result of {DD_sequences[j]}: {pst}')\n",
    "    bv_results_data[name] = psts[i]"
   ],
   "metadata": {
    "collapsed": false,
    "pycharm": {
     "name": "#%%\n"
    }
   }
  },
  {
   "cell_type": "code",
   "execution_count": 10,
   "outputs": [
    {
     "name": "stdout",
     "output_type": "stream",
     "text": [
      "if applied DD for None: False\n",
      "if applied DD for None: False\n",
      "if applied DD for None: True\n",
      "if applied DD for None: True\n",
      "if applied DD for None: True\n",
      "if applied DD for None: True\n",
      "if applied DD for None: True\n",
      "if applied DD for None: True\n",
      "if applied DD for None: True\n",
      "if applied DD for None: True\n",
      "628e25f49fca8fff2c716b07\n",
      "if applied DD for None: False\n",
      "if applied DD for None: False\n",
      "if applied DD for None: True\n",
      "if applied DD for None: True\n",
      "if applied DD for None: True\n",
      "if applied DD for None: True\n",
      "if applied DD for None: True\n",
      "if applied DD for None: True\n",
      "if applied DD for None: True\n",
      "if applied DD for None: True\n",
      "628e25f6fdc452a94fb2b95c\n",
      "if applied DD for None: False\n",
      "if applied DD for None: False\n",
      "if applied DD for None: True\n",
      "if applied DD for None: True\n",
      "if applied DD for None: True\n",
      "if applied DD for None: True\n",
      "if applied DD for None: True\n",
      "if applied DD for None: True\n",
      "if applied DD for None: True\n",
      "if applied DD for None: True\n",
      "628e25fbf5597049d8d5c6fd\n",
      "if applied DD for None: False\n",
      "if applied DD for None: False\n",
      "if applied DD for None: True\n",
      "if applied DD for None: True\n",
      "if applied DD for None: True\n",
      "if applied DD for None: True\n",
      "if applied DD for None: True\n",
      "if applied DD for None: True\n",
      "if applied DD for None: True\n",
      "if applied DD for None: True\n",
      "628e2606732c39662fd68259\n"
     ]
    }
   ],
   "source": [
    "gs_job_ids = []\n",
    "gs_jobs = []\n",
    "\n",
    "for circuit in graph_state_circuits:\n",
    "    circuit_list = []\n",
    "    transpiled_qc = transpile(circuit, backend=backend, optimization_level=3, seed_transpiler=1)\n",
    "    circuit_list.append(transpiled_qc)\n",
    "    for pm in pms:\n",
    "        qc_transpile = pm.run(transpiled_qc)\n",
    "        qc_transpile_base = translate_circuit_to_basis(qc_transpile, bconf)\n",
    "        circuit_list.append(qc_transpile_base)\n",
    "    job = backend.run(circuit_list, shots=8192)\n",
    "    gs_jobs.append(job)\n",
    "    job_id = job.job_id()\n",
    "    print(job_id)\n",
    "    gs_job_ids.append(job_id)"
   ],
   "metadata": {
    "collapsed": false,
    "pycharm": {
     "name": "#%%\n"
    }
   }
  },
  {
   "cell_type": "code",
   "execution_count": 11,
   "outputs": [
    {
     "name": "stdout",
     "output_type": "stream",
     "text": [
      "628e25f49fca8fff2c716b07\n",
      "628e25f6fdc452a94fb2b95c\n",
      "628e25fbf5597049d8d5c6fd\n",
      "628e2606732c39662fd68259\n"
     ]
    }
   ],
   "source": [
    "for job_id in gs_job_ids:\n",
    "    print(job_id)"
   ],
   "metadata": {
    "collapsed": false,
    "pycharm": {
     "name": "#%%\n"
    }
   }
  },
  {
   "cell_type": "code",
   "execution_count": null,
   "outputs": [],
   "source": [
    "from scipy.spatial.distance import jensenshannon\n",
    "from qiskit import execute\n",
    "gs_jsds = []\n",
    "\n",
    "gs_job_ids = [\n",
    "    '628e25f49fca8fff2c716b07',\n",
    "    '628e25f6fdc452a94fb2b95c',\n",
    "    '628e25fbf5597049d8d5c6fd',\n",
    "    '628e2606732c39662fd68259',\n",
    "]\n",
    "\n",
    "\n",
    "shots = 8192\n",
    "\n",
    "for i, circuit in enumerate(graph_state_circuits):\n",
    "    ideal_counts = execute(circuit, backend=Aer.get_backend('qasm_simulator'), shots=shots).result().get_counts()\n",
    "    result_counts = backend.retrieve_job(gs_job_ids[i]).result().get_counts()\n",
    "    jsd = []\n",
    "    for result_count in result_counts:\n",
    "        p_ideal, p_result = convert_count_to_prob(result_count, ideal_counts, shots=shots)\n",
    "        jsd.append(jensenshannon(p_ideal, p_result))\n",
    "    gs_jsds.append(jsd)\n",
    "\n",
    "circuit_names = ['GS3', 'GS4', 'GS5', 'GS6',]\n",
    "DD_sequences = ['no_dd', 'hahn_X', 'hahn_Y', 'CP', 'CPMG', 'xy4', 'xy8', 'xy16', 'udd1', 'udd2', 'kdd']\n",
    "\n",
    "gs_results_data = {}\n",
    "\n",
    "for i, name in enumerate(circuit_names):\n",
    "    print(f'---------Result of circuit {name} -------------')\n",
    "    for j, jsd in enumerate(gs_jsds[i]):\n",
    "        print(f'jsd result of {DD_sequences[j]}: {jsd}')\n",
    "    gs_results_data[name] = gs_jsds[i]"
   ],
   "metadata": {
    "collapsed": false,
    "pycharm": {
     "name": "#%%\n"
    }
   }
  },
  {
   "cell_type": "code",
   "execution_count": 12,
   "outputs": [
    {
     "name": "stdout",
     "output_type": "stream",
     "text": [
      "if applied DD for None: False\n",
      "if applied DD for None: False\n",
      "if applied DD for None: True\n",
      "if applied DD for None: True\n",
      "if applied DD for None: True\n",
      "if applied DD for None: True\n",
      "if applied DD for None: True\n",
      "if applied DD for None: True\n",
      "if applied DD for None: True\n",
      "if applied DD for None: True\n",
      "628e262d41fd146849a417b0\n",
      "if applied DD for None: False\n",
      "if applied DD for None: False\n",
      "if applied DD for None: True\n",
      "if applied DD for None: True\n",
      "if applied DD for None: True\n",
      "if applied DD for None: True\n",
      "if applied DD for None: True\n",
      "if applied DD for None: True\n",
      "if applied DD for None: True\n",
      "if applied DD for None: True\n",
      "628e2638c7a735c91e318798\n",
      "if applied DD for None: False\n",
      "if applied DD for None: False\n",
      "if applied DD for None: True\n",
      "if applied DD for None: True\n",
      "if applied DD for None: True\n",
      "if applied DD for None: True\n",
      "if applied DD for None: True\n",
      "if applied DD for None: True\n",
      "if applied DD for None: True\n",
      "if applied DD for None: True\n",
      "628e263b9fca8fa94d716b0a\n",
      "if applied DD for None: False\n",
      "if applied DD for None: False\n",
      "if applied DD for None: True\n",
      "if applied DD for None: True\n",
      "if applied DD for None: True\n",
      "if applied DD for None: True\n",
      "if applied DD for None: True\n",
      "if applied DD for None: True\n",
      "if applied DD for None: True\n",
      "if applied DD for None: True\n",
      "628e264b9fca8feff8716b0b\n"
     ]
    }
   ],
   "source": [
    "qft_job_ids = []\n",
    "qft_jobs = []\n",
    "\n",
    "for circuit in qft_circuits:\n",
    "    circuit_list = []\n",
    "    transpiled_qc = transpile(circuit, backend=backend, optimization_level=3, seed_transpiler=1)\n",
    "    circuit_list.append(transpiled_qc)\n",
    "    for pm in pms:\n",
    "        qc_transpile = pm.run(transpiled_qc)\n",
    "        qc_transpile_base = translate_circuit_to_basis(qc_transpile, bconf)\n",
    "        circuit_list.append(qc_transpile_base)\n",
    "    job = backend.run(circuit_list, shots=8192)\n",
    "    qft_jobs.append(job)\n",
    "    job_id = job.job_id()\n",
    "    print(job_id)\n",
    "    qft_job_ids.append(job_id)"
   ],
   "metadata": {
    "collapsed": false,
    "pycharm": {
     "name": "#%%\n"
    }
   }
  },
  {
   "cell_type": "code",
   "execution_count": 13,
   "outputs": [
    {
     "name": "stdout",
     "output_type": "stream",
     "text": [
      "628e262d41fd146849a417b0\n",
      "628e2638c7a735c91e318798\n",
      "628e263b9fca8fa94d716b0a\n",
      "628e264b9fca8feff8716b0b\n"
     ]
    }
   ],
   "source": [
    "for job_id in qft_job_ids:\n",
    "    print(job_id)"
   ],
   "metadata": {
    "collapsed": false,
    "pycharm": {
     "name": "#%%\n"
    }
   }
  },
  {
   "cell_type": "code",
   "execution_count": null,
   "outputs": [],
   "source": [
    "from scipy.spatial.distance import jensenshannon\n",
    "qft_jsds = []\n",
    "\n",
    "qft_job_ids = [\n",
    "    '628e262d41fd146849a417b0',\n",
    "    '628e2638c7a735c91e318798',\n",
    "    '628e263b9fca8fa94d716b0a',\n",
    "    '628e264b9fca8feff8716b0b',\n",
    "]\n",
    "\n",
    "shots = 8192\n",
    "\n",
    "for i, circuit in enumerate(qft_circuits):\n",
    "    ideal_counts = execute(circuit, backend=Aer.get_backend('qasm_simulator'), shots=shots).result().get_counts()\n",
    "    result_counts = backend.retrieve_job(qft_job_ids[i]).result().get_counts()\n",
    "    jsd = []\n",
    "    for result_count in result_counts:\n",
    "        p_ideal, p_result = convert_count_to_prob(result_count, ideal_counts, shots=shots)\n",
    "        jsd.append(jensenshannon(p_ideal, p_result))\n",
    "    qft_jsds.append(jsd)\n",
    "\n",
    "circuit_names = ['QFT3', 'QFT4', 'QFT5', 'QFT6', ]\n",
    "DD_sequences = ['no_dd', 'hahn_X', 'hahn_Y', 'CP', 'CPMG', 'xy4', 'xy8', 'xy16', 'udd1', 'udd2', 'kdd']\n",
    "\n",
    "qft_results_data = {}\n",
    "\n",
    "for i, name in enumerate(circuit_names):\n",
    "    print(f'---------Result of circuit {name} -------------')\n",
    "    for j, jsd in enumerate(qft_jsds[i]):\n",
    "        print(f'jsd result of {DD_sequences[j]}: {jsd}')\n",
    "    qft_results_data[name] = qft_jsds[i]"
   ],
   "metadata": {
    "collapsed": false,
    "pycharm": {
     "name": "#%%\n"
    }
   }
  }
 ],
 "metadata": {
  "kernelspec": {
   "display_name": "Python 3",
   "language": "python",
   "name": "python3"
  },
  "language_info": {
   "codemirror_mode": {
    "name": "ipython",
    "version": 2
   },
   "file_extension": ".py",
   "mimetype": "text/x-python",
   "name": "python",
   "nbconvert_exporter": "python",
   "pygments_lexer": "ipython2",
   "version": "2.7.6"
  }
 },
 "nbformat": 4,
 "nbformat_minor": 0
}